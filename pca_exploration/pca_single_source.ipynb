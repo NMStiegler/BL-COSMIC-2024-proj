{
 "cells": [
  {
   "cell_type": "code",
   "execution_count": null,
   "metadata": {},
   "outputs": [],
   "source": [
    "# pca_single_source.ipynb\n",
    "# Noah Stiegler\n",
    "# 7/1/24\n",
    "# Exploring how the PCA works for just a single source"
   ]
  },
  {
   "cell_type": "markdown",
   "metadata": {},
   "source": [
    "## Setup"
   ]
  },
  {
   "cell_type": "code",
   "execution_count": 1,
   "metadata": {},
   "outputs": [],
   "source": [
    "# Import useful packages\n",
    "import numpy as np\n",
    "import matplotlib.pyplot as plt\n",
    "from matplotlib import cm\n",
    "import pandas as pd\n",
    "from astropy import units as u\n",
    "from astropy.coordinates import Angle\n",
    "from astropy.table import Table\n",
    "from astropy.time import Time\n",
    "from sklearn.preprocessing import StandardScaler\n",
    "from sklearn.decomposition import PCA"
   ]
  },
  {
   "cell_type": "code",
   "execution_count": 2,
   "metadata": {},
   "outputs": [],
   "source": [
    "# Read in the data\n",
    "\n",
    "# Check which server we're on (in case the data is in different places on different servers)\n",
    "import socket\n",
    "hostname = socket.gethostname()\n",
    "\n",
    "# Get paths to data\n",
    "if hostname == \"blpc1\":\n",
    "    full_dataset_path = \"/datax/scratch/nstieg/25GHz_higher.pkl\"\n",
    "    coherent_dataset_path = \"/datax/scratch/nstieg/25GHz_higher_coherent.pkl\"\n",
    "    incoherent_dataset_path = \"/datax/scratch/nstieg/25GHz_higher_incoherent.pkl\"\n",
    "else:\n",
    "    raise Exception(\"Data path not known\")\n",
    "\n",
    "# Read in data\n",
    "coherent = pd.read_pickle(coherent_dataset_path)\n",
    "# incoherent = pd.read_pickle(incoherent_dataset_path)\n",
    "# df = pd.read_pickle(full_dataset_path)"
   ]
  },
  {
   "cell_type": "code",
   "execution_count": null,
   "metadata": {},
   "outputs": [],
   "source": [
    "# Take only data from a single source"
   ]
  }
 ],
 "metadata": {
  "kernelspec": {
   "display_name": "cosmic",
   "language": "python",
   "name": "python3"
  },
  "language_info": {
   "codemirror_mode": {
    "name": "ipython",
    "version": 3
   },
   "file_extension": ".py",
   "mimetype": "text/x-python",
   "name": "python",
   "nbconvert_exporter": "python",
   "pygments_lexer": "ipython3",
   "version": "3.8.0"
  }
 },
 "nbformat": 4,
 "nbformat_minor": 2
}
