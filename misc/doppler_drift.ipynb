{
 "cells": [
  {
   "cell_type": "code",
   "execution_count": null,
   "metadata": {},
   "outputs": [],
   "source": [
    "# Calculate what the doppler drift would be for different frequencies \n",
    "# for transmitters traveling at different speeds and how that\n",
    "# compares to the COSMIC \n"
   ]
  },
  {
   "cell_type": "code",
   "execution_count": null,
   "metadata": {},
   "outputs": [],
   "source": [
    "circumference = 6400 * 1000\n",
    "s_in_day = 1 * 24 * 60 * 60"
   ]
  }
 ],
 "metadata": {
  "language_info": {
   "name": "python"
  }
 },
 "nbformat": 4,
 "nbformat_minor": 2
}
