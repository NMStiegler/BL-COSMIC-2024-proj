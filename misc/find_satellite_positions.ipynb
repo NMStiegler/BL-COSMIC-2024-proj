{
 "cells": [
  {
   "cell_type": "code",
   "execution_count": 1,
   "metadata": {},
   "outputs": [],
   "source": [
    "from skyfield.api import Topos, load, Star\n",
    "from skyfield.data import hipparcos\n",
    "import numpy as np\n",
    "import pandas as pd\n",
    "from astropy.time import Time"
   ]
  },
  {
   "cell_type": "code",
   "execution_count": 2,
   "metadata": {},
   "outputs": [],
   "source": [
    "# Check which server we're on (in case the data is in different places on different servers)\n",
    "import socket\n",
    "hostname = socket.gethostname()\n",
    "\n",
    "# Get paths to data\n",
    "if hostname == \"blpc1\" or hostname == \"blpc2\":\n",
    "    data_path = \"/datax/scratch/nstieg/\"\n",
    "elif hostname == \"cosmic-gpu-1\":\n",
    "    data_path = \"/mnt/cosmic-gpu-1/data0/nstiegle/\"\n",
    "else:\n",
    "    raise Exception(\"Data path not known\")\n",
    "\n",
    "# Load in coherent data\n",
    "coherent_full = pd.read_pickle(data_path + \"25GHz_higher_coherent_all_columns.pkl\")\n"
   ]
  },
  {
   "cell_type": "code",
   "execution_count": 3,
   "metadata": {},
   "outputs": [],
   "source": [
    "sources = coherent_full.groupby(\"source_name\")\n",
    "source_names = list(sources.groups.keys())\n",
    "first_source = sources.get_group(source_names[0])\n",
    "first_time_h = first_source.tstart_h.iloc[0]\n",
    "first_time = first_source.tstart.iloc[0]"
   ]
  },
  {
   "cell_type": "code",
   "execution_count": 4,
   "metadata": {},
   "outputs": [
    {
     "name": "stdout",
     "output_type": "stream",
     "text": [
      "2023-12-29T03:49:37Z\n"
     ]
    }
   ],
   "source": [
    "ts = load.timescale()\n",
    "t = ts.from_astropy(Time(first_time, format=\"mjd\"))\n",
    "print(t.utc_iso())"
   ]
  },
  {
   "cell_type": "code",
   "execution_count": 6,
   "metadata": {},
   "outputs": [
    {
     "data": {
      "text/plain": [
       "array(['2535280716217508992'], dtype=object)"
      ]
     },
     "execution_count": 6,
     "metadata": {},
     "output_type": "execute_result"
    }
   ],
   "source": [
    "first_source.source_name.unique()"
   ]
  },
  {
   "cell_type": "code",
   "execution_count": 5,
   "metadata": {},
   "outputs": [
    {
     "name": "stdout",
     "output_type": "stream",
     "text": [
      "[1.28913333]\n",
      "[0.944188]\n"
     ]
    }
   ],
   "source": [
    "print(first_source.ra_hours.unique())\n",
    "print(first_source.dec_degrees.unique())"
   ]
  },
  {
   "cell_type": "code",
   "execution_count": 38,
   "metadata": {},
   "outputs": [
    {
     "ename": "OSError",
     "evalue": "cannot download https://celestrak.org/NORAD/elements/active.txt because HTTP Error 404: Not Found",
     "output_type": "error",
     "traceback": [
      "\u001b[0;31m---------------------------------------------------------------------------\u001b[0m",
      "\u001b[0;31mOSError\u001b[0m                                   Traceback (most recent call last)",
      "Cell \u001b[0;32mIn[38], line 3\u001b[0m\n\u001b[1;32m      1\u001b[0m \u001b[38;5;66;03m# Load satellite TLE data\u001b[39;00m\n\u001b[1;32m      2\u001b[0m stations_url \u001b[38;5;241m=\u001b[39m \u001b[38;5;124m'\u001b[39m\u001b[38;5;124mhttps://celestrak.org/NORAD/elements/active.txt\u001b[39m\u001b[38;5;124m'\u001b[39m \u001b[38;5;66;03m# All active satellites NORAD tracks\u001b[39;00m\n\u001b[0;32m----> 3\u001b[0m satellites \u001b[38;5;241m=\u001b[39m \u001b[43mload\u001b[49m\u001b[38;5;241;43m.\u001b[39;49m\u001b[43mtle_file\u001b[49m\u001b[43m(\u001b[49m\u001b[43mstations_url\u001b[49m\u001b[43m)\u001b[49m\n",
      "File \u001b[0;32m~/.conda/envs/cosmic/lib/python3.8/site-packages/skyfield/iokit.py:273\u001b[0m, in \u001b[0;36mLoader.tle_file\u001b[0;34m(self, url, reload, filename, ts, skip_names)\u001b[0m\n\u001b[1;32m    257\u001b[0m \u001b[38;5;28;01mdef\u001b[39;00m \u001b[38;5;21mtle_file\u001b[39m(\u001b[38;5;28mself\u001b[39m, url, reload\u001b[38;5;241m=\u001b[39m\u001b[38;5;28;01mFalse\u001b[39;00m, filename\u001b[38;5;241m=\u001b[39m\u001b[38;5;28;01mNone\u001b[39;00m,\n\u001b[1;32m    258\u001b[0m              ts\u001b[38;5;241m=\u001b[39m\u001b[38;5;28;01mNone\u001b[39;00m, skip_names\u001b[38;5;241m=\u001b[39m\u001b[38;5;28;01mFalse\u001b[39;00m):\n\u001b[1;32m    259\u001b[0m \u001b[38;5;250m    \u001b[39m\u001b[38;5;124;03m\"\"\"Load and parse a TLE file, returning a list of Earth satellites.\u001b[39;00m\n\u001b[1;32m    260\u001b[0m \n\u001b[1;32m    261\u001b[0m \u001b[38;5;124;03m    Given a URL or local path to an ASCII text file, this loads a\u001b[39;00m\n\u001b[0;32m   (...)\u001b[0m\n\u001b[1;32m    271\u001b[0m \n\u001b[1;32m    272\u001b[0m \u001b[38;5;124;03m    \"\"\"\u001b[39;00m\n\u001b[0;32m--> 273\u001b[0m     \u001b[38;5;28;01mwith\u001b[39;00m \u001b[38;5;28;43mself\u001b[39;49m\u001b[38;5;241;43m.\u001b[39;49m\u001b[43mopen\u001b[49m\u001b[43m(\u001b[49m\u001b[43murl\u001b[49m\u001b[43m,\u001b[49m\u001b[43m \u001b[49m\u001b[43mreload\u001b[49m\u001b[38;5;241;43m=\u001b[39;49m\u001b[43mreload\u001b[49m\u001b[43m,\u001b[49m\u001b[43m \u001b[49m\u001b[43mfilename\u001b[49m\u001b[38;5;241;43m=\u001b[39;49m\u001b[43mfilename\u001b[49m\u001b[43m)\u001b[49m \u001b[38;5;28;01mas\u001b[39;00m f:\n\u001b[1;32m    274\u001b[0m         \u001b[38;5;28;01mreturn\u001b[39;00m \u001b[38;5;28mlist\u001b[39m(parse_tle_file(f, ts, skip_names))\n",
      "File \u001b[0;32m~/.conda/envs/cosmic/lib/python3.8/site-packages/skyfield/iokit.py:329\u001b[0m, in \u001b[0;36mLoader.open\u001b[0;34m(self, url, mode, reload, filename, backup)\u001b[0m\n\u001b[1;32m    326\u001b[0m \u001b[38;5;28;01mif\u001b[39;00m filename \u001b[38;5;129;01mis\u001b[39;00m \u001b[38;5;28;01mNone\u001b[39;00m:\n\u001b[1;32m    327\u001b[0m     filename \u001b[38;5;241m=\u001b[39m urlparse(url)\u001b[38;5;241m.\u001b[39mpath\u001b[38;5;241m.\u001b[39msplit(\u001b[38;5;124m'\u001b[39m\u001b[38;5;124m/\u001b[39m\u001b[38;5;124m'\u001b[39m)[\u001b[38;5;241m-\u001b[39m\u001b[38;5;241m1\u001b[39m]\n\u001b[0;32m--> 329\u001b[0m path \u001b[38;5;241m=\u001b[39m \u001b[38;5;28;43mself\u001b[39;49m\u001b[38;5;241;43m.\u001b[39;49m\u001b[43m_assure\u001b[49m\u001b[43m(\u001b[49m\u001b[43murl\u001b[49m\u001b[43m,\u001b[49m\u001b[43m \u001b[49m\u001b[43mfilename\u001b[49m\u001b[43m,\u001b[49m\u001b[43m \u001b[49m\u001b[43mreload\u001b[49m\u001b[43m,\u001b[49m\u001b[43m \u001b[49m\u001b[43mbackup\u001b[49m\u001b[43m)\u001b[49m\n\u001b[1;32m    330\u001b[0m \u001b[38;5;28;01mreturn\u001b[39;00m \u001b[38;5;28mopen\u001b[39m(path, mode)\n",
      "File \u001b[0;32m~/.conda/envs/cosmic/lib/python3.8/site-packages/skyfield/iokit.py:214\u001b[0m, in \u001b[0;36mLoader._assure\u001b[0;34m(self, url, filename, reload, backup)\u001b[0m\n\u001b[1;32m    211\u001b[0m         \u001b[38;5;28;01mraise\u001b[39;00m \u001b[38;5;167;01mValueError\u001b[39;00m(\u001b[38;5;124m'\u001b[39m\u001b[38;5;124mSkyfield does not know where to download \u001b[39m\u001b[38;5;132;01m{!r}\u001b[39;00m\u001b[38;5;124m'\u001b[39m\n\u001b[1;32m    212\u001b[0m                          \u001b[38;5;241m.\u001b[39mformat(filename))\n\u001b[1;32m    213\u001b[0m     \u001b[38;5;28mself\u001b[39m\u001b[38;5;241m.\u001b[39m_log(\u001b[38;5;124m'\u001b[39m\u001b[38;5;124m  Downloading \u001b[39m\u001b[38;5;132;01m{0}\u001b[39;00m\u001b[38;5;124m'\u001b[39m, url)\n\u001b[0;32m--> 214\u001b[0m     \u001b[43mdownload\u001b[49m\u001b[43m(\u001b[49m\u001b[43murl\u001b[49m\u001b[43m,\u001b[49m\u001b[43m \u001b[49m\u001b[43mpath\u001b[49m\u001b[43m,\u001b[49m\u001b[43m \u001b[49m\u001b[38;5;28;43mself\u001b[39;49m\u001b[38;5;241;43m.\u001b[39;49m\u001b[43mverbose\u001b[49m\u001b[43m,\u001b[49m\u001b[43m \u001b[49m\u001b[43mbackup\u001b[49m\u001b[38;5;241;43m=\u001b[39;49m\u001b[43mbackup\u001b[49m\u001b[43m)\u001b[49m\n\u001b[1;32m    215\u001b[0m \u001b[38;5;28;01mreturn\u001b[39;00m path\n",
      "File \u001b[0;32m~/.conda/envs/cosmic/lib/python3.8/site-packages/skyfield/iokit.py:525\u001b[0m, in \u001b[0;36mdownload\u001b[0;34m(url, path, verbose, blocksize, backup)\u001b[0m\n\u001b[1;32m    523\u001b[0m     e2 \u001b[38;5;241m=\u001b[39m \u001b[38;5;167;01mIOError\u001b[39;00m(\u001b[38;5;124m'\u001b[39m\u001b[38;5;124mcannot download \u001b[39m\u001b[38;5;132;01m{0}\u001b[39;00m\u001b[38;5;124m because \u001b[39m\u001b[38;5;132;01m{1}\u001b[39;00m\u001b[38;5;124m'\u001b[39m\u001b[38;5;241m.\u001b[39mformat(url, e))\n\u001b[1;32m    524\u001b[0m     e2\u001b[38;5;241m.\u001b[39m__cause__ \u001b[38;5;241m=\u001b[39m \u001b[38;5;28;01mNone\u001b[39;00m\n\u001b[0;32m--> 525\u001b[0m     \u001b[38;5;28;01mraise\u001b[39;00m e2\n\u001b[1;32m    527\u001b[0m \u001b[38;5;28;01mif\u001b[39;00m verbose \u001b[38;5;129;01mis\u001b[39;00m \u001b[38;5;28;01mNone\u001b[39;00m:\n\u001b[1;32m    528\u001b[0m     verbose \u001b[38;5;241m=\u001b[39m sys\u001b[38;5;241m.\u001b[39mstderr\u001b[38;5;241m.\u001b[39misatty()\n",
      "\u001b[0;31mOSError\u001b[0m: cannot download https://celestrak.org/NORAD/elements/active.txt because HTTP Error 404: Not Found"
     ]
    }
   ],
   "source": [
    "# Load satellite TLE data\n",
    "stations_url = 'https://celestrak.org/NORAD/elements/active.txt' # All active satellites NORAD tracks\n",
    "satellites = load.tle_file(stations_url)"
   ]
  },
  {
   "cell_type": "code",
   "execution_count": null,
   "metadata": {},
   "outputs": [],
   "source": [
    "\n",
    "# Load timescale and set the time of interest\n",
    "ts = load.timescale()\n",
    "t = ts.utc(2023, 7, 29, 3, 0)  # Change this to your desired date and time\n",
    "\n",
    "# Define the target RA/Dec\n",
    "target_ra = 150.0  # in degrees\n",
    "target_dec = 30.0  # in degrees\n",
    "tolerance = 0.5  # degrees, adjust as needed\n",
    "\n",
    "# Convert target RA/Dec to radians\n",
    "target_ra_rad = np.radians(target_ra)\n",
    "target_dec_rad = np.radians(target_dec)\n",
    "\n",
    "# Function to calculate the angular separation\n",
    "def angular_separation(ra1, dec1, ra2, dec2):\n",
    "    return np.arccos(np.sin(dec1) * np.sin(dec2) + np.cos(dec1) * np.cos(dec2) * np.cos(ra1 - ra2))\n",
    "\n",
    "# Iterate through each satellite and check its position\n",
    "for satellite in satellites:\n",
    "    geocentric = satellite.at(t)\n",
    "    ra, dec, distance = geocentric.radec()\n",
    "    \n",
    "    # Calculate the angular separation\n",
    "    separation = angular_separation(ra.radians, dec.radians, target_ra_rad, target_dec_rad)\n",
    "    \n",
    "    # Check if the satellite is within the tolerance\n",
    "    if np.degrees(separation) < tolerance:\n",
    "        print(f\"Satellite {satellite.name} is near the target RA/Dec at the given time.\")\n"
   ]
  }
 ],
 "metadata": {
  "kernelspec": {
   "display_name": "cosmic",
   "language": "python",
   "name": "python3"
  },
  "language_info": {
   "codemirror_mode": {
    "name": "ipython",
    "version": 3
   },
   "file_extension": ".py",
   "mimetype": "text/x-python",
   "name": "python",
   "nbconvert_exporter": "python",
   "pygments_lexer": "ipython3",
   "version": "3.8.0"
  }
 },
 "nbformat": 4,
 "nbformat_minor": 2
}
