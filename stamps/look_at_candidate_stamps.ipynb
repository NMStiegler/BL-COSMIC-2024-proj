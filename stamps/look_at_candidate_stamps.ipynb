{
 "cells": [
  {
   "cell_type": "markdown",
   "metadata": {},
   "source": [
    "### Setup"
   ]
  },
  {
   "cell_type": "code",
   "execution_count": 1,
   "metadata": {},
   "outputs": [
    {
     "name": "stderr",
     "output_type": "stream",
     "text": [
      "kj/filesystem-disk-unix.c++:1703: warning: PWD environment variable doesn't match current directory; pwd = /home/nstiegle\n"
     ]
    }
   ],
   "source": [
    "# Import packages needed\n",
    "import numpy as np\n",
    "import pandas as pd\n",
    "import pickle\n",
    "import os\n",
    "os.environ[\"H5PY_DEFAULT_READONLY\"] = \"1\" # Surpress h5py deprecation warnings\n",
    "import socket\n",
    "from datetime import datetime\n",
    "from seticore import viewer # If you don't have it, use pip install \"git+https://github.com/MydonSolutions/seticore#egg=seticore&subdirectory=python\"\n",
    "import matplotlib.pyplot as plt\n",
    "import setigen as stg\n",
    "from astropy import units as u\n",
    "\n",
    "%matplotlib inline\n",
    "%load_ext autoreload\n",
    "%autoreload 2\n"
   ]
  },
  {
   "cell_type": "code",
   "execution_count": 2,
   "metadata": {},
   "outputs": [],
   "source": [
    "# Read in candidate hits\n",
    "# candidates = pd.read_csv(\"/home/nstiegle/candidates.csv\")\n",
    "candidates = pd.read_csv(\"/home/nstiegle/candidates_indexed.csv\")"
   ]
  },
  {
   "cell_type": "markdown",
   "metadata": {},
   "source": [
    "### Generate indexed candidates"
   ]
  },
  {
   "cell_type": "code",
   "execution_count": 65,
   "metadata": {},
   "outputs": [],
   "source": [
    "# Look for the stamp in a single stamp file\n",
    "# Assumes the stamp_uri exists \n",
    "def find_stamp_in_single_file(stamp_uri, hit_frequency, threshold):\n",
    "    # Check each stamp in the file to see if it matches\n",
    "    stamps_gen = viewer.read_stamps(stamp_uri, find_recipe=True)\n",
    "    for i, stamp in enumerate(stamps_gen):\n",
    "        assert(stamp != None)\n",
    "        assert(stamp.recipe != None)\n",
    "        if abs(stamp.stamp.signal.frequency - hit_frequency) < threshold*1e-6:\n",
    "            # Found the stamp!\n",
    "            return i, stamp\n",
    "    \n",
    "    # Didn't find the stamp in this whole file of stamps\n",
    "    return None, None\n",
    "\n",
    "# Given a stamp_uri, increments the index of the stamp file by one (so if it's /.../...seticore.0000.stamps it goes to /.../...seticore.0001.stamps)\n",
    "def increment_stamp_uri(stamp_uri):\n",
    "    split_uri = stamp_uri.split('.')\n",
    "    assert(split_uri[-1] == 'stamps')\n",
    "    num = int(split_uri[-2])\n",
    "    num += 1\n",
    "    split_uri[-2] = str(num).zfill(4)\n",
    "    return \".\".join(split_uri)\n",
    "\n",
    "# Finds where the stamp of a given hit is\n",
    "# Takes:\n",
    "# - stamp URI (of stamp file)\n",
    "# - the frequency the hit occurred at\n",
    "# - The width of the stamp file (distance in Hz from center of stamp file to hit_frequency to call hit in stamp file)\n",
    "# Returns stamp_uri, index_in_stamp_file if found, otherwise None, None\n",
    "def find_stamp_location_helper(stamp_uri, hit_frequency, threshold):\n",
    "    # Check stamp file passed in exists\n",
    "    if not os.path.exists(stamp_uri):\n",
    "        return None, None\n",
    "    \n",
    "    # Look for stamp in the stamp file given\n",
    "    index, stamp = find_stamp_in_single_file(stamp_uri, hit_frequency, threshold)\n",
    "    if (index != None) and (stamp != None):\n",
    "        return stamp_uri, index\n",
    "    else:\n",
    "        # Check if there's another stamp file (because stamps can get split up into multiple files)\n",
    "        return find_stamp_location_helper(increment_stamp_uri(stamp_uri), hit_frequency, threshold)\n",
    "\n",
    "# Finds where the stamp of a given hit is\n",
    "# Takes:\n",
    "# - hit URI (of .hits file)\n",
    "# - the frequency the hit occurred at\n",
    "# - The width of the stamp file (distance in Hz from center of stamp file to hit_frequency to call hit in stamp file)\n",
    "# Returns stamp_uri, index_in_stamp_file if found, otherwise None, None\n",
    "def find_stamp_location(hit_uri, hit_frequency, threshold=500):\n",
    "    # Convert a filepath from pointing to a .hits\n",
    "    # to a .stamps file for the same uri\n",
    "    # If given a .stamps ending, doesn't change it\n",
    "    def stamp_filepath_of(hits_filepath):\n",
    "        return hits_filepath.replace('.hits', '.0000.stamps')\n",
    "\n",
    "    return find_stamp_location_helper(stamp_filepath_of(hit_uri), hit_frequency, threshold)"
   ]
  },
  {
   "cell_type": "code",
   "execution_count": 10,
   "metadata": {},
   "outputs": [],
   "source": [
    "\n",
    "\n",
    "# # Setup for multiprocessing\n",
    "# import multiprocessing\n",
    "# # Check if we need to remake the inputs array\n",
    "# try:\n",
    "#     assert(len(inputs) == len(candidates))\n",
    "# except:\n",
    "#     # Use multiprocessing to find the stamp files and the stamp indices for each candidate hit\n",
    "#     inputs = [(candidates.iloc[i].file_uri, candidates.iloc[i].signal_frequency) for i in range(len(candidates))]\n",
    "# p = multiprocessing.Pool() \n",
    "\n",
    "# # Run algorithm with multiprocessing\n",
    "# results = p.starmap(find_stamp_location, inputs)\n",
    "\n",
    "# # Save results (array of (stamp_uri, index) tuples)\n",
    "# results = np.array(results)\n",
    "# stamp_uris = results[:, 0]\n",
    "# stamp_indices = results[:, 1]\n",
    "# candidates[\"stamp_uri\"] = stamp_uris\n",
    "# candidates[\"stamp_index\"] = stamp_indices\n",
    "# candidates.to_csv(\"/home/nstiegle/candidates_indexed.csv\")"
   ]
  },
  {
   "cell_type": "markdown",
   "metadata": {},
   "source": [
    "### Make stamp pngs for each stamp"
   ]
  },
  {
   "cell_type": "code",
   "execution_count": 85,
   "metadata": {},
   "outputs": [],
   "source": [
    "import multiprocessing\n",
    "\n",
    "inputs = [(row.stamp_uri, row.stamp_index, row.source_name, row.id) for i, row in candidates.iterrows()]\n",
    "\n",
    "def plot_stamp(stamp_uri, stamp_index, source_name, id):\n",
    "    # Get the part of the stamp uri after the first / and up to \n",
    "    def interesting_part_of_stamp_uri(stamp_uri):\n",
    "        return \".\".join(\"\".join(stamp_uri.split('/')[-1]).split(\".\")[:-1])\n",
    "    \n",
    "    # Get the name and path of where to save these pngs\n",
    "    data_dir = \"/mnt/cosmic-gpu-1/data0/nstiegle/candidate_plots/\"\n",
    "    filename = f\"stamp_{interesting_part_of_stamp_uri(stamp_uri)}_{stamp_index}\"\n",
    "    path_to_save_to = data_dir + filename\n",
    "    \n",
    "    # Get the stamps\n",
    "    stamps = [stamp for stamp in viewer.read_stamps(stamp_uri, find_recipe=True)]\n",
    "    stamp = stamps[stamp_index]\n",
    "\n",
    "    # Make the plots\n",
    "    title =  f\"file {interesting_part_of_stamp_uri(stamp_uri)} index {stamp_index}\\n\"\n",
    "    title += f\"Source: {source_name} ID: {id}\\n\"\n",
    "    title += f\"Freq: {stamp.stamp.signal.frequency} DR: {stamp.stamp.signal.driftRate} SNR: {stamp.stamp.signal.snr}\"\n",
    "    stamp.show_antennas(save_to=path_to_save_to + f\"_antennas.png\", title=title + ' antennas')\n",
    "    try:\n",
    "        stamp.show_best_beam(save_to=path_to_save_to + f\"_coherent.png\", title=title + ' coherent')\n",
    "    except:\n",
    "        stamp.show_beam(0, save_to=path_to_save_to + f\"_coherent.png\", title=title + ' coherent')\n",
    "    stamp.show_classic_incoherent(save_to=path_to_save_to + f\"_incoherent.png\", title=title + ' incoherent')\n",
    "\n",
    "\n",
    "p = multiprocessing.Pool() \n",
    "\n",
    "# Run algorithm with multiprocessing\n",
    "results = p.starmap(plot_stamp, inputs)"
   ]
  },
  {
   "cell_type": "markdown",
   "metadata": {},
   "source": [
    "### Look at the promising candidates (from investigating the stamps)"
   ]
  },
  {
   "cell_type": "code",
   "execution_count": 4,
   "metadata": {},
   "outputs": [],
   "source": [
    "# List of indices of antennas that weren't SARFI from visual inspection\n",
    "promising_indices = [147, 196, 222, 241, 288, 325, 350, 382, 386, 442, 451, 457]\n",
    "pcs = candidates.iloc[promising_indices]"
   ]
  },
  {
   "cell_type": "code",
   "execution_count": 6,
   "metadata": {},
   "outputs": [],
   "source": []
  },
  {
   "cell_type": "code",
   "execution_count": null,
   "metadata": {},
   "outputs": [],
   "source": []
  }
 ],
 "metadata": {
  "kernelspec": {
   "display_name": "stamp_viewer",
   "language": "python",
   "name": "python3"
  },
  "language_info": {
   "codemirror_mode": {
    "name": "ipython",
    "version": 3
   },
   "file_extension": ".py",
   "mimetype": "text/x-python",
   "name": "python",
   "nbconvert_exporter": "python",
   "pygments_lexer": "ipython3",
   "version": "3.7.8"
  }
 },
 "nbformat": 4,
 "nbformat_minor": 2
}
