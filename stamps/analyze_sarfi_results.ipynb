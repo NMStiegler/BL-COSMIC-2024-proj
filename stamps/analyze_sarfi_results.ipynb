{
 "cells": [
  {
   "cell_type": "code",
   "execution_count": 1,
   "metadata": {},
   "outputs": [],
   "source": [
    "# Import regular packages\n",
    "import matplotlib.pyplot as plt\n",
    "import numpy as np\n",
    "import pandas as pd\n",
    "# import seaborn as sns\n",
    "import pickle\n",
    "import itertools\n",
    "from datetime import datetime\n",
    "from astropy.time import Time\n",
    "import os"
   ]
  },
  {
   "cell_type": "code",
   "execution_count": 3,
   "metadata": {},
   "outputs": [],
   "source": [
    "ckpt_dir = \"/mnt/cosmic-gpu-1/data0/nstiegle/representative_samples/1in25_targets_ckpts/\"\n",
    "filename = \"1in25_targets_ckpt63000.npy\"\n",
    "ckpt_file = ckpt_dir + filename\n",
    "checkpoint = np.load(ckpt_file, allow_pickle=True)\n",
    "all_snrs = checkpoint[:, 0]\n",
    "all_signals = checkpoint[:, 1]"
   ]
  },
  {
   "cell_type": "code",
   "execution_count": 6,
   "metadata": {},
   "outputs": [
    {
     "name": "stdout",
     "output_type": "stream",
     "text": [
      "63001\n",
      "The checkpoint is from 63000, so it makes sense that everything after that isn't assigned yet (None)\n"
     ]
    }
   ],
   "source": [
    "# Figure out how far it got\n",
    "# Figure out what number to start at\n",
    "def find_first_none(array):\n",
    "    for i, item in enumerate(array):\n",
    "        if type(item) == type(None):\n",
    "            return i\n",
    "\n",
    "first_none_snrs = find_first_none(all_snrs)\n",
    "first_none_signals = find_first_none(all_signals)\n",
    "assert(all_snrs[first_none_snrs] == None)\n",
    "assert(all_signals[first_none_signals] == None)\n",
    "assert(first_none_snrs == first_none_signals)\n",
    "first_none = first_none_snrs\n",
    "print(first_none)\n",
    "print(f\"The checkpoint is from 63000, so it makes sense that everything after that isn't assigned yet (None)\")\n",
    "last_good = first_none - 1"
   ]
  },
  {
   "cell_type": "code",
   "execution_count": 7,
   "metadata": {},
   "outputs": [
    {
     "name": "stdout",
     "output_type": "stream",
     "text": [
      "Of 63001 run antenna signals, 0 entries are [] (leaving 63001 actual values, 100.0%)\n"
     ]
    }
   ],
   "source": [
    "# So a better question is how many are [] (rows that couldn't find stamps)\n",
    "# and why that's the case\n",
    "snrs_are_empty = np.array([type(entry) == type([]) for entry in all_snrs[:first_none]])\n",
    "signals_are_empty = np.array([type(entry) == type([]) for entry in all_signals[:first_none]])\n",
    "assert(np.array_equal(snrs_are_empty, signals_are_empty)) # So if one is empty the other is empty as expected\n",
    "num_entries = len(snrs_are_empty)\n",
    "num_empty = sum(snrs_are_empty)\n",
    "num_full =  num_entries - num_empty\n",
    "print(f\"Of {num_entries} run antenna signals, {num_empty} entries are [] (leaving {num_full} actual values, {round(num_full / num_entries * 100, 3)}%)\")"
   ]
  },
  {
   "cell_type": "code",
   "execution_count": null,
   "metadata": {},
   "outputs": [],
   "source": []
  }
 ],
 "metadata": {
  "kernelspec": {
   "display_name": "pulsar",
   "language": "python",
   "name": "python3"
  },
  "language_info": {
   "codemirror_mode": {
    "name": "ipython",
    "version": 3
   },
   "file_extension": ".py",
   "mimetype": "text/x-python",
   "name": "python",
   "nbconvert_exporter": "python",
   "pygments_lexer": "ipython3",
   "version": "3.10.14"
  }
 },
 "nbformat": 4,
 "nbformat_minor": 2
}
