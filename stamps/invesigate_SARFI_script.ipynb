{
 "cells": [
  {
   "cell_type": "markdown",
   "metadata": {},
   "source": [
    "So I just ran the find_SARFI.py script for the first time. It ran overnight but kept throwing errors like:"
   ]
  },
  {
   "cell_type": "code",
   "execution_count": null,
   "metadata": {},
   "outputs": [],
   "source": [
    "# ... terminal ends\n",
    "# Row 194919 couldn't find a stamp file :/\n",
    "# ... many lines of exactly the same thing\n",
    "# Row 196081 couldn't find a stamp file :/\n",
    "# Row 196082 couldn't find a stamp file :/\n",
    "# Row 196083 couldn't find a stamp file :/\n",
    "# Row 196084 couldn't find a stamp file :/\n",
    "# Row 196085 couldn't find a stamp file :/\n",
    "# Row 196086 couldn't find a stamp file :/\n",
    "# Row 196087 couldn't find a stamp file :/\n",
    "# Row 196088 couldn't find a stamp file :/\n",
    "# Row 196089 couldn't find a stamp file :/\n",
    "# Row 196090 couldn't find a stamp file :/\n",
    "# Row 196091 couldn't find a stamp file :/\n",
    "# Row 196093 couldn't find a stamp file :/\n",
    "# Row 196094 couldn't find a stamp file :/\n",
    "# Row 196095 couldn't find a stamp file :/\n",
    "# Row 196096 couldn't find a stamp file :/\n",
    "# Row 196097 couldn't find a stamp file :/\n",
    "# Row 196099 couldn't find a stamp file :/\n",
    "# Row 196100 couldn't find a stamp file :/\n",
    "# Row 196101 couldn't find a stamp file :/\n",
    "# Row 196102 couldn't find a stamp file :/\n",
    "# Row 196103 couldn't find a stamp file :/\n",
    "# Row 196104 couldn't find a stamp file :/"
   ]
  },
  {
   "cell_type": "markdown",
   "metadata": {},
   "source": [
    "Then it finished with the error:"
   ]
  },
  {
   "cell_type": "code",
   "execution_count": null,
   "metadata": {},
   "outputs": [],
   "source": [
    "# Traceback (most recent call last):\n",
    "#   File \"find_SARFI.py\", line 166, in <module>\n",
    "#     stamp = find_stamp_of_hit(row.file_uri, row.signal_frequency)\n",
    "#   File \"find_SARFI.py\", line 120, in find_stamp_of_hit\n",
    "#     for stamp in stamps_gen:\n",
    "#   File \"/home/nstiegle/miniforge3/envs/stamp_viewer/lib/python3.7/site-packages/seticore/viewer.py\", line 684, in read_stamps\n",
    "#     with open(filepath) as f:\n",
    "# FileNotFoundError: [Errno 2] No such file or directory: '/mnt/cosmic-storage-2/data2/vla_target/23B-169.sb44841813.eb44870447.60285.9953211574/23B-169.sb44841813.eb4487"
   ]
  },
  {
   "cell_type": "markdown",
   "metadata": {},
   "source": [
    "So I want to investigate why it couldn't find the stamps in the stamp files for these rows and also why it couldn't find the stamp file for the row that crashed it"
   ]
  },
  {
   "cell_type": "code",
   "execution_count": 13,
   "metadata": {},
   "outputs": [],
   "source": [
    "# Import packages needed\n",
    "import numpy as np\n",
    "import pandas as pd\n",
    "import pickle\n",
    "import os\n",
    "import socket\n",
    "import argparse\n",
    "from datetime import datetime\n",
    "from seticore import viewer # If you don't have it, use pip install \"git+https://github.com/MydonSolutions/seticore#egg=seticore&subdirectory=python\"\n",
    "import matplotlib.pyplot as plt"
   ]
  },
  {
   "cell_type": "code",
   "execution_count": 2,
   "metadata": {},
   "outputs": [],
   "source": [
    "# Read in hits data\n",
    "df = pd.read_csv(\"/home/nstiegle/BL-COSMIC-2024-proj/stamps/representative_samples/1in25_targets.csv\")"
   ]
  },
  {
   "cell_type": "code",
   "execution_count": 7,
   "metadata": {},
   "outputs": [],
   "source": [
    "# Read in laest checkpoint\n",
    "checkpoint_file = \"/home/nstiegle/BL-COSMIC-2024-proj/stamps/representative_samples/1in25_targets_ckpts/1in25_targets_ckpt196000.npy\"\n",
    "checkpoint = np.load(checkpoint_file, allow_pickle=True)\n",
    "all_snrs = checkpoint[:, 0]\n",
    "all_signals = checkpoint[:, 1]"
   ]
  },
  {
   "cell_type": "code",
   "execution_count": 35,
   "metadata": {},
   "outputs": [
    {
     "name": "stdout",
     "output_type": "stream",
     "text": [
      "The checkpoint is from 196000, so it makes sense that everything after that isn't assigned yet (None)\n"
     ]
    }
   ],
   "source": [
    "# Figure out how far it got\n",
    "# Figure out what number to start at\n",
    "def find_first_none(array):\n",
    "    for i, item in enumerate(array):\n",
    "        if type(item) == type(None):\n",
    "            return i\n",
    "\n",
    "first_none_snrs = find_first_none(all_snrs)\n",
    "first_none_signals = find_first_none(all_signals)\n",
    "assert(all_snrs[first_none_snrs] == None)\n",
    "assert(all_signals[first_none_signals] == None)\n",
    "assert(first_none_snrs == first_none_signals)\n",
    "first_none = first_none_snrs\n",
    "print(f\"The checkpoint is from 196000, so it makes sense that everything after that isn't assigned yet (None)\")\n",
    "last_good = first_none - 1"
   ]
  },
  {
   "cell_type": "code",
   "execution_count": null,
   "metadata": {},
   "outputs": [],
   "source": [
    "# This makes sense from looking at the errors around 196001:\n",
    "#\n",
    "# Row 195999 couldn't find a stamp file :/\n",
    "# On target 196000 at 2024-07-25 09:18:24.921711. Saving progress\n",
    "# Done intermediate save for target 196000 at 2024-07-25 09:18:25.895863\n",
    "# Row 196002 couldn't find a stamp file :/ \n",
    "#\n",
    "# Notice how there's an error for 196599 and 196002 but not 196000 or 196001\n",
    "# it's just that 196001 didn't get saved"
   ]
  },
  {
   "cell_type": "code",
   "execution_count": 47,
   "metadata": {},
   "outputs": [
    {
     "name": "stdout",
     "output_type": "stream",
     "text": [
      "Of 196001 run antenna signals, 132439 entries are [] (leaving 63562 actual values, 32.429%)\n"
     ]
    }
   ],
   "source": [
    "# So a better question is how many are [] (rows that couldn't find stamps)\n",
    "# and why that's the case\n",
    "snrs_are_empty = np.array([type(entry) == type([]) for entry in all_snrs[:first_none]])\n",
    "signals_are_empty = np.array([type(entry) == type([]) for entry in all_signals[:first_none]])\n",
    "assert(np.array_equal(snrs_are_empty, signals_are_empty)) # So if one is empty the other is empty as expected\n",
    "num_entries = len(snrs_are_empty)\n",
    "num_empty = sum(snrs_are_empty)\n",
    "num_full =  num_entries - num_empty\n",
    "print(f\"Of {num_entries} run antenna signals, {num_empty} entries are [] (leaving {num_full} actual values, {round(num_full / num_entries * 100, 3)}%)\")"
   ]
  },
  {
   "cell_type": "code",
   "execution_count": 102,
   "metadata": {},
   "outputs": [
    {
     "name": "stdout",
     "output_type": "stream",
     "text": [
      "Investigating the first row with a []\n",
      "source 3127348761205770496\n",
      "frequency 42279.70805240249 MHz\n"
     ]
    }
   ],
   "source": [
    "# Let's investigate the first time it gives us a []\n",
    "print(\"Investigating the first row with a []\")\n",
    "index_of_first_empty = np.where(signals_are_empty)[0][0]\n",
    "first_empty_row = df.iloc[index_of_first_empty]\n",
    "row_before_first_empty_row = df.iloc[index_of_first_empty - 1]\n",
    "print(\"source\", first_empty_row.source_name)\n",
    "print(\"frequency\", first_empty_row.signal_frequency, \"MHz\")"
   ]
  },
  {
   "cell_type": "code",
   "execution_count": 75,
   "metadata": {},
   "outputs": [
    {
     "name": "stdout",
     "output_type": "stream",
     "text": [
      "What changed from the last row to this row?\n",
      "The items which changed from the last row to this row are Index(['Unnamed: 0', 'id', 'beam_id', 'subband_offset', 'file_uri',\n",
      "       'file_local_enumeration', 'signal_frequency', 'signal_index',\n",
      "       'signal_snr', 'signal_coarse_channel', 'signal_beam', 'signal_power',\n",
      "       'signal_incoherent_power', 'source_name', 'fch1_mhz', 'ra_hours',\n",
      "       'dec_degrees', 'coarse_channel', 'start_channel'],\n",
      "      dtype='object')\n",
      "Comparing file_uri\n",
      "816 BD.C704\n",
      "815 BD.C0\n",
      "814 BD.C416\n",
      "\n",
      "Comparing source_name\n",
      "816 3127348761205770496\n",
      "815 3127348761205770496\n",
      "814 Incoherent\n",
      "\n",
      "Comparing ra_hours\n",
      "816 6.789733333333333\n",
      "815 6.789733333333333\n",
      "814 6.789705555628406\n",
      "\n",
      "Comparing dec_degrees\n",
      "816 3.27776\n",
      "815 3.27776\n",
      "814 3.279072222883132\n",
      "\n"
     ]
    }
   ],
   "source": [
    "# Looking at things which changed from the last row to this row\n",
    "print(\"What changed from the last row to this row?\")\n",
    "print(\"The items which changed from the last row to this row are\", first_empty_row.index[~(first_empty_row == row_before_first_empty_row)])\n",
    "\n",
    "# Print the useful part of the file path\n",
    "def print_path_end(file_uri):\n",
    "    return \".\".join(file_uri.split(\"/\")[-1].split(\".\")[-6:-4])\n",
    "\n",
    "# Compare things bewteen rows\n",
    "def compare_rows(rows, col_name):\n",
    "    print(\"Comparing\", col_name)\n",
    "    # Print special for URI so it's not quite as long\n",
    "    if col_name == \"file_uri\":\n",
    "        for row in rows:\n",
    "            print(row, print_path_end(df.iloc[row][col_name]))\n",
    "    else:\n",
    "        for row in rows:\n",
    "            print(row, df.iloc[row][col_name])\n",
    "    print()\n",
    "\n",
    "compare_rows([index_of_first_empty + 1, index_of_first_empty, index_of_first_empty - 1], \"file_uri\")\n",
    "compare_rows([index_of_first_empty + 1, index_of_first_empty, index_of_first_empty - 1], \"source_name\")\n",
    "compare_rows([index_of_first_empty + 1, index_of_first_empty, index_of_first_empty - 1], \"ra_hours\")\n",
    "compare_rows([index_of_first_empty + 1, index_of_first_empty, index_of_first_empty - 1], \"dec_degrees\")\n",
    "\n",
    "print(\"So it's right when it switches targets\")"
   ]
  },
  {
   "cell_type": "code",
   "execution_count": 108,
   "metadata": {},
   "outputs": [
    {
     "name": "stdout",
     "output_type": "stream",
     "text": [
      "We're going to investigate what is in the stamps file for the one it couldn't find the hit of\n",
      "There are (500,) stamps in the file\n",
      "The minimum difference between the frequency of the hit and the frequency of the stamp is 25.38838195801509 MHz\n",
      "Did the hit point to the right file?\n",
      "Well there are 2473 hits which have the same URI\n"
     ]
    }
   ],
   "source": [
    "# What's in that file?\n",
    "print(\"We're going to investigate what is in the stamps file for the one it couldn't find the hit of\")\n",
    "\n",
    "# Convert a filepath from pointing to a .hits\n",
    "# to a .stamps file for the same uri\n",
    "# If given a .stamps ending, doesn't change it\n",
    "def stamp_filepath_of(hits_filepath):\n",
    "    return hits_filepath.replace('.hits', '.0000.stamps')\n",
    "\n",
    "assert(os.path.exists(stamp_filepath_of(first_empty_row.file_uri)))\n",
    "stamps_gen = viewer.read_stamps(stamp_filepath_of(first_empty_row.file_uri))\n",
    "stamps_frequencies = np.array([stamp.stamp.signal.frequency for stamp in stamps_gen])\n",
    "print(\"There are\", stamps_frequencies.shape, \"stamps in the file\")\n",
    "print(\"The minimum difference between the frequency of the hit and the frequency of the stamp is\", abs(stamps_frequencies - first_empty_row.signal_frequency).min(), \"MHz\")\n",
    "print(\"Did the hit point to the right file?\")\n",
    "print(\"Well there are 2473 hits which have the same URI\")"
   ]
  },
  {
   "cell_type": "code",
   "execution_count": null,
   "metadata": {},
   "outputs": [],
   "source": [
    "# And this is what the folder looks like. Turns out there can be multiple stamps files if there are too many to all fit in one\n",
    "# I'll adjust the routine to look for the next stamp file if it doesn't find the stamps in the right one\n",
    "#\n",
    "# -rw-r--r--  1 cosmic cosmic  130K Sep 25  2023 23A-362.sb43789194.eb44583327.60212.544836180554.23.1.BD.C0.0000.bfr5\n",
    "# -rw-r--r--  1 cosmic cosmic   13K Sep 25  2023 23A-362.sb43789194.eb44583327.60212.544836180554.23.1.BD.C0.0000.raw.blade.stdout.txt\n",
    "# -rw-r--r--  1 cosmic cosmic  1.4G Sep 25  2023 23A-362.sb43789194.eb44583327.60212.544836180554.23.1.BD.C0.0000.raw.seticore.0000.stamps\n",
    "# -rw-r--r--  1 cosmic cosmic  1.4G Sep 25  2023 23A-362.sb43789194.eb44583327.60212.544836180554.23.1.BD.C0.0000.raw.seticore.0001.stamps\n",
    "# -rw-r--r--  1 cosmic cosmic  1.4G Sep 25  2023 23A-362.sb43789194.eb44583327.60212.544836180554.23.1.BD.C0.0000.raw.seticore.0002.stamps\n",
    "# -rw-r--r--  1 cosmic cosmic  1.4G Sep 25  2023 23A-362.sb43789194.eb44583327.60212.544836180554.23.1.BD.C0.0000.raw.seticore.0003.stamps\n",
    "# -rw-r--r--  1 cosmic cosmic  492M Sep 25  2023 23A-362.sb43789194.eb44583327.60212.544836180554.23.1.BD.C0.0000.raw.seticore.0004.stamps\n",
    "# -rw-r--r--  1 cosmic cosmic   13M Sep 25  2023 23A-362.sb43789194.eb44583327.60212.544836180554.23.1.BD.C0.0000.raw.seticore.hits"
   ]
  },
  {
   "cell_type": "code",
   "execution_count": 143,
   "metadata": {},
   "outputs": [
    {
     "name": "stderr",
     "output_type": "stream",
     "text": [
      "/home/nstiegle/miniforge3/envs/stamp_viewer/lib/python3.7/site-packages/seticore/viewer.py:125: H5pyDeprecationWarning: The default file mode will change to 'r' (read-only) in h5py 3.0. To suppress this warning, pass the mode you need to h5py.File(), or set the global default h5.get_config().default_file_mode, or set the environment variable H5PY_DEFAULT_READONLY=1. Available modes are: 'r', 'r+', 'w', 'w-'/'x', 'a'. See the docs for details.\n",
      "  self.h5 = h5py.File(filepath)\n"
     ]
    },
    {
     "name": "stdout",
     "output_type": "stream",
     "text": [
      "Looking in 0001\n",
      "Looking in 0002\n",
      "Looking in 0003\n",
      "Looking in 0004\n"
     ]
    },
    {
     "data": {
      "text/plain": [
       "<seticore.viewer.Stamp at 0x7f4186abf390>"
      ]
     },
     "execution_count": 143,
     "metadata": {},
     "output_type": "execute_result"
    }
   ],
   "source": [
    "# Do the search on this stamp\n",
    "def revised_find_stamp_of_hit(hit_uri, hit_frequency, threshold=500):\n",
    "    # Look for stamp in the 0000 stamp file\n",
    "    stamp = find_stamp_of_hit(hit_uri, hit_frequency, threshold)\n",
    "    \n",
    "    # Given a stamp_uri, increments the index of the stamp file by one (so if it's /.../...seticore.0000.stamps it goes to /.../...seticore.0001.stamps)\n",
    "    def increment_stamp_uri(stamp_uri):\n",
    "        split_uri = stamp_uri.split('.')\n",
    "        assert(split_uri[-1] == 'stamps')\n",
    "        num = int(split_uri[-2])\n",
    "        num += 1\n",
    "        split_uri[-2] = str(num).zfill(4)\n",
    "        return \".\".join(split_uri)\n",
    "    \n",
    "    # If not found in 0000 stamp file, look for it in the 0001 etc stamp files\n",
    "    # until we either find it or run out of files\n",
    "    stamp_uri = increment_stamp_uri(stamp_filepath_of(hit_uri))\n",
    "    while (stamp == None) and (os.path.exists(stamp_uri)):\n",
    "        print(\"Looking in\", stamp_uri.split('.')[-2])\n",
    "        stamp = find_stamp_of_hit(stamp_uri, hit_frequency, threshold)\n",
    "        stamp_uri = increment_stamp_uri(stamp_uri)\n",
    "\n",
    "    # If we've found the stamp or run out of files, return it\n",
    "    return stamp\n",
    "\n",
    "revised_find_stamp_of_hit(first_empty_row.file_uri, first_empty_row.signal_frequency)"
   ]
  },
  {
   "cell_type": "code",
   "execution_count": 118,
   "metadata": {},
   "outputs": [
    {
     "name": "stdout",
     "output_type": "stream",
     "text": [
      "(500,)\n",
      "1 signal within 1e-7 in the stamp file\n"
     ]
    }
   ],
   "source": [
    "# What happened with the one the script failed on?\n",
    "# That would be row 196104 + 1 = 196105 I think\n",
    "# Unless 105 worked and then it kept working till it failed\n",
    "# Let's check\n",
    "# Error was from file: '/mnt/cosmic-storage-2/data2/vla_target/23B-169.sb44841813.eb44870447.60285.9953211574/23B-169.sb44841813.eb4487\n",
    "# But maybe it got cut off?\n",
    "row = df.iloc[196105]\n",
    "row.file_uri\n",
    "assert(os.path.exists(row.file_uri))\n",
    "assert(os.path.exists(stamp_filepath_of(row.file_uri)))\n",
    "stamps_fs = np.array([stamp.stamp.signal.frequency for stamp in viewer.read_stamps(stamp_filepath_of(row.file_uri))])\n",
    "print(stamps_fs.shape)\n",
    "print((abs(stamps_fs - row.signal_frequency) < 1e-7).sum(), \"signal within 1e-7 in the stamp file\")\n"
   ]
  },
  {
   "cell_type": "code",
   "execution_count": 121,
   "metadata": {},
   "outputs": [
    {
     "name": "stderr",
     "output_type": "stream",
     "text": [
      "/home/nstiegle/miniforge3/envs/stamp_viewer/lib/python3.7/site-packages/seticore/viewer.py:125: H5pyDeprecationWarning: The default file mode will change to 'r' (read-only) in h5py 3.0. To suppress this warning, pass the mode you need to h5py.File(), or set the global default h5.get_config().default_file_mode, or set the environment variable H5PY_DEFAULT_READONLY=1. Available modes are: 'r', 'r+', 'w', 'w-'/'x', 'a'. See the docs for details.\n",
      "  self.h5 = h5py.File(filepath)\n"
     ]
    }
   ],
   "source": [
    "# Do the search on this stamp\n",
    "def find_stamp_of_hit(hit_uri, hit_frequency, threshold=500):\n",
    "    stamp_uri = stamp_filepath_of(hit_uri)\n",
    "    stamps_gen = viewer.read_stamps(stamp_uri, find_recipe=True)\n",
    "    for stamp in stamps_gen:\n",
    "        assert(stamp != None)\n",
    "        assert(stamp.recipe != None)\n",
    "        if abs(stamp.stamp.signal.frequency - hit_frequency) < threshold*1e-6:\n",
    "            # Found the stamp!\n",
    "            return stamp\n",
    "    \n",
    "    # Didn't find the stamp in this whole file of stamps\n",
    "    return None\n",
    "\n",
    "def antenna_signal_snr_power(stamp):\n",
    "    # Get the powers in the frequency bins of each antenna by summing \n",
    "    # over polarization and complex magnitude\n",
    "    # Also rearrange so indices are (antenna, time bin, frequency bin)\n",
    "    antenna_powers = np.square(stamp.real_array()).sum(axis=(2, 4)).transpose(2, 0, 1)\n",
    "    snr_and_signals = np.array([stamp.snr_and_signal(antenna_power) for antenna_power in antenna_powers])\n",
    "    return (snr_and_signals[:, 0], snr_and_signals[:, 1])\n",
    "\n",
    "stamp = find_stamp_of_hit(row.file_uri, row.signal_frequency, threshold=500)\n",
    "assert(stamp != None)\n",
    "snrs, signals = antenna_signal_snr_power(stamp)\n",
    "assert(type(snrs) != type([]))\n",
    "assert(type(signals) != type([]))"
   ]
  },
  {
   "cell_type": "code",
   "execution_count": 125,
   "metadata": {},
   "outputs": [
    {
     "name": "stderr",
     "output_type": "stream",
     "text": [
      "/home/nstiegle/miniforge3/envs/stamp_viewer/lib/python3.7/site-packages/seticore/viewer.py:125: H5pyDeprecationWarning: The default file mode will change to 'r' (read-only) in h5py 3.0. To suppress this warning, pass the mode you need to h5py.File(), or set the global default h5.get_config().default_file_mode, or set the environment variable H5PY_DEFAULT_READONLY=1. Available modes are: 'r', 'r+', 'w', 'w-'/'x', 'a'. See the docs for details.\n",
      "  self.h5 = h5py.File(filepath)\n"
     ]
    },
    {
     "name": "stdout",
     "output_type": "stream",
     "text": [
      "Was on 196127\n",
      ".hits doesn't exist\n",
      "Was on 196145\n",
      ".hits doesn't exist\n",
      "Was on 196160\n",
      ".hits doesn't exist\n",
      "Was on 196189\n",
      ".hits doesn't exist\n"
     ]
    }
   ],
   "source": [
    "# I guess let's automate this and check forwards until something crashes\n",
    "indices_with_errors = []\n",
    "for i in range(196105, 197101):\n",
    "    try:\n",
    "        row = df.iloc[i]\n",
    "        assert os.path.exists(row.file_uri), \".hits doesn't exist\"\n",
    "        assert os.path.exists(stamp_filepath_of(row.file_uri)), \".stamp doesn't exist\"\n",
    "        stamp = find_stamp_of_hit(row.file_uri, row.signal_frequency, threshold=500)\n",
    "        assert stamp != None, \"stamp is None\" \n",
    "        snrs, signals = antenna_signal_snr_power(stamp)\n",
    "        assert type(snrs) != type([]), \"snrs is empty\" \n",
    "        assert type(signals) != type([]), \"signals is empty\"\n",
    "    except Exception as err:\n",
    "        print(\"Was on\", i)\n",
    "        indices_with_errors.append(i)\n",
    "        print(err)"
   ]
  },
  {
   "cell_type": "code",
   "execution_count": 133,
   "metadata": {},
   "outputs": [
    {
     "name": "stdout",
     "output_type": "stream",
     "text": [
      "[196127, 196145, 196160, 196189]\n",
      "There are (1,) unique hits files which are causing issues\n",
      "/mnt/cosmic-storage-2/data2/vla_target/23B-169.sb44841813.eb44870447.60285.9953211574/23B-169.sb44841813.eb44870447.60285.9953211574.48.1/23B-169.sb44841813.eb44870447.60285.9953211574.48.1.AC.C800.0000.raw.seticore.hits\n"
     ]
    }
   ],
   "source": [
    "print(indices_with_errors)\n",
    "hits_files = np.array([df.iloc[index].file_uri for index in indices_with_errors])\n",
    "print(\"There are\", np.unique(hits_files).shape, \"unique hits files which are causing issues\")\n",
    "bad_file = np.unique(hits_files)[0]\n",
    "print(bad_file)"
   ]
  },
  {
   "cell_type": "code",
   "execution_count": null,
   "metadata": {},
   "outputs": [],
   "source": [
    "# So I'll have to be careful for files that don't exist"
   ]
  }
 ],
 "metadata": {
  "kernelspec": {
   "display_name": "stamp_viewer",
   "language": "python",
   "name": "python3"
  },
  "language_info": {
   "codemirror_mode": {
    "name": "ipython",
    "version": 3
   },
   "file_extension": ".py",
   "mimetype": "text/x-python",
   "name": "python",
   "nbconvert_exporter": "python",
   "pygments_lexer": "ipython3",
   "version": "3.7.8"
  }
 },
 "nbformat": 4,
 "nbformat_minor": 2
}
