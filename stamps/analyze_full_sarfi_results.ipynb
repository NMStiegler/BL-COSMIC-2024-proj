{
 "cells": [
  {
   "cell_type": "markdown",
   "metadata": {},
   "source": [
    "Analyzing the results of the full run of find_SARFI_multi.py on the 1in25 dataset"
   ]
  },
  {
   "cell_type": "markdown",
   "metadata": {},
   "source": [
    "### Setup"
   ]
  },
  {
   "cell_type": "code",
   "execution_count": 1,
   "metadata": {},
   "outputs": [],
   "source": [
    "# Import regular packages\n",
    "import matplotlib.pyplot as plt\n",
    "import numpy as np\n",
    "import pandas as pd\n",
    "import pickle\n",
    "import itertools\n",
    "from datetime import datetime\n",
    "from astropy.time import Time\n",
    "import os\n",
    "import ast"
   ]
  },
  {
   "cell_type": "code",
   "execution_count": 2,
   "metadata": {},
   "outputs": [],
   "source": [
    "# Load in data\n",
    "data_dir = \"/mnt/cosmic-gpu-1/data0/nstiegle/representative_samples/\"\n",
    "filename = \"1in25_good_targets_results_cleaned.csv\"\n",
    "data_file = data_dir + filename\n",
    "df = pd.read_csv(data_file)\n",
    "df = df.drop(df.columns[0], axis='columns') # Picked up extra index column. Remove it\n",
    "df = df.drop(df.columns[0], axis='columns') # Picked up 2 extra index columns"
   ]
  },
  {
   "cell_type": "code",
   "execution_count": 3,
   "metadata": {},
   "outputs": [],
   "source": [
    "# # Script got messed up and some of the lists got saved as strings, so try to recover those\n",
    "# df[\"antenna_titles\"] = np.array([ast.literal_eval(stringed_array) for stringed_array in df[\"antenna_titles\"]], dtype='object')\n",
    "# df[\"antenna_snrs\"] = np.array([np.fromstring((stringed_array.strip('[]')), sep=' ', dtype=float) for stringed_array in df[\"antenna_snrs\"]], dtype='object')\n",
    "# df[\"antenna_signals\"] = np.array([np.fromstring((stringed_array.strip('[]')), sep=' ', dtype=float) for stringed_array in df[\"antenna_signals\"]], dtype='object')\n",
    "\n",
    "# # Save new df\n",
    "# df.to_csv(data_dir + \"1in25_good_targets_results_cleaned.csv\")"
   ]
  },
  {
   "cell_type": "code",
   "execution_count": 3,
   "metadata": {},
   "outputs": [
    {
     "name": "stdout",
     "output_type": "stream",
     "text": [
      "['2535280716217508992', '2536546185381558272', '2542485953354555264', '2557518579407455104', '2646431411821304960', '3073619025268414208', '3074407546904630144', '3079227054261900160', '3113482167231459200', '3113490855946843904', '3113491272562268160', '3113493127988068096', '3127348761205770496', 'Incoherent', 'PHASE_CENTER']\n",
      "[2074, 3519, 14978, 2654, 78692, 6335, 4558, 3088, 207, 193, 214, 193, 2775, 255942, 868803]\n"
     ]
    }
   ],
   "source": [
    "groups = df.groupby('source_name')\n",
    "group_names = list(groups.groups.keys())\n",
    "group_sizes = list(groups.size())\n",
    "print(group_names)\n",
    "print(group_sizes)"
   ]
  },
  {
   "cell_type": "code",
   "execution_count": 7,
   "metadata": {},
   "outputs": [
    {
     "data": {
      "text/plain": [
       "'[-1.22543107e+00 -9.61005668e-01 -6.84792903e-01 -1.47377934e+00\\n -1.65909616e+00 -1.70194119e+00  2.09959643e+00 -1.21756404e+00\\n -1.31410174e-01 -1.40112758e+00 -2.07392751e+00 -2.67429949e-01\\n  1.26546363e-01 -1.05391574e+00 -2.59536371e+00 -2.08428602e+00\\n -1.18976985e+00 -1.31134379e+00 -1.04522981e+00 -2.17002344e+00\\n -2.06815964e+00  1.07146905e+03 -2.95764308e-01 -6.77813998e-01\\n -1.39778108e+00]'"
      ]
     },
     "execution_count": 7,
     "metadata": {},
     "output_type": "execute_result"
    }
   ],
   "source": [
    "i = 0\n",
    "group = groups.get_group(group_names[0])\n",
    "for snrs in group[\"antenna_snrs\"]:\n",
    "    # Normalize powers of all antennas ()"
   ]
  },
  {
   "cell_type": "code",
   "execution_count": null,
   "metadata": {},
   "outputs": [],
   "source": []
  }
 ],
 "metadata": {
  "kernelspec": {
   "display_name": "pulsar",
   "language": "python",
   "name": "python3"
  },
  "language_info": {
   "codemirror_mode": {
    "name": "ipython",
    "version": 3
   },
   "file_extension": ".py",
   "mimetype": "text/x-python",
   "name": "python",
   "nbconvert_exporter": "python",
   "pygments_lexer": "ipython3",
   "version": "3.10.14"
  }
 },
 "nbformat": 4,
 "nbformat_minor": 2
}
