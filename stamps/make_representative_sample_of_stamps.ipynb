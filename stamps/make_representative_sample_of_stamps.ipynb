{
 "cells": [
  {
   "cell_type": "markdown",
   "metadata": {},
   "source": [
    "## Making a Representative Sample of Stamps URIs\n",
    "\n",
    "So we want to run the script which identifies single antenna inerference in a stamp file on all the stamp files. However, that would take way too long. On blpc1, it took about 6 seconds to process 49 stamps, so to do all 32 million in the >24Ghz dataset would take almost 6.5 weeks. Instead, I'll take a representative sample of the stamp files from above 24Ghz - from all pointing directions, coherent hits, incoherent hits, etc and run the detection on those to hopefully get some statistics about what the single-antenna RFI looks like. So this notebook is about creating a representative sample of the stamp URIs for that script to run on"
   ]
  },
  {
   "cell_type": "markdown",
   "metadata": {},
   "source": [
    "### Setup"
   ]
  },
  {
   "cell_type": "markdown",
   "metadata": {},
   "source": [
    "Use cosmic (Python 3.8.0) conda env"
   ]
  },
  {
   "cell_type": "code",
   "execution_count": 4,
   "metadata": {},
   "outputs": [],
   "source": [
    "# Import useful packages\n",
    "import numpy as np\n",
    "import matplotlib.pyplot as plt\n",
    "import pandas as pd\n",
    "# import seaborn as sns\n",
    "from scipy.sparse import csr_array\n",
    "from scipy.sparse import lil_array\n",
    "from scipy.sparse import save_npz\n",
    "from scipy.sparse import load_npz\n",
    "import os\n",
    "import random"
   ]
  },
  {
   "cell_type": "code",
   "execution_count": 5,
   "metadata": {},
   "outputs": [],
   "source": [
    "# Read in the data\n",
    "\n",
    "# Check which server we're on (in case the data is in different places on different servers)\n",
    "import socket\n",
    "hostname = socket.gethostname()\n",
    "\n",
    "# Get paths to data\n",
    "if hostname == \"blpc1\" or hostname == \"blpc2\":\n",
    "    full_dataset_path = \"/datax/scratch/nstieg/25GHz_higher.pkl\"\n",
    "    coherent_dataset_path = \"/datax/scratch/nstieg/25GHz_higher_coherent.pkl\"\n",
    "    incoherent_dataset_path = \"/datax/scratch/nstieg/25GHz_higher_incoherent.pkl\"\n",
    "elif hostname == \"cosmic-gpu-1\":\n",
    "    full_dataset_path = \"/mnt/cosmic-gpu-1/data0/nstiegle/25GHz_higher.pkl\"\n",
    "else:\n",
    "    raise Exception(\"Data path not known\")\n",
    "\n",
    "# Read in data\n",
    "# coherent = pd.read_pickle(coherent_dataset_path)\n",
    "# incoherent = pd.read_pickle(incoherent_dataset_path)\n",
    "df = pd.read_pickle(full_dataset_path)"
   ]
  },
  {
   "cell_type": "code",
   "execution_count": 6,
   "metadata": {},
   "outputs": [
    {
     "name": "stdout",
     "output_type": "stream",
     "text": [
      "(31208910, 29)\n"
     ]
    }
   ],
   "source": [
    "print(df.shape)"
   ]
  },
  {
   "cell_type": "markdown",
   "metadata": {},
   "source": [
    "### Take representative sample"
   ]
  },
  {
   "cell_type": "code",
   "execution_count": 7,
   "metadata": {},
   "outputs": [],
   "source": [
    "# So get data from each FOV recorded\n",
    "by_day = df.groupby(\"tstart\")"
   ]
  },
  {
   "cell_type": "code",
   "execution_count": 8,
   "metadata": {},
   "outputs": [
    {
     "data": {
      "text/plain": [
       "4703"
      ]
     },
     "execution_count": 8,
     "metadata": {},
     "output_type": "execute_result"
    }
   ],
   "source": [
    "len(by_day)"
   ]
  },
  {
   "cell_type": "code",
   "execution_count": 11,
   "metadata": {},
   "outputs": [
    {
     "name": "stdout",
     "output_type": "stream",
     "text": [
      "(1248312, 29)\n"
     ]
    }
   ],
   "source": [
    "# Create a new sample\n",
    "decimation = 25\n",
    "samples_from_unique_times = [group[1].sample(frac=1/decimation, random_state=1) for group in by_day]\n",
    "reduced_df = pd.concat(samples_from_unique_times).reset_index(drop=True)\n",
    "print(reduced_df.shape)"
   ]
  },
  {
   "cell_type": "code",
   "execution_count": null,
   "metadata": {},
   "outputs": [],
   "source": [
    "reduced_df.groupby(\"tstart\").size()"
   ]
  },
  {
   "cell_type": "code",
   "execution_count": 11,
   "metadata": {},
   "outputs": [],
   "source": [
    "path = os.path.expanduser(\"~\") + \"/BL-COSMIC-2024-proj/stamps/representative_samples/\"\n",
    "reduced_df.to_csv(path + \"1in25_targets.csv\")"
   ]
  },
  {
   "cell_type": "code",
   "execution_count": 12,
   "metadata": {},
   "outputs": [
    {
     "name": "stdout",
     "output_type": "stream",
     "text": [
      "(100, 29)\n"
     ]
    }
   ],
   "source": [
    "# Save out the file_uri's so the script can run on them on the cosmic server\n",
    "# start with just the first 100 to test\n",
    "test_df = reduced_df[:100].reset_index(drop=True)\n",
    "print(test_df.shape)\n",
    "cols_to_save = [\"id\", \n",
    "                \"file_uri\", \n",
    "                \"file_local_enumeration\",\n",
    "                \"tuning\",\n",
    "                \"tstart\",\n",
    "                \"signal_frequency\",\n",
    "                \"signal_drift_rate\",\n",
    "                \"signal_snr\",\n",
    "                \"start_channel\",\n",
    "                \"signal_power\",\n",
    "                \"signal_incoherent_power\"]\n",
    "\n",
    "# Save data\n",
    "path = os.path.expanduser(\"~\") + \"/\" + \"BL-COSMIC-2024-proj/stamps/\"\n",
    "test_df[cols_to_save].to_csv(path + \"file_info.csv\", index=False)"
   ]
  },
  {
   "cell_type": "code",
   "execution_count": 18,
   "metadata": {},
   "outputs": [
    {
     "name": "stdout",
     "output_type": "stream",
     "text": [
      "/mnt/cosmic-storage-2/data1/vla_target/23A-362.sb43789194.eb44583327.60212.544836180554/23A-362.sb43789194.eb44583327.60212.544836180554.9.1/23A-362.sb43789194.eb44583327.60212.544836180554.9.1.AC.C640.0000.raw.seticore.hits\n"
     ]
    },
    {
     "data": {
      "text/plain": [
       "id                                                                 900274491\n",
       "beam_id                                                               455656\n",
       "observation_id                                                         13232\n",
       "tuning                                                                    AC\n",
       "subband_offset                                                           640\n",
       "file_uri                   /mnt/cosmic-storage-2/data1/vla_target/23A-362...\n",
       "file_local_enumeration                                                    16\n",
       "signal_frequency                                                43192.078426\n",
       "signal_index                                                          373111\n",
       "signal_drift_steps                                                         0\n",
       "signal_drift_rate                                                        0.0\n",
       "signal_snr                                                          9.672808\n",
       "signal_coarse_channel                                                      0\n",
       "signal_beam                                                                0\n",
       "signal_num_timesteps                                                      16\n",
       "signal_power                                                  593895030784.0\n",
       "signal_incoherent_power                                       548789714944.0\n",
       "source_name                                              3127348761205770496\n",
       "fch1_mhz                                                         43192.07835\n",
       "foff_mhz                                                            0.000002\n",
       "tstart                                                          60212.560625\n",
       "tsamp                                                               0.524288\n",
       "ra_hours                                                            6.789733\n",
       "dec_degrees                                                          3.27776\n",
       "telescope_id                                                               0\n",
       "num_timesteps                                                             16\n",
       "num_channels                                                              79\n",
       "coarse_channel                                                             0\n",
       "start_channel                                                         373071\n",
       "Name: 1, dtype: object"
      ]
     },
     "execution_count": 18,
     "metadata": {},
     "output_type": "execute_result"
    }
   ],
   "source": [
    "print(test_df.iloc[1].file_uri)\n",
    "test_df.iloc[1]"
   ]
  },
  {
   "cell_type": "code",
   "execution_count": null,
   "metadata": {},
   "outputs": [],
   "source": []
  }
 ],
 "metadata": {
  "kernelspec": {
   "display_name": "cosmic",
   "language": "python",
   "name": "python3"
  },
  "language_info": {
   "codemirror_mode": {
    "name": "ipython",
    "version": 3
   },
   "file_extension": ".py",
   "mimetype": "text/x-python",
   "name": "python",
   "nbconvert_exporter": "python",
   "pygments_lexer": "ipython3",
   "version": "3.8.0"
  }
 },
 "nbformat": 4,
 "nbformat_minor": 2
}
