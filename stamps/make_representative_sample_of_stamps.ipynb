{
 "cells": [
  {
   "cell_type": "markdown",
   "metadata": {},
   "source": [
    "## Making a Representative Sample of Stamps URIs\n",
    "\n",
    "So we want to run the script which identifies single antenna inerference in a stamp file on all the stamp files. However, that would take way too long. On blpc1, it took about 6 seconds to process 49 stamps, so to do all 32 million in the >24Ghz dataset would take almost 6.5 weeks. Instead, I'll take a representative sample of the stamp files from above 24Ghz - from all pointing directions, coherent hits, incoherent hits, etc and run the detection on those to hopefully get some statistics about what the single-antenna RFI looks like. So this notebook is about creating a representative sample of the stamp URIs for that script to run on"
   ]
  },
  {
   "cell_type": "markdown",
   "metadata": {},
   "source": [
    "### Setup"
   ]
  },
  {
   "cell_type": "markdown",
   "metadata": {},
   "source": [
    "Use cosmic (Python 3.8.0) conda env"
   ]
  },
  {
   "cell_type": "code",
   "execution_count": 9,
   "metadata": {},
   "outputs": [],
   "source": [
    "# Import useful packages\n",
    "import numpy as np\n",
    "import matplotlib.pyplot as plt\n",
    "import pandas as pd\n",
    "import seaborn as sns\n",
    "from scipy.sparse import csr_array\n",
    "from scipy.sparse import lil_array\n",
    "from scipy.sparse import save_npz\n",
    "from scipy.sparse import load_npz\n",
    "import os\n",
    "import random"
   ]
  },
  {
   "cell_type": "code",
   "execution_count": 3,
   "metadata": {},
   "outputs": [],
   "source": [
    "# Read in the data\n",
    "\n",
    "# Check which server we're on (in case the data is in different places on different servers)\n",
    "import socket\n",
    "hostname = socket.gethostname()\n",
    "\n",
    "# Get paths to data\n",
    "if hostname == \"blpc1\" or hostname == \"blpc2\":\n",
    "    full_dataset_path = \"/datax/scratch/nstieg/25GHz_higher.pkl\"\n",
    "    coherent_dataset_path = \"/datax/scratch/nstieg/25GHz_higher_coherent.pkl\"\n",
    "    incoherent_dataset_path = \"/datax/scratch/nstieg/25GHz_higher_incoherent.pkl\"\n",
    "else:\n",
    "    raise Exception(\"Data path not known\")\n",
    "\n",
    "# Read in data\n",
    "# coherent = pd.read_pickle(coherent_dataset_path)\n",
    "# incoherent = pd.read_pickle(incoherent_dataset_path)\n",
    "df = pd.read_pickle(full_dataset_path)"
   ]
  },
  {
   "cell_type": "code",
   "execution_count": 31,
   "metadata": {},
   "outputs": [
    {
     "name": "stdout",
     "output_type": "stream",
     "text": [
      "(31208910, 29)\n"
     ]
    }
   ],
   "source": [
    "print(df.shape)"
   ]
  },
  {
   "cell_type": "markdown",
   "metadata": {},
   "source": [
    "### Take representative sample"
   ]
  },
  {
   "cell_type": "code",
   "execution_count": 5,
   "metadata": {},
   "outputs": [
    {
     "name": "stdout",
     "output_type": "stream",
     "text": [
      "4703\n"
     ]
    }
   ],
   "source": [
    "# So get data from each FOV recorded\n",
    "by_day = df.groupby(\"tstart\")"
   ]
  },
  {
   "cell_type": "code",
   "execution_count": 33,
   "metadata": {},
   "outputs": [
    {
     "name": "stdout",
     "output_type": "stream",
     "text": [
      "(1248312, 29)\n"
     ]
    }
   ],
   "source": [
    "# Create a new sample\n",
    "decimation = 25\n",
    "samples_from_unique_times = [group[1].sample(frac=1/decimation, random_state=1) for group in by_day]\n",
    "reduced_df = pd.concat(samples_from_unique_times).reset_index(drop=True)\n",
    "print(reduced_df.shape)"
   ]
  },
  {
   "cell_type": "code",
   "execution_count": 48,
   "metadata": {},
   "outputs": [
    {
     "name": "stdout",
     "output_type": "stream",
     "text": [
      "(100, 29)\n"
     ]
    }
   ],
   "source": [
    "# Save out the file_uri's so the script can run on them on the cosmic server\n",
    "# start with just the first 100 to test\n",
    "test_df = reduced_df[:100]\n",
    "print(test_df.shape)\n",
    "cols_to_save = [\"id\", \"file_uri\", \"file_local_enumeration\"]\n",
    "\n",
    "# Save data\n",
    "path = \"/home/nstieg/BL-COSMIC-2024-proj/stamps/\"\n",
    "test_df[cols_to_save].to_csv(path + \"file_info.csv\", index=False)"
   ]
  },
  {
   "cell_type": "code",
   "execution_count": 47,
   "metadata": {},
   "outputs": [
    {
     "data": {
      "text/plain": [
       "Index(['id', 'beam_id', 'observation_id', 'tuning', 'subband_offset',\n",
       "       'file_uri', 'file_local_enumeration', 'signal_frequency',\n",
       "       'signal_index', 'signal_drift_steps', 'signal_drift_rate', 'signal_snr',\n",
       "       'signal_coarse_channel', 'signal_beam', 'signal_num_timesteps',\n",
       "       'signal_power', 'signal_incoherent_power', 'source_name', 'fch1_mhz',\n",
       "       'foff_mhz', 'tstart', 'tsamp', 'ra_hours', 'dec_degrees',\n",
       "       'telescope_id', 'num_timesteps', 'num_channels', 'coarse_channel',\n",
       "       'start_channel'],\n",
       "      dtype='object')"
      ]
     },
     "execution_count": 47,
     "metadata": {},
     "output_type": "execute_result"
    }
   ],
   "source": [
    "test_df.columns"
   ]
  },
  {
   "cell_type": "code",
   "execution_count": null,
   "metadata": {},
   "outputs": [],
   "source": []
  }
 ],
 "metadata": {
  "kernelspec": {
   "display_name": "cosmic",
   "language": "python",
   "name": "python3"
  },
  "language_info": {
   "codemirror_mode": {
    "name": "ipython",
    "version": 3
   },
   "file_extension": ".py",
   "mimetype": "text/x-python",
   "name": "python",
   "nbconvert_exporter": "python",
   "pygments_lexer": "ipython3",
   "version": "3.8.0"
  }
 },
 "nbformat": 4,
 "nbformat_minor": 2
}
