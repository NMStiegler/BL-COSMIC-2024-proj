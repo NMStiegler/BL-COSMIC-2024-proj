{
 "cells": [
  {
   "cell_type": "code",
   "execution_count": 11,
   "metadata": {},
   "outputs": [],
   "source": [
    "# A sandbox for testing a script which collects statistics on which antennas are SARFI (Single Antenna RFI)"
   ]
  },
  {
   "cell_type": "code",
   "execution_count": 12,
   "metadata": {},
   "outputs": [
    {
     "name": "stdout",
     "output_type": "stream",
     "text": [
      "The autoreload extension is already loaded. To reload it, use:\n",
      "  %reload_ext autoreload\n"
     ]
    }
   ],
   "source": [
    "%matplotlib inline\n",
    "%load_ext autoreload\n",
    "%autoreload 2"
   ]
  },
  {
   "cell_type": "code",
   "execution_count": 13,
   "metadata": {},
   "outputs": [],
   "source": [
    "# Import regular packages\n",
    "import matplotlib.pyplot as plt\n",
    "import numpy as np\n",
    "import pandas as pd\n",
    "# import seaborn as sns\n",
    "import pickle\n",
    "import itertools\n",
    "from datetime import datetime\n",
    "from astropy.time import Time\n",
    "import os"
   ]
  },
  {
   "cell_type": "code",
   "execution_count": 14,
   "metadata": {},
   "outputs": [],
   "source": [
    "# Next we'll import the seticore viewer package: \n",
    "# Unfortunately, it can be a little fiddley\n",
    "# I'm using the Python 3.7 (base) conda environment on blpc1 \n",
    "# I was having issues with the Python 3.9 seticore_viewer conda environment I created on blpc1\n",
    "# The standard maintained branch is https://github.com/MydonSolutions/seticore\n",
    "# although I added some additional functionality on my own fork at https://github.com/NMStiegler/seticore\n",
    "# so if my plots look different that's why\n",
    "# These packages may need to be pip installed if they're not already\n",
    "try:\n",
    "    from seticore import viewer\n",
    "except:\n",
    "    # # May need to install pycapnp\n",
    "    # try:\n",
    "    #     %pip install pycapnp\n",
    "    # except:\n",
    "    #     %conda install pycapnp\n",
    "    # # %pip install \"git+https://github.com/NMStiegler/seticore#egg=seticore&subdirectory=python\"\n",
    "    # %pip install pip install \"git+https://github.com/MydonSolutions/seticore#egg=seticore&subdirectory=python\"\n",
    "    # from seticore import viewer\n",
    "    print('error')"
   ]
  },
  {
   "cell_type": "code",
   "execution_count": 15,
   "metadata": {},
   "outputs": [],
   "source": [
    "# Check which server we're on (in case the data is in different places on different servers)\n",
    "import socket\n",
    "hostname = socket.gethostname()\n",
    "assert(hostname == \"cosmic-gpu-1\")"
   ]
  },
  {
   "cell_type": "code",
   "execution_count": 16,
   "metadata": {},
   "outputs": [
    {
     "name": "stdout",
     "output_type": "stream",
     "text": [
      "(100, 11)\n"
     ]
    },
    {
     "data": {
      "text/html": [
       "<div>\n",
       "<style scoped>\n",
       "    .dataframe tbody tr th:only-of-type {\n",
       "        vertical-align: middle;\n",
       "    }\n",
       "\n",
       "    .dataframe tbody tr th {\n",
       "        vertical-align: top;\n",
       "    }\n",
       "\n",
       "    .dataframe thead th {\n",
       "        text-align: right;\n",
       "    }\n",
       "</style>\n",
       "<table border=\"1\" class=\"dataframe\">\n",
       "  <thead>\n",
       "    <tr style=\"text-align: right;\">\n",
       "      <th></th>\n",
       "      <th>id</th>\n",
       "      <th>file_uri</th>\n",
       "      <th>file_local_enumeration</th>\n",
       "      <th>tuning</th>\n",
       "      <th>tstart</th>\n",
       "      <th>signal_frequency</th>\n",
       "      <th>signal_drift_rate</th>\n",
       "      <th>signal_snr</th>\n",
       "      <th>start_channel</th>\n",
       "      <th>signal_power</th>\n",
       "      <th>signal_incoherent_power</th>\n",
       "    </tr>\n",
       "  </thead>\n",
       "  <tbody>\n",
       "    <tr>\n",
       "      <th>0</th>\n",
       "      <td>900274777</td>\n",
       "      <td>/mnt/cosmic-storage-2/data1/vla_target/23A-362...</td>\n",
       "      <td>76</td>\n",
       "      <td>BD</td>\n",
       "      <td>60212.560625</td>\n",
       "      <td>42889.438718</td>\n",
       "      <td>0.000000</td>\n",
       "      <td>17.512360</td>\n",
       "      <td>59221</td>\n",
       "      <td>8.297027e+11</td>\n",
       "      <td>8.297027e+11</td>\n",
       "    </tr>\n",
       "    <tr>\n",
       "      <th>1</th>\n",
       "      <td>900274491</td>\n",
       "      <td>/mnt/cosmic-storage-2/data1/vla_target/23A-362...</td>\n",
       "      <td>16</td>\n",
       "      <td>AC</td>\n",
       "      <td>60212.560625</td>\n",
       "      <td>43192.078426</td>\n",
       "      <td>0.000000</td>\n",
       "      <td>9.672808</td>\n",
       "      <td>373071</td>\n",
       "      <td>5.938950e+11</td>\n",
       "      <td>5.487897e+11</td>\n",
       "    </tr>\n",
       "    <tr>\n",
       "      <th>2</th>\n",
       "      <td>900273779</td>\n",
       "      <td>/mnt/cosmic-storage-2/data1/vla_target/23A-362...</td>\n",
       "      <td>52</td>\n",
       "      <td>BD</td>\n",
       "      <td>60212.560625</td>\n",
       "      <td>42811.550000</td>\n",
       "      <td>0.000000</td>\n",
       "      <td>13.936493</td>\n",
       "      <td>117565</td>\n",
       "      <td>7.266612e+11</td>\n",
       "      <td>6.518559e+11</td>\n",
       "    </tr>\n",
       "    <tr>\n",
       "      <th>3</th>\n",
       "      <td>900276108</td>\n",
       "      <td>/mnt/cosmic-storage-2/data1/vla_target/23A-362...</td>\n",
       "      <td>168</td>\n",
       "      <td>AC</td>\n",
       "      <td>60212.560625</td>\n",
       "      <td>43158.487883</td>\n",
       "      <td>0.000000</td>\n",
       "      <td>17.988485</td>\n",
       "      <td>63456</td>\n",
       "      <td>7.799876e+11</td>\n",
       "      <td>7.799876e+11</td>\n",
       "    </tr>\n",
       "    <tr>\n",
       "      <th>4</th>\n",
       "      <td>900275004</td>\n",
       "      <td>/mnt/cosmic-storage-2/data1/vla_target/23A-362...</td>\n",
       "      <td>44</td>\n",
       "      <td>AC</td>\n",
       "      <td>60212.560625</td>\n",
       "      <td>43159.659614</td>\n",
       "      <td>-0.242532</td>\n",
       "      <td>192.167343</td>\n",
       "      <td>153492</td>\n",
       "      <td>6.667380e+12</td>\n",
       "      <td>6.667380e+12</td>\n",
       "    </tr>\n",
       "  </tbody>\n",
       "</table>\n",
       "</div>"
      ],
      "text/plain": [
       "          id                                           file_uri  \\\n",
       "0  900274777  /mnt/cosmic-storage-2/data1/vla_target/23A-362...   \n",
       "1  900274491  /mnt/cosmic-storage-2/data1/vla_target/23A-362...   \n",
       "2  900273779  /mnt/cosmic-storage-2/data1/vla_target/23A-362...   \n",
       "3  900276108  /mnt/cosmic-storage-2/data1/vla_target/23A-362...   \n",
       "4  900275004  /mnt/cosmic-storage-2/data1/vla_target/23A-362...   \n",
       "\n",
       "   file_local_enumeration tuning        tstart  signal_frequency  \\\n",
       "0                      76     BD  60212.560625      42889.438718   \n",
       "1                      16     AC  60212.560625      43192.078426   \n",
       "2                      52     BD  60212.560625      42811.550000   \n",
       "3                     168     AC  60212.560625      43158.487883   \n",
       "4                      44     AC  60212.560625      43159.659614   \n",
       "\n",
       "   signal_drift_rate  signal_snr  start_channel  signal_power  \\\n",
       "0           0.000000   17.512360          59221  8.297027e+11   \n",
       "1           0.000000    9.672808         373071  5.938950e+11   \n",
       "2           0.000000   13.936493         117565  7.266612e+11   \n",
       "3           0.000000   17.988485          63456  7.799876e+11   \n",
       "4          -0.242532  192.167343         153492  6.667380e+12   \n",
       "\n",
       "   signal_incoherent_power  \n",
       "0             8.297027e+11  \n",
       "1             5.487897e+11  \n",
       "2             6.518559e+11  \n",
       "3             7.799876e+11  \n",
       "4             6.667380e+12  "
      ]
     },
     "execution_count": 16,
     "metadata": {},
     "output_type": "execute_result"
    }
   ],
   "source": [
    "# Loading in files from a file\n",
    "file_info = pd.read_csv(\"/home/nstiegle/BL-COSMIC-2024-proj/stamps/file_info.csv\")\n",
    "print(file_info.shape)\n",
    "file_info.head()"
   ]
  },
  {
   "cell_type": "code",
   "execution_count": 17,
   "metadata": {},
   "outputs": [],
   "source": [
    "# Convert a filepath from pointing to a .hits\n",
    "# to a .stamps file for the same uri\n",
    "# If given a .stamps ending, doesn't change it\n",
    "def stamp_filepath_of(hits_filepath):\n",
    "    return hits_filepath.replace('.hits', '.0000.stamps')\n",
    "\n",
    "# Print the useful part of the file path\n",
    "def print_path_end(file_uri):\n",
    "    return \".\".join(file_uri.split(\"/\")[-1].split(\".\")[-6:-4])"
   ]
  },
  {
   "cell_type": "code",
   "execution_count": 18,
   "metadata": {},
   "outputs": [],
   "source": [
    "# Get the power and snr of the signal in each antenna of a stamp file\n",
    "# Parameter:\n",
    "# - stamp (the stamp in the stamp file)\n",
    "# Returns:\n",
    "# - (list of antenna snrs, list of signals signals)\n",
    "def antenna_signal_snr_power(stamp):\n",
    "    # Get the powers in the frequency bins of each antenna by summing \n",
    "    # over polarization and complex magnitude\n",
    "    # Also rearrange so indices are (antenna, time bin, frequency bin)\n",
    "    antenna_powers = np.square(stamp.real_array()).sum(axis=(2, 4)).transpose(2, 0, 1)\n",
    "    snr_and_signals = np.array([stamp.snr_and_signal(antenna_power) for antenna_power in antenna_powers])\n",
    "    return (snr_and_signals[:, 0], snr_and_signals[:, 1])"
   ]
  },
  {
   "cell_type": "code",
   "execution_count": 19,
   "metadata": {},
   "outputs": [],
   "source": [
    "# Given a URI and hit frequency finds the corresponding stamp file\n",
    "# Parameter:\n",
    "# - hit_uri - The uri from the hit (ending in .hits or .stamps)\n",
    "# - frequency - The frequency from the hit (in MHz)\n",
    "# - threshold - How close in frequency in hz the hit_frequency and the frequency of the stamp have\n",
    "#               to be to say the hit is in the stamp file. Most stamp files are 1000Hz wide so\n",
    "#               +/-500Hz from the center signal is the default\n",
    "# Returns:\n",
    "# - The stamp object corresponding to that hit in that stamp file (if it exists) otherwise None\n",
    "def find_stamp_of_hit(hit_uri, hit_frequency, threshold=500):\n",
    "    stamp_uri = stamp_filepath_of(hit_uri)\n",
    "    stamps_gen = viewer.read_stamps(stamp_uri, find_recipe=True)\n",
    "    for stamp in stamps_gen:\n",
    "        assert(stamp != None)\n",
    "        assert(stamp.recipe != None)\n",
    "        if abs(stamp.stamp.signal.frequency - hit_frequency) < threshold*1e-6:\n",
    "            # Found the stamp!\n",
    "            return stamp\n",
    "    \n",
    "    # Didn't find the stamp in this whole file of stamps\n",
    "    return None"
   ]
  },
  {
   "cell_type": "code",
   "execution_count": 20,
   "metadata": {},
   "outputs": [],
   "source": [
    "df = file_info.copy()"
   ]
  },
  {
   "cell_type": "code",
   "execution_count": 21,
   "metadata": {},
   "outputs": [
    {
     "name": "stderr",
     "output_type": "stream",
     "text": [
      "/home/nstiegle/miniforge3/envs/stamp_viewer/lib/python3.7/site-packages/seticore/viewer.py:125: H5pyDeprecationWarning: The default file mode will change to 'r' (read-only) in h5py 3.0. To suppress this warning, pass the mode you need to h5py.File(), or set the global default h5.get_config().default_file_mode, or set the environment variable H5PY_DEFAULT_READONLY=1. Available modes are: 'r', 'r+', 'w', 'w-'/'x', 'a'. See the docs for details.\n",
      "  self.h5 = h5py.File(filepath)\n"
     ]
    }
   ],
   "source": [
    "# Calculate the antenna snrs and signals for each hit\n",
    "all_snrs = []\n",
    "all_signals = []\n",
    "for i in range(len(file_info)):\n",
    "    row = file_info.iloc[i]\n",
    "    stamp = find_stamp_of_hit(row.file_uri, row.signal_frequency)\n",
    "    if stamp != None:\n",
    "        snrs, signals = antenna_signal_snr_power(stamp)\n",
    "    else:\n",
    "        print(f\"Row {i} couldn't find a stamp file :/\")\n",
    "        snrs = []\n",
    "        signals = []\n",
    "\n",
    "    all_snrs.append(snrs)\n",
    "    all_signals.append(signals)\n",
    "\n",
    "# Make new columns in the df for the antenna snrs and signals on each hit\n",
    "file_info[\"antenna_snrs\"] = all_snrs\n",
    "file_info[\"antenna_signals\"] = all_signals"
   ]
  },
  {
   "cell_type": "code",
   "execution_count": 22,
   "metadata": {},
   "outputs": [
    {
     "data": {
      "image/png": "[encoded data removed]",
      "text/plain": [
       "<Figure size 640x480 with 1 Axes>"
      ]
     },
     "metadata": {},
     "output_type": "display_data"
    },
    {
     "data": {
      "image/png": "[encoded data removed]",
      "text/plain": [
       "<Figure size 640x480 with 1 Axes>"
      ]
     },
     "metadata": {},
     "output_type": "display_data"
    }
   ],
   "source": [
    "to_check = 0\n",
    "plt.plot(file_info.antenna_snrs[to_check])\n",
    "plt.show()\n",
    "plt.plot(file_info.antenna_signals[to_check])\n",
    "plt.show()"
   ]
  },
  {
   "cell_type": "code",
   "execution_count": 23,
   "metadata": {},
   "outputs": [],
   "source": [
    "# It does take a while - can I benchmark it?"
   ]
  },
  {
   "cell_type": "code",
   "execution_count": 24,
   "metadata": {},
   "outputs": [
    {
     "name": "stderr",
     "output_type": "stream",
     "text": [
      "/home/nstiegle/miniforge3/envs/stamp_viewer/lib/python3.7/site-packages/seticore/viewer.py:125: H5pyDeprecationWarning: The default file mode will change to 'r' (read-only) in h5py 3.0. To suppress this warning, pass the mode you need to h5py.File(), or set the global default h5.get_config().default_file_mode, or set the environment variable H5PY_DEFAULT_READONLY=1. Available modes are: 'r', 'r+', 'w', 'w-'/'x', 'a'. See the docs for details.\n",
      "  self.h5 = h5py.File(filepath)\n"
     ]
    },
    {
     "ename": "KeyboardInterrupt",
     "evalue": "",
     "output_type": "error",
     "traceback": [
      "\u001b[0;31m---------------------------------------------------------------------------\u001b[0m",
      "\u001b[0;31mKeyboardInterrupt\u001b[0m                         Traceback (most recent call last)",
      "\u001b[0;32m/tmp/ipykernel_1433487/916972910.py\u001b[0m in \u001b[0;36m<module>\u001b[0;34m\u001b[0m\n\u001b[0;32m----> 1\u001b[0;31m \u001b[0mget_ipython\u001b[0m\u001b[0;34m(\u001b[0m\u001b[0;34m)\u001b[0m\u001b[0;34m.\u001b[0m\u001b[0mrun_cell_magic\u001b[0m\u001b[0;34m(\u001b[0m\u001b[0;34m'timeit'\u001b[0m\u001b[0;34m,\u001b[0m \u001b[0;34m''\u001b[0m\u001b[0;34m,\u001b[0m \u001b[0;34m'# Calculate the antenna snrs and signals for each hit\\nall_snrs = []\\nall_signals = []\\nfor i in range(len(file_info)):\\n    row = file_info.iloc[i]\\n    stamp = find_stamp_of_hit(row.file_uri, row.signal_frequency)\\n#     if stamp != None:\\n#         snrs, signals = antenna_signal_snr_power(stamp)\\n#     else:\\n#         print(f\"Row {i} couldn\\'t find a stamp file :/\")\\n#         snrs = []\\n#         signals = []\\n\\n#     all_snrs.append(snrs)\\n#     all_signals.append(signals)\\n\\n# # Make new columns in the df for the antenna snrs and signals on each hit\\n# file_info[\"antenna_snrs\"] = all_snrs\\n# file_info[\"antenna_signals\"] = all_signals\\n'\u001b[0m\u001b[0;34m)\u001b[0m\u001b[0;34m\u001b[0m\u001b[0;34m\u001b[0m\u001b[0m\n\u001b[0m",
      "\u001b[0;32m~/miniforge3/envs/stamp_viewer/lib/python3.7/site-packages/IPython/core/interactiveshell.py\u001b[0m in \u001b[0;36mrun_cell_magic\u001b[0;34m(self, magic_name, line, cell)\u001b[0m\n\u001b[1;32m   2470\u001b[0m             \u001b[0;32mwith\u001b[0m \u001b[0mself\u001b[0m\u001b[0;34m.\u001b[0m\u001b[0mbuiltin_trap\u001b[0m\u001b[0;34m:\u001b[0m\u001b[0;34m\u001b[0m\u001b[0;34m\u001b[0m\u001b[0m\n\u001b[1;32m   2471\u001b[0m                 \u001b[0margs\u001b[0m \u001b[0;34m=\u001b[0m \u001b[0;34m(\u001b[0m\u001b[0mmagic_arg_s\u001b[0m\u001b[0;34m,\u001b[0m \u001b[0mcell\u001b[0m\u001b[0;34m)\u001b[0m\u001b[0;34m\u001b[0m\u001b[0;34m\u001b[0m\u001b[0m\n\u001b[0;32m-> 2472\u001b[0;31m                 \u001b[0mresult\u001b[0m \u001b[0;34m=\u001b[0m \u001b[0mfn\u001b[0m\u001b[0;34m(\u001b[0m\u001b[0;34m*\u001b[0m\u001b[0margs\u001b[0m\u001b[0;34m,\u001b[0m \u001b[0;34m**\u001b[0m\u001b[0mkwargs\u001b[0m\u001b[0;34m)\u001b[0m\u001b[0;34m\u001b[0m\u001b[0;34m\u001b[0m\u001b[0m\n\u001b[0m\u001b[1;32m   2473\u001b[0m             \u001b[0;32mreturn\u001b[0m \u001b[0mresult\u001b[0m\u001b[0;34m\u001b[0m\u001b[0;34m\u001b[0m\u001b[0m\n\u001b[1;32m   2474\u001b[0m \u001b[0;34m\u001b[0m\u001b[0m\n",
      "\u001b[0;32m~/miniforge3/envs/stamp_viewer/lib/python3.7/site-packages/decorator.py\u001b[0m in \u001b[0;36mfun\u001b[0;34m(*args, **kw)\u001b[0m\n\u001b[1;32m    230\u001b[0m             \u001b[0;32mif\u001b[0m \u001b[0;32mnot\u001b[0m \u001b[0mkwsyntax\u001b[0m\u001b[0;34m:\u001b[0m\u001b[0;34m\u001b[0m\u001b[0;34m\u001b[0m\u001b[0m\n\u001b[1;32m    231\u001b[0m                 \u001b[0margs\u001b[0m\u001b[0;34m,\u001b[0m \u001b[0mkw\u001b[0m \u001b[0;34m=\u001b[0m \u001b[0mfix\u001b[0m\u001b[0;34m(\u001b[0m\u001b[0margs\u001b[0m\u001b[0;34m,\u001b[0m \u001b[0mkw\u001b[0m\u001b[0;34m,\u001b[0m \u001b[0msig\u001b[0m\u001b[0;34m)\u001b[0m\u001b[0;34m\u001b[0m\u001b[0;34m\u001b[0m\u001b[0m\n\u001b[0;32m--> 232\u001b[0;31m             \u001b[0;32mreturn\u001b[0m \u001b[0mcaller\u001b[0m\u001b[0;34m(\u001b[0m\u001b[0mfunc\u001b[0m\u001b[0;34m,\u001b[0m \u001b[0;34m*\u001b[0m\u001b[0;34m(\u001b[0m\u001b[0mextras\u001b[0m \u001b[0;34m+\u001b[0m \u001b[0margs\u001b[0m\u001b[0;34m)\u001b[0m\u001b[0;34m,\u001b[0m \u001b[0;34m**\u001b[0m\u001b[0mkw\u001b[0m\u001b[0;34m)\u001b[0m\u001b[0;34m\u001b[0m\u001b[0;34m\u001b[0m\u001b[0m\n\u001b[0m\u001b[1;32m    233\u001b[0m     \u001b[0mfun\u001b[0m\u001b[0;34m.\u001b[0m\u001b[0m__name__\u001b[0m \u001b[0;34m=\u001b[0m \u001b[0mfunc\u001b[0m\u001b[0;34m.\u001b[0m\u001b[0m__name__\u001b[0m\u001b[0;34m\u001b[0m\u001b[0;34m\u001b[0m\u001b[0m\n\u001b[1;32m    234\u001b[0m     \u001b[0mfun\u001b[0m\u001b[0;34m.\u001b[0m\u001b[0m__doc__\u001b[0m \u001b[0;34m=\u001b[0m \u001b[0mfunc\u001b[0m\u001b[0;34m.\u001b[0m\u001b[0m__doc__\u001b[0m\u001b[0;34m\u001b[0m\u001b[0;34m\u001b[0m\u001b[0m\n",
      "\u001b[0;32m~/miniforge3/envs/stamp_viewer/lib/python3.7/site-packages/IPython/core/magic.py\u001b[0m in \u001b[0;36m<lambda>\u001b[0;34m(f, *a, **k)\u001b[0m\n\u001b[1;32m    185\u001b[0m     \u001b[0;31m# but it's overkill for just that one bit of state.\u001b[0m\u001b[0;34m\u001b[0m\u001b[0;34m\u001b[0m\u001b[0;34m\u001b[0m\u001b[0m\n\u001b[1;32m    186\u001b[0m     \u001b[0;32mdef\u001b[0m \u001b[0mmagic_deco\u001b[0m\u001b[0;34m(\u001b[0m\u001b[0marg\u001b[0m\u001b[0;34m)\u001b[0m\u001b[0;34m:\u001b[0m\u001b[0;34m\u001b[0m\u001b[0;34m\u001b[0m\u001b[0m\n\u001b[0;32m--> 187\u001b[0;31m         \u001b[0mcall\u001b[0m \u001b[0;34m=\u001b[0m \u001b[0;32mlambda\u001b[0m \u001b[0mf\u001b[0m\u001b[0;34m,\u001b[0m \u001b[0;34m*\u001b[0m\u001b[0ma\u001b[0m\u001b[0;34m,\u001b[0m \u001b[0;34m**\u001b[0m\u001b[0mk\u001b[0m\u001b[0;34m:\u001b[0m \u001b[0mf\u001b[0m\u001b[0;34m(\u001b[0m\u001b[0;34m*\u001b[0m\u001b[0ma\u001b[0m\u001b[0;34m,\u001b[0m \u001b[0;34m**\u001b[0m\u001b[0mk\u001b[0m\u001b[0;34m)\u001b[0m\u001b[0;34m\u001b[0m\u001b[0;34m\u001b[0m\u001b[0m\n\u001b[0m\u001b[1;32m    188\u001b[0m \u001b[0;34m\u001b[0m\u001b[0m\n\u001b[1;32m    189\u001b[0m         \u001b[0;32mif\u001b[0m \u001b[0mcallable\u001b[0m\u001b[0;34m(\u001b[0m\u001b[0marg\u001b[0m\u001b[0;34m)\u001b[0m\u001b[0;34m:\u001b[0m\u001b[0;34m\u001b[0m\u001b[0;34m\u001b[0m\u001b[0m\n",
      "\u001b[0;32m~/miniforge3/envs/stamp_viewer/lib/python3.7/site-packages/IPython/core/magics/execution.py\u001b[0m in \u001b[0;36mtimeit\u001b[0;34m(self, line, cell, local_ns)\u001b[0m\n\u001b[1;32m   1182\u001b[0m                     \u001b[0;32mbreak\u001b[0m\u001b[0;34m\u001b[0m\u001b[0;34m\u001b[0m\u001b[0m\n\u001b[1;32m   1183\u001b[0m \u001b[0;34m\u001b[0m\u001b[0m\n\u001b[0;32m-> 1184\u001b[0;31m         \u001b[0mall_runs\u001b[0m \u001b[0;34m=\u001b[0m \u001b[0mtimer\u001b[0m\u001b[0;34m.\u001b[0m\u001b[0mrepeat\u001b[0m\u001b[0;34m(\u001b[0m\u001b[0mrepeat\u001b[0m\u001b[0;34m,\u001b[0m \u001b[0mnumber\u001b[0m\u001b[0;34m)\u001b[0m\u001b[0;34m\u001b[0m\u001b[0;34m\u001b[0m\u001b[0m\n\u001b[0m\u001b[1;32m   1185\u001b[0m         \u001b[0mbest\u001b[0m \u001b[0;34m=\u001b[0m \u001b[0mmin\u001b[0m\u001b[0;34m(\u001b[0m\u001b[0mall_runs\u001b[0m\u001b[0;34m)\u001b[0m \u001b[0;34m/\u001b[0m \u001b[0mnumber\u001b[0m\u001b[0;34m\u001b[0m\u001b[0;34m\u001b[0m\u001b[0m\n\u001b[1;32m   1186\u001b[0m         \u001b[0mworst\u001b[0m \u001b[0;34m=\u001b[0m \u001b[0mmax\u001b[0m\u001b[0;34m(\u001b[0m\u001b[0mall_runs\u001b[0m\u001b[0;34m)\u001b[0m \u001b[0;34m/\u001b[0m \u001b[0mnumber\u001b[0m\u001b[0;34m\u001b[0m\u001b[0;34m\u001b[0m\u001b[0m\n",
      "\u001b[0;32m~/miniforge3/envs/stamp_viewer/lib/python3.7/timeit.py\u001b[0m in \u001b[0;36mrepeat\u001b[0;34m(self, repeat, number)\u001b[0m\n\u001b[1;32m    203\u001b[0m         \u001b[0mr\u001b[0m \u001b[0;34m=\u001b[0m \u001b[0;34m[\u001b[0m\u001b[0;34m]\u001b[0m\u001b[0;34m\u001b[0m\u001b[0;34m\u001b[0m\u001b[0m\n\u001b[1;32m    204\u001b[0m         \u001b[0;32mfor\u001b[0m \u001b[0mi\u001b[0m \u001b[0;32min\u001b[0m \u001b[0mrange\u001b[0m\u001b[0;34m(\u001b[0m\u001b[0mrepeat\u001b[0m\u001b[0;34m)\u001b[0m\u001b[0;34m:\u001b[0m\u001b[0;34m\u001b[0m\u001b[0;34m\u001b[0m\u001b[0m\n\u001b[0;32m--> 205\u001b[0;31m             \u001b[0mt\u001b[0m \u001b[0;34m=\u001b[0m \u001b[0mself\u001b[0m\u001b[0;34m.\u001b[0m\u001b[0mtimeit\u001b[0m\u001b[0;34m(\u001b[0m\u001b[0mnumber\u001b[0m\u001b[0;34m)\u001b[0m\u001b[0;34m\u001b[0m\u001b[0;34m\u001b[0m\u001b[0m\n\u001b[0m\u001b[1;32m    206\u001b[0m             \u001b[0mr\u001b[0m\u001b[0;34m.\u001b[0m\u001b[0mappend\u001b[0m\u001b[0;34m(\u001b[0m\u001b[0mt\u001b[0m\u001b[0;34m)\u001b[0m\u001b[0;34m\u001b[0m\u001b[0;34m\u001b[0m\u001b[0m\n\u001b[1;32m    207\u001b[0m         \u001b[0;32mreturn\u001b[0m \u001b[0mr\u001b[0m\u001b[0;34m\u001b[0m\u001b[0;34m\u001b[0m\u001b[0m\n",
      "\u001b[0;32m~/miniforge3/envs/stamp_viewer/lib/python3.7/site-packages/IPython/core/magics/execution.py\u001b[0m in \u001b[0;36mtimeit\u001b[0;34m(self, number)\u001b[0m\n\u001b[1;32m    167\u001b[0m         \u001b[0mgc\u001b[0m\u001b[0;34m.\u001b[0m\u001b[0mdisable\u001b[0m\u001b[0;34m(\u001b[0m\u001b[0;34m)\u001b[0m\u001b[0;34m\u001b[0m\u001b[0;34m\u001b[0m\u001b[0m\n\u001b[1;32m    168\u001b[0m         \u001b[0;32mtry\u001b[0m\u001b[0;34m:\u001b[0m\u001b[0;34m\u001b[0m\u001b[0;34m\u001b[0m\u001b[0m\n\u001b[0;32m--> 169\u001b[0;31m             \u001b[0mtiming\u001b[0m \u001b[0;34m=\u001b[0m \u001b[0mself\u001b[0m\u001b[0;34m.\u001b[0m\u001b[0minner\u001b[0m\u001b[0;34m(\u001b[0m\u001b[0mit\u001b[0m\u001b[0;34m,\u001b[0m \u001b[0mself\u001b[0m\u001b[0;34m.\u001b[0m\u001b[0mtimer\u001b[0m\u001b[0;34m)\u001b[0m\u001b[0;34m\u001b[0m\u001b[0;34m\u001b[0m\u001b[0m\n\u001b[0m\u001b[1;32m    170\u001b[0m         \u001b[0;32mfinally\u001b[0m\u001b[0;34m:\u001b[0m\u001b[0;34m\u001b[0m\u001b[0;34m\u001b[0m\u001b[0m\n\u001b[1;32m    171\u001b[0m             \u001b[0;32mif\u001b[0m \u001b[0mgcold\u001b[0m\u001b[0;34m:\u001b[0m\u001b[0;34m\u001b[0m\u001b[0;34m\u001b[0m\u001b[0m\n",
      "\u001b[0;32m<magic-timeit>\u001b[0m in \u001b[0;36minner\u001b[0;34m(_it, _timer)\u001b[0m\n",
      "\u001b[0;32m/tmp/ipykernel_1433487/2073148750.py\u001b[0m in \u001b[0;36mfind_stamp_of_hit\u001b[0;34m(hit_uri, hit_frequency, threshold)\u001b[0m\n\u001b[1;32m     11\u001b[0m     \u001b[0mstamp_uri\u001b[0m \u001b[0;34m=\u001b[0m \u001b[0mstamp_filepath_of\u001b[0m\u001b[0;34m(\u001b[0m\u001b[0mhit_uri\u001b[0m\u001b[0;34m)\u001b[0m\u001b[0;34m\u001b[0m\u001b[0;34m\u001b[0m\u001b[0m\n\u001b[1;32m     12\u001b[0m     \u001b[0mstamps_gen\u001b[0m \u001b[0;34m=\u001b[0m \u001b[0mviewer\u001b[0m\u001b[0;34m.\u001b[0m\u001b[0mread_stamps\u001b[0m\u001b[0;34m(\u001b[0m\u001b[0mstamp_uri\u001b[0m\u001b[0;34m,\u001b[0m \u001b[0mfind_recipe\u001b[0m\u001b[0;34m=\u001b[0m\u001b[0;32mTrue\u001b[0m\u001b[0;34m)\u001b[0m\u001b[0;34m\u001b[0m\u001b[0;34m\u001b[0m\u001b[0m\n\u001b[0;32m---> 13\u001b[0;31m     \u001b[0;32mfor\u001b[0m \u001b[0mstamp\u001b[0m \u001b[0;32min\u001b[0m \u001b[0mstamps_gen\u001b[0m\u001b[0;34m:\u001b[0m\u001b[0;34m\u001b[0m\u001b[0;34m\u001b[0m\u001b[0m\n\u001b[0m\u001b[1;32m     14\u001b[0m         \u001b[0;32massert\u001b[0m\u001b[0;34m(\u001b[0m\u001b[0mstamp\u001b[0m \u001b[0;34m!=\u001b[0m \u001b[0;32mNone\u001b[0m\u001b[0;34m)\u001b[0m\u001b[0;34m\u001b[0m\u001b[0;34m\u001b[0m\u001b[0m\n\u001b[1;32m     15\u001b[0m         \u001b[0;32massert\u001b[0m\u001b[0;34m(\u001b[0m\u001b[0mstamp\u001b[0m\u001b[0;34m.\u001b[0m\u001b[0mrecipe\u001b[0m \u001b[0;34m!=\u001b[0m \u001b[0;32mNone\u001b[0m\u001b[0;34m)\u001b[0m\u001b[0;34m\u001b[0m\u001b[0;34m\u001b[0m\u001b[0m\n",
      "\u001b[0;32m~/miniforge3/envs/stamp_viewer/lib/python3.7/site-packages/seticore/viewer.py\u001b[0m in \u001b[0;36mread_stamps\u001b[0;34m(filepath, find_recipe)\u001b[0m\n\u001b[1;32m    688\u001b[0m             \u001b[0mrecipe\u001b[0m \u001b[0;34m=\u001b[0m \u001b[0mfind_stamp_recipe\u001b[0m\u001b[0;34m(\u001b[0m\u001b[0mfilepath\u001b[0m\u001b[0;34m)\u001b[0m\u001b[0;34m\u001b[0m\u001b[0;34m\u001b[0m\u001b[0m\n\u001b[1;32m    689\u001b[0m \u001b[0;34m\u001b[0m\u001b[0m\n\u001b[0;32m--> 690\u001b[0;31m         \u001b[0;32mfor\u001b[0m \u001b[0ms\u001b[0m \u001b[0;32min\u001b[0m \u001b[0mstamps\u001b[0m\u001b[0;34m:\u001b[0m\u001b[0;34m\u001b[0m\u001b[0;34m\u001b[0m\u001b[0m\n\u001b[0m\u001b[1;32m    691\u001b[0m             \u001b[0;32myield\u001b[0m \u001b[0mStamp\u001b[0m\u001b[0;34m(\u001b[0m\u001b[0ms\u001b[0m\u001b[0;34m,\u001b[0m \u001b[0mrecipe\u001b[0m\u001b[0;34m)\u001b[0m\u001b[0;34m\u001b[0m\u001b[0;34m\u001b[0m\u001b[0m\n\u001b[1;32m    692\u001b[0m \u001b[0;34m\u001b[0m\u001b[0m\n",
      "\u001b[0;31mKeyboardInterrupt\u001b[0m: "
     ]
    }
   ],
   "source": [
    "%%timeit\n",
    "# Calculate the antenna snrs and signals for each hit\n",
    "all_snrs = []\n",
    "all_signals = []\n",
    "for i in range(len(file_info)):\n",
    "    row = file_info.iloc[i]\n",
    "    stamp = find_stamp_of_hit(row.file_uri, row.signal_frequency)\n",
    "#     if stamp != None:\n",
    "#         snrs, signals = antenna_signal_snr_power(stamp)\n",
    "#     else:\n",
    "#         print(f\"Row {i} couldn't find a stamp file :/\")\n",
    "#         snrs = []\n",
    "#         signals = []\n",
    "\n",
    "#     all_snrs.append(snrs)\n",
    "#     all_signals.append(signals)\n",
    "\n",
    "# # Make new columns in the df for the antenna snrs and signals on each hit\n",
    "# file_info[\"antenna_snrs\"] = all_snrs\n",
    "# file_info[\"antenna_signals\"] = all_signals"
   ]
  },
  {
   "cell_type": "code",
   "execution_count": null,
   "metadata": {},
   "outputs": [
    {
     "name": "stdout",
     "output_type": "stream",
     "text": [
      "12.9 s ± 45.7 ms per loop (mean ± std. dev. of 7 runs, 1 loop each)\n"
     ]
    }
   ],
   "source": [
    "%%timeit\n",
    "# Calculate the antenna snrs and signals for each hit\n",
    "all_snrs = []\n",
    "all_signals = []\n",
    "for i in range(len(file_info)):\n",
    "    row = file_info.iloc[i]\n",
    "    stamp = find_stamp_of_hit(row.file_uri, row.signal_frequency)\n",
    "    if stamp != None:\n",
    "        snrs, signals = antenna_signal_snr_power(stamp)\n",
    "    else:\n",
    "        print(f\"Row {i} couldn't find a stamp file :/\")\n",
    "        snrs = []\n",
    "        signals = []\n",
    "\n",
    "#     all_snrs.append(snrs)\n",
    "#     all_signals.append(signals)\n",
    "\n",
    "# # Make new columns in the df for the antenna snrs and signals on each hit\n",
    "# file_info[\"antenna_snrs\"] = all_snrs\n",
    "# file_info[\"antenna_signals\"] = all_signals"
   ]
  },
  {
   "cell_type": "code",
   "execution_count": null,
   "metadata": {},
   "outputs": [
    {
     "name": "stdout",
     "output_type": "stream",
     "text": [
      "12.9 s ± 23.2 ms per loop (mean ± std. dev. of 7 runs, 1 loop each)\n"
     ]
    }
   ],
   "source": [
    "%%timeit\n",
    "# Calculate the antenna snrs and signals for each hit\n",
    "all_snrs = []\n",
    "all_signals = []\n",
    "for i in range(len(file_info)):\n",
    "    row = file_info.iloc[i]\n",
    "    stamp = find_stamp_of_hit(row.file_uri, row.signal_frequency)\n",
    "    if stamp != None:\n",
    "        snrs, signals = antenna_signal_snr_power(stamp)\n",
    "    else:\n",
    "        print(f\"Row {i} couldn't find a stamp file :/\")\n",
    "        snrs = []\n",
    "        signals = []\n",
    "\n",
    "    all_snrs.append(snrs)\n",
    "    all_signals.append(signals)\n",
    "\n",
    "# # Make new columns in the df for the antenna snrs and signals on each hit\n",
    "# file_info[\"antenna_snrs\"] = all_snrs\n",
    "# file_info[\"antenna_signals\"] = all_signals"
   ]
  },
  {
   "cell_type": "code",
   "execution_count": null,
   "metadata": {},
   "outputs": [
    {
     "name": "stdout",
     "output_type": "stream",
     "text": [
      "12.9 s ± 17.1 ms per loop (mean ± std. dev. of 7 runs, 1 loop each)\n"
     ]
    }
   ],
   "source": [
    "%%timeit\n",
    "# Calculate the antenna snrs and signals for each hit\n",
    "all_snrs = []\n",
    "all_signals = []\n",
    "for i in range(len(file_info)):\n",
    "    row = file_info.iloc[i]\n",
    "    stamp = find_stamp_of_hit(row.file_uri, row.signal_frequency)\n",
    "    if stamp != None:\n",
    "        snrs, signals = antenna_signal_snr_power(stamp)\n",
    "    else:\n",
    "        print(f\"Row {i} couldn't find a stamp file :/\")\n",
    "        snrs = []\n",
    "        signals = []\n",
    "\n",
    "    all_snrs.append(snrs)\n",
    "    all_signals.append(signals)\n",
    "\n",
    "# Make new columns in the df for the antenna snrs and signals on each hit\n",
    "file_info[\"antenna_snrs\"] = all_snrs\n",
    "file_info[\"antenna_signals\"] = all_signals"
   ]
  },
  {
   "cell_type": "code",
   "execution_count": null,
   "metadata": {},
   "outputs": [],
   "source": []
  }
 ],
 "metadata": {
  "kernelspec": {
   "display_name": "Python 3",
   "language": "python",
   "name": "python3"
  },
  "language_info": {
   "codemirror_mode": {
    "name": "ipython",
    "version": 3
   },
   "file_extension": ".py",
   "mimetype": "text/x-python",
   "name": "python",
   "nbconvert_exporter": "python",
   "pygments_lexer": "ipython3",
   "version": "3.7.8"
  }
 },
 "nbformat": 4,
 "nbformat_minor": 2
}
