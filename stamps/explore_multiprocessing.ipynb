{
 "cells": [
  {
   "cell_type": "code",
   "execution_count": 1,
   "metadata": {},
   "outputs": [],
   "source": [
    "# Exploring the use of multiprocessing to speed up find_SARFI.py script"
   ]
  },
  {
   "cell_type": "markdown",
   "metadata": {},
   "source": [
    "### Setup"
   ]
  },
  {
   "cell_type": "code",
   "execution_count": 68,
   "metadata": {},
   "outputs": [],
   "source": [
    "# Import packages\n",
    "import numpy as np\n",
    "import pandas as pd\n",
    "import pickle\n",
    "import os\n",
    "os.environ[\"H5PY_DEFAULT_READONLY\"] = \"1\" # Surpress h5py deprecation warnings\n",
    "import socket\n",
    "import argparse\n",
    "from datetime import datetime\n",
    "from seticore import viewer\n",
    "import multiprocessing"
   ]
  },
  {
   "cell_type": "markdown",
   "metadata": {},
   "source": [
    "### Simple Example "
   ]
  },
  {
   "cell_type": "code",
   "execution_count": 7,
   "metadata": {},
   "outputs": [
    {
     "name": "stdout",
     "output_type": "stream",
     "text": [
      "[[1, 1, 1], [4, 4, 4], [9, 9, 9], [16, 16, 16], [25, 25, 25]]\n"
     ]
    }
   ],
   "source": [
    "# Do a simple example to understand what I'm doing\n",
    "\n",
    "def square(n): \n",
    "\treturn [(n*n)] * 3 \n",
    "\n",
    "# input list \n",
    "mylist = [1,2,3,4,5] \n",
    "\n",
    "# creating a pool object \n",
    "p = multiprocessing.Pool() \n",
    "\n",
    "# map list to target function \n",
    "result = p.map(square, mylist) \n",
    "\n",
    "print(result) \n"
   ]
  },
  {
   "cell_type": "markdown",
   "metadata": {},
   "source": [
    "### Build index of stamp uri and index to go along with every hit in the df"
   ]
  },
  {
   "cell_type": "code",
   "execution_count": null,
   "metadata": {},
   "outputs": [],
   "source": [
    "# Load in simple small dataset for testing\n",
    "data_dir = \"/mnt/cosmic-gpu-1/data0/nstiegle/representative_samples/\"\n",
    "filename = \"hits_in_first_stamp.csv\"\n",
    "data_filename = data_dir + filename\n",
    "df = pd.read_csv(data_filename)\n",
    "print(df.shape)"
   ]
  },
  {
   "cell_type": "code",
   "execution_count": 15,
   "metadata": {},
   "outputs": [],
   "source": [
    "# Look for the stamp in a single stamp file\n",
    "# Assumes the stamp_uri exists \n",
    "def find_stamp_in_single_file(stamp_uri, hit_frequency, threshold):\n",
    "    # Check each stamp in the file to see if it matches\n",
    "    stamps_gen = viewer.read_stamps(stamp_uri, find_recipe=True)\n",
    "    for i, stamp in enumerate(stamps_gen):\n",
    "        assert(stamp != None)\n",
    "        assert(stamp.recipe != None)\n",
    "        if abs(stamp.stamp.signal.frequency - hit_frequency) < threshold*1e-6:\n",
    "            # Found the stamp!\n",
    "            return i, stamp\n",
    "    \n",
    "    # Didn't find the stamp in this whole file of stamps\n",
    "    return None, None\n",
    "\n",
    "# Given a stamp_uri, increments the index of the stamp file by one (so if it's /.../...seticore.0000.stamps it goes to /.../...seticore.0001.stamps)\n",
    "def increment_stamp_uri(stamp_uri):\n",
    "    split_uri = stamp_uri.split('.')\n",
    "    assert(split_uri[-1] == 'stamps')\n",
    "    num = int(split_uri[-2])\n",
    "    num += 1\n",
    "    split_uri[-2] = str(num).zfill(4)\n",
    "    return \".\".join(split_uri)\n",
    "\n",
    "# Finds where the stamp of a given hit is\n",
    "# Takes:\n",
    "# - stamp URI (of stamp file)\n",
    "# - the frequency the hit occurred at\n",
    "# - The width of the stamp file (distance in Hz from center of stamp file to hit_frequency to call hit in stamp file)\n",
    "# Returns stamp_uri, index_in_stamp_file if found, otherwise None, None\n",
    "def find_stamp_location_helper(stamp_uri, hit_frequency, threshold):\n",
    "    # Check stamp file passed in exists\n",
    "    if not os.path.exists(stamp_uri):\n",
    "        return None, None\n",
    "    \n",
    "    # Look for stamp in the stamp file given\n",
    "    index, stamp = find_stamp_in_single_file(stamp_uri, hit_frequency, threshold)\n",
    "    if (index != None) and (stamp != None):\n",
    "        return stamp_uri, index\n",
    "    else:\n",
    "        # Check if there's another stamp file (because stamps can get split up into multiple files)\n",
    "        return find_stamp_location_helper(increment_stamp_uri(stamp_uri), hit_frequency, threshold)\n",
    "\n",
    "# Finds where the stamp of a given hit is\n",
    "# Takes:\n",
    "# - hit URI (of .hits file)\n",
    "# - the frequency the hit occurred at\n",
    "# - The width of the stamp file (distance in Hz from center of stamp file to hit_frequency to call hit in stamp file)\n",
    "# Returns stamp_uri, index_in_stamp_file if found, otherwise None, None\n",
    "def find_stamp_location(hit_uri, hit_frequency, threshold=500):\n",
    "    # Convert a filepath from pointing to a .hits\n",
    "    # to a .stamps file for the same uri\n",
    "    # If given a .stamps ending, doesn't change it\n",
    "    def stamp_filepath_of(hits_filepath):\n",
    "        return hits_filepath.replace('.hits', '.0000.stamps')\n",
    "\n",
    "    return find_stamp_location_helper(stamp_filepath_of(hit_uri), hit_frequency, threshold)"
   ]
  },
  {
   "cell_type": "code",
   "execution_count": 18,
   "metadata": {},
   "outputs": [
    {
     "name": "stdout",
     "output_type": "stream",
     "text": [
      "/mnt/cosmic-storage-2/data1/vla_target/23A-362.sb43789194.eb44583327.60212.544836180554/23A-362.sb43789194.eb44583327.60212.544836180554.9.1/23A-362.sb43789194.eb44583327.60212.544836180554.9.1.AC.C704.0000.raw.seticore.0000.stamps\n",
      "28\n"
     ]
    },
    {
     "name": "stderr",
     "output_type": "stream",
     "text": [
      "/home/nstiegle/miniforge3/envs/stamp_viewer/lib/python3.7/site-packages/seticore/viewer.py:125: H5pyDeprecationWarning: The default file mode will change to 'r' (read-only) in h5py 3.0. To suppress this warning, pass the mode you need to h5py.File(), or set the global default h5.get_config().default_file_mode, or set the environment variable H5PY_DEFAULT_READONLY=1. Available modes are: 'r', 'r+', 'w', 'w-'/'x', 'a'. See the docs for details.\n",
      "  self.h5 = h5py.File(filepath)\n"
     ]
    }
   ],
   "source": [
    "stamp_uri, stamp_index = find_stamp_location(df.file_uri[0], df.signal_frequency[0])\n",
    "print(stamp_uri)\n",
    "print(stamp_index)"
   ]
  },
  {
   "cell_type": "code",
   "execution_count": 29,
   "metadata": {},
   "outputs": [],
   "source": [
    "temp = df[[\"file_uri\", \"signal_frequency\"]]"
   ]
  },
  {
   "cell_type": "code",
   "execution_count": 32,
   "metadata": {},
   "outputs": [
    {
     "name": "stderr",
     "output_type": "stream",
     "text": [
      "/home/nstiegle/miniforge3/envs/stamp_viewer/lib/python3.7/site-packages/seticore/viewer.py:125: H5pyDeprecationWarning: The default file mode will change to 'r' (read-only) in h5py 3.0. To suppress this warning, pass the mode you need to h5py.File(), or set the global default h5.get_config().default_file_mode, or set the environment variable H5PY_DEFAULT_READONLY=1. Available modes are: 'r', 'r+', 'w', 'w-'/'x', 'a'. See the docs for details.\n",
      "  self.h5 = h5py.File(filepath)\n"
     ]
    },
    {
     "name": "stdout",
     "output_type": "stream",
     "text": [
      "1.34 s ± 75.5 ms per loop (mean ± std. dev. of 7 runs, 1 loop each)\n"
     ]
    }
   ],
   "source": [
    "# %%timeit\n",
    "uris = []\n",
    "indices = []\n",
    "for index, row in df.iterrows():\n",
    "    stamp_uri, stamp_index = find_stamp_location(row.file_uri, row.signal_frequency)\n",
    "    uris.append(stamp_uri)\n",
    "    indices.append(stamp_index)\n",
    "\n",
    "uris = np.array(uris)\n",
    "indices = np.array(indices)"
   ]
  },
  {
   "cell_type": "code",
   "execution_count": 34,
   "metadata": {},
   "outputs": [],
   "source": [
    "assert(len(np.unique(uris)) == 1)\n",
    "assert(len(np.unique(indices) == len(indices)))"
   ]
  },
  {
   "cell_type": "code",
   "execution_count": 50,
   "metadata": {},
   "outputs": [
    {
     "name": "stdout",
     "output_type": "stream",
     "text": [
      "So it'll take 5.466h for 1 in 25\n",
      "So it'll take 136.662h for all data\n"
     ]
    }
   ],
   "source": [
    "# So it takes 1.34 seconds for 85 rows\n",
    "t_per_row_s = 1.34 / 85\n",
    "t_for_1in25_s = t_per_row_s * 1248312\n",
    "t_for_all = t_for_1in25_s * 25\n",
    "print(f\"So it'll take {round(t_for_1in25_s / 60 / 60, 3)}h for 1 in 25\")\n",
    "print(f\"So it'll take {round(t_for_all / 60 / 60, 3)}h for all data\")"
   ]
  },
  {
   "cell_type": "code",
   "execution_count": 69,
   "metadata": {},
   "outputs": [],
   "source": [
    "# Does multiprocessing work with these functions?\n",
    "# Do a simple example to understand what I'm doing\n",
    "\n",
    "# input list \n",
    "inputs = [(row.file_uri, row.signal_frequency) for index, row in df.iterrows()] \n",
    "\n",
    "# creating a pool object \n",
    "p = multiprocessing.Pool() \n",
    "\n",
    "# map list to target function \n",
    "result = np.array(p.starmap(find_stamp_location, inputs))\n",
    "result_uris = result[:, 0]\n",
    "result_indices = result[:, 1].astype(int)\n",
    "assert(np.array_equal(result_uris, uris))\n",
    "assert(np.array_equal(result_indices, indices))"
   ]
  },
  {
   "cell_type": "code",
   "execution_count": 94,
   "metadata": {},
   "outputs": [],
   "source": [
    "%%timeit\n",
    "\n",
    "# What if I just do it single core?\n",
    "inputs = [(row.file_uri, row.signal_frequency) for index, row in df.iterrows()] \n",
    "result = np.array([find_stamp_location(uri, f) for uri, f in inputs])\n",
    "result_uris = result[:, 0]\n",
    "result_indices = result[:, 1].astype(int)"
   ]
  },
  {
   "cell_type": "code",
   "execution_count": 80,
   "metadata": {},
   "outputs": [
    {
     "name": "stdout",
     "output_type": "stream",
     "text": [
      "3.79 s ± 947 ms per loop (mean ± std. dev. of 7 runs, 1 loop each)\n"
     ]
    }
   ],
   "source": [
    "%%timeit\n",
    "# Benchmark it\n",
    "# Create input array\n",
    "inputs = [(row.file_uri, row.signal_frequency) for index, row in df.iterrows()] \n",
    "\n",
    "# creating a pool object \n",
    "p = multiprocessing.Pool() \n",
    "\n",
    "# map list to target function \n",
    "result = np.array(p.starmap(find_stamp_location, inputs))\n",
    "result_uris = result[:, 0]\n",
    "result_indices = result[:, 1].astype(int)"
   ]
  },
  {
   "cell_type": "code",
   "execution_count": 78,
   "metadata": {},
   "outputs": [
    {
     "name": "stdout",
     "output_type": "stream",
     "text": [
      "Took: 0:00:00.009801 to create inputs array\n"
     ]
    },
    {
     "name": "stdout",
     "output_type": "stream",
     "text": [
      "Took: 0:00:02.598647 to run arrays\n"
     ]
    }
   ],
   "source": [
    "# input list \n",
    "start_time = datetime.now()\n",
    "inputs = [(row.file_uri, row.signal_frequency) for index, row in df.iterrows()] \n",
    "after_inputs = datetime.now()\n",
    "print(\"Took:\", after_inputs - start_time, \"to create inputs array\")\n",
    "\n",
    "# creating a pool object \n",
    "p = multiprocessing.Pool() \n",
    "\n",
    "# map list to target function \n",
    "result = np.array(p.starmap(find_stamp_location, inputs))\n",
    "result_uris = result[:, 0]\n",
    "result_indices = result[:, 1].astype(int)\n",
    "end = datetime.now()\n",
    "print(\"Took:\", end - after_inputs, \"to run arrays\")"
   ]
  },
  {
   "cell_type": "code",
   "execution_count": 45,
   "metadata": {},
   "outputs": [
    {
     "name": "stdout",
     "output_type": "stream",
     "text": [
      "(1248312, 30)\n"
     ]
    }
   ],
   "source": [
    "# Let's see if we can make the whole dataset faster\n",
    "# Load in larger dataset\n",
    "data_dir = \"/mnt/cosmic-gpu-1/data0/nstiegle/representative_samples/\"\n",
    "filename = \"1in25_targets.csv\"\n",
    "data_filename = data_dir + filename\n",
    "big_df = pd.read_csv(data_filename)\n",
    "print(big_df.shape)"
   ]
  },
  {
   "cell_type": "code",
   "execution_count": 75,
   "metadata": {},
   "outputs": [
    {
     "name": "stdout",
     "output_type": "stream",
     "text": [
      "Took: 0:00:00.094765 to create inputs array\n"
     ]
    },
    {
     "ename": "KeyboardInterrupt",
     "evalue": "",
     "output_type": "error",
     "traceback": [
      "\u001b[0;31m---------------------------------------------------------------------------\u001b[0m",
      "\u001b[0;31mKeyboardInterrupt\u001b[0m                         Traceback (most recent call last)",
      "\u001b[0;32m/tmp/ipykernel_1513215/125618326.py\u001b[0m in \u001b[0;36m<module>\u001b[0;34m\u001b[0m\n\u001b[1;32m      9\u001b[0m \u001b[0;34m\u001b[0m\u001b[0m\n\u001b[1;32m     10\u001b[0m \u001b[0;31m# map list to target function\u001b[0m\u001b[0;34m\u001b[0m\u001b[0;34m\u001b[0m\u001b[0;34m\u001b[0m\u001b[0m\n\u001b[0;32m---> 11\u001b[0;31m \u001b[0mresult\u001b[0m \u001b[0;34m=\u001b[0m \u001b[0mnp\u001b[0m\u001b[0;34m.\u001b[0m\u001b[0marray\u001b[0m\u001b[0;34m(\u001b[0m\u001b[0mp\u001b[0m\u001b[0;34m.\u001b[0m\u001b[0mstarmap\u001b[0m\u001b[0;34m(\u001b[0m\u001b[0mfind_stamp_location\u001b[0m\u001b[0;34m,\u001b[0m \u001b[0minputs\u001b[0m\u001b[0;34m)\u001b[0m\u001b[0;34m)\u001b[0m\u001b[0;34m\u001b[0m\u001b[0;34m\u001b[0m\u001b[0m\n\u001b[0m\u001b[1;32m     12\u001b[0m \u001b[0mbig_result_uris\u001b[0m \u001b[0;34m=\u001b[0m \u001b[0mresult\u001b[0m\u001b[0;34m[\u001b[0m\u001b[0;34m:\u001b[0m\u001b[0;34m,\u001b[0m \u001b[0;36m0\u001b[0m\u001b[0;34m]\u001b[0m\u001b[0;34m\u001b[0m\u001b[0;34m\u001b[0m\u001b[0m\n\u001b[1;32m     13\u001b[0m \u001b[0mbig_result_indices\u001b[0m \u001b[0;34m=\u001b[0m \u001b[0mresult\u001b[0m\u001b[0;34m[\u001b[0m\u001b[0;34m:\u001b[0m\u001b[0;34m,\u001b[0m \u001b[0;36m1\u001b[0m\u001b[0;34m]\u001b[0m\u001b[0;34m.\u001b[0m\u001b[0mastype\u001b[0m\u001b[0;34m(\u001b[0m\u001b[0mint\u001b[0m\u001b[0;34m)\u001b[0m\u001b[0;34m\u001b[0m\u001b[0;34m\u001b[0m\u001b[0m\n",
      "\u001b[0;32m~/miniforge3/envs/stamp_viewer/lib/python3.7/multiprocessing/pool.py\u001b[0m in \u001b[0;36mstarmap\u001b[0;34m(self, func, iterable, chunksize)\u001b[0m\n\u001b[1;32m    274\u001b[0m         \u001b[0;31m`\u001b[0m\u001b[0mfunc\u001b[0m\u001b[0;31m`\u001b[0m \u001b[0;32mand\u001b[0m \u001b[0;34m(\u001b[0m\u001b[0ma\u001b[0m\u001b[0;34m,\u001b[0m \u001b[0mb\u001b[0m\u001b[0;34m)\u001b[0m \u001b[0mbecomes\u001b[0m \u001b[0mfunc\u001b[0m\u001b[0;34m(\u001b[0m\u001b[0ma\u001b[0m\u001b[0;34m,\u001b[0m \u001b[0mb\u001b[0m\u001b[0;34m)\u001b[0m\u001b[0;34m.\u001b[0m\u001b[0;34m\u001b[0m\u001b[0;34m\u001b[0m\u001b[0m\n\u001b[1;32m    275\u001b[0m         '''\n\u001b[0;32m--> 276\u001b[0;31m         \u001b[0;32mreturn\u001b[0m \u001b[0mself\u001b[0m\u001b[0;34m.\u001b[0m\u001b[0m_map_async\u001b[0m\u001b[0;34m(\u001b[0m\u001b[0mfunc\u001b[0m\u001b[0;34m,\u001b[0m \u001b[0miterable\u001b[0m\u001b[0;34m,\u001b[0m \u001b[0mstarmapstar\u001b[0m\u001b[0;34m,\u001b[0m \u001b[0mchunksize\u001b[0m\u001b[0;34m)\u001b[0m\u001b[0;34m.\u001b[0m\u001b[0mget\u001b[0m\u001b[0;34m(\u001b[0m\u001b[0;34m)\u001b[0m\u001b[0;34m\u001b[0m\u001b[0;34m\u001b[0m\u001b[0m\n\u001b[0m\u001b[1;32m    277\u001b[0m \u001b[0;34m\u001b[0m\u001b[0m\n\u001b[1;32m    278\u001b[0m     def starmap_async(self, func, iterable, chunksize=None, callback=None,\n",
      "\u001b[0;32m~/miniforge3/envs/stamp_viewer/lib/python3.7/multiprocessing/pool.py\u001b[0m in \u001b[0;36mget\u001b[0;34m(self, timeout)\u001b[0m\n\u001b[1;32m    649\u001b[0m \u001b[0;34m\u001b[0m\u001b[0m\n\u001b[1;32m    650\u001b[0m     \u001b[0;32mdef\u001b[0m \u001b[0mget\u001b[0m\u001b[0;34m(\u001b[0m\u001b[0mself\u001b[0m\u001b[0;34m,\u001b[0m \u001b[0mtimeout\u001b[0m\u001b[0;34m=\u001b[0m\u001b[0;32mNone\u001b[0m\u001b[0;34m)\u001b[0m\u001b[0;34m:\u001b[0m\u001b[0;34m\u001b[0m\u001b[0;34m\u001b[0m\u001b[0m\n\u001b[0;32m--> 651\u001b[0;31m         \u001b[0mself\u001b[0m\u001b[0;34m.\u001b[0m\u001b[0mwait\u001b[0m\u001b[0;34m(\u001b[0m\u001b[0mtimeout\u001b[0m\u001b[0;34m)\u001b[0m\u001b[0;34m\u001b[0m\u001b[0;34m\u001b[0m\u001b[0m\n\u001b[0m\u001b[1;32m    652\u001b[0m         \u001b[0;32mif\u001b[0m \u001b[0;32mnot\u001b[0m \u001b[0mself\u001b[0m\u001b[0;34m.\u001b[0m\u001b[0mready\u001b[0m\u001b[0;34m(\u001b[0m\u001b[0;34m)\u001b[0m\u001b[0;34m:\u001b[0m\u001b[0;34m\u001b[0m\u001b[0;34m\u001b[0m\u001b[0m\n\u001b[1;32m    653\u001b[0m             \u001b[0;32mraise\u001b[0m \u001b[0mTimeoutError\u001b[0m\u001b[0;34m\u001b[0m\u001b[0;34m\u001b[0m\u001b[0m\n",
      "\u001b[0;32m~/miniforge3/envs/stamp_viewer/lib/python3.7/multiprocessing/pool.py\u001b[0m in \u001b[0;36mwait\u001b[0;34m(self, timeout)\u001b[0m\n\u001b[1;32m    646\u001b[0m \u001b[0;34m\u001b[0m\u001b[0m\n\u001b[1;32m    647\u001b[0m     \u001b[0;32mdef\u001b[0m \u001b[0mwait\u001b[0m\u001b[0;34m(\u001b[0m\u001b[0mself\u001b[0m\u001b[0;34m,\u001b[0m \u001b[0mtimeout\u001b[0m\u001b[0;34m=\u001b[0m\u001b[0;32mNone\u001b[0m\u001b[0;34m)\u001b[0m\u001b[0;34m:\u001b[0m\u001b[0;34m\u001b[0m\u001b[0;34m\u001b[0m\u001b[0m\n\u001b[0;32m--> 648\u001b[0;31m         \u001b[0mself\u001b[0m\u001b[0;34m.\u001b[0m\u001b[0m_event\u001b[0m\u001b[0;34m.\u001b[0m\u001b[0mwait\u001b[0m\u001b[0;34m(\u001b[0m\u001b[0mtimeout\u001b[0m\u001b[0;34m)\u001b[0m\u001b[0;34m\u001b[0m\u001b[0;34m\u001b[0m\u001b[0m\n\u001b[0m\u001b[1;32m    649\u001b[0m \u001b[0;34m\u001b[0m\u001b[0m\n\u001b[1;32m    650\u001b[0m     \u001b[0;32mdef\u001b[0m \u001b[0mget\u001b[0m\u001b[0;34m(\u001b[0m\u001b[0mself\u001b[0m\u001b[0;34m,\u001b[0m \u001b[0mtimeout\u001b[0m\u001b[0;34m=\u001b[0m\u001b[0;32mNone\u001b[0m\u001b[0;34m)\u001b[0m\u001b[0;34m:\u001b[0m\u001b[0;34m\u001b[0m\u001b[0;34m\u001b[0m\u001b[0m\n",
      "\u001b[0;32m~/miniforge3/envs/stamp_viewer/lib/python3.7/threading.py\u001b[0m in \u001b[0;36mwait\u001b[0;34m(self, timeout)\u001b[0m\n\u001b[1;32m    550\u001b[0m             \u001b[0msignaled\u001b[0m \u001b[0;34m=\u001b[0m \u001b[0mself\u001b[0m\u001b[0;34m.\u001b[0m\u001b[0m_flag\u001b[0m\u001b[0;34m\u001b[0m\u001b[0;34m\u001b[0m\u001b[0m\n\u001b[1;32m    551\u001b[0m             \u001b[0;32mif\u001b[0m \u001b[0;32mnot\u001b[0m \u001b[0msignaled\u001b[0m\u001b[0;34m:\u001b[0m\u001b[0;34m\u001b[0m\u001b[0;34m\u001b[0m\u001b[0m\n\u001b[0;32m--> 552\u001b[0;31m                 \u001b[0msignaled\u001b[0m \u001b[0;34m=\u001b[0m \u001b[0mself\u001b[0m\u001b[0;34m.\u001b[0m\u001b[0m_cond\u001b[0m\u001b[0;34m.\u001b[0m\u001b[0mwait\u001b[0m\u001b[0;34m(\u001b[0m\u001b[0mtimeout\u001b[0m\u001b[0;34m)\u001b[0m\u001b[0;34m\u001b[0m\u001b[0;34m\u001b[0m\u001b[0m\n\u001b[0m\u001b[1;32m    553\u001b[0m             \u001b[0;32mreturn\u001b[0m \u001b[0msignaled\u001b[0m\u001b[0;34m\u001b[0m\u001b[0;34m\u001b[0m\u001b[0m\n\u001b[1;32m    554\u001b[0m \u001b[0;34m\u001b[0m\u001b[0m\n",
      "\u001b[0;32m~/miniforge3/envs/stamp_viewer/lib/python3.7/threading.py\u001b[0m in \u001b[0;36mwait\u001b[0;34m(self, timeout)\u001b[0m\n\u001b[1;32m    294\u001b[0m         \u001b[0;32mtry\u001b[0m\u001b[0;34m:\u001b[0m    \u001b[0;31m# restore state no matter what (e.g., KeyboardInterrupt)\u001b[0m\u001b[0;34m\u001b[0m\u001b[0;34m\u001b[0m\u001b[0m\n\u001b[1;32m    295\u001b[0m             \u001b[0;32mif\u001b[0m \u001b[0mtimeout\u001b[0m \u001b[0;32mis\u001b[0m \u001b[0;32mNone\u001b[0m\u001b[0;34m:\u001b[0m\u001b[0;34m\u001b[0m\u001b[0;34m\u001b[0m\u001b[0m\n\u001b[0;32m--> 296\u001b[0;31m                 \u001b[0mwaiter\u001b[0m\u001b[0;34m.\u001b[0m\u001b[0macquire\u001b[0m\u001b[0;34m(\u001b[0m\u001b[0;34m)\u001b[0m\u001b[0;34m\u001b[0m\u001b[0;34m\u001b[0m\u001b[0m\n\u001b[0m\u001b[1;32m    297\u001b[0m                 \u001b[0mgotit\u001b[0m \u001b[0;34m=\u001b[0m \u001b[0;32mTrue\u001b[0m\u001b[0;34m\u001b[0m\u001b[0;34m\u001b[0m\u001b[0m\n\u001b[1;32m    298\u001b[0m             \u001b[0;32melse\u001b[0m\u001b[0;34m:\u001b[0m\u001b[0;34m\u001b[0m\u001b[0;34m\u001b[0m\u001b[0m\n",
      "\u001b[0;31mKeyboardInterrupt\u001b[0m: "
     ]
    }
   ],
   "source": [
    "# input list \n",
    "start_time = datetime.now()\n",
    "inputs = [(row.file_uri, row.signal_frequency) for index, row in big_df[:1000].iterrows()] \n",
    "after_inputs = datetime.now()\n",
    "print(\"Took:\", after_inputs - start_time, \"to create inputs array\")\n",
    "\n",
    "# creating a pool object \n",
    "p = multiprocessing.Pool() \n",
    "\n",
    "# map list to target function \n",
    "result = np.array(p.starmap(find_stamp_location, inputs))\n",
    "big_result_uris = result[:, 0]\n",
    "big_result_indices = result[:, 1].astype(int)\n",
    "end = datetime.now()\n",
    "print(\"Took:\", end - after_inputs, \"to run arrays\")\n"
   ]
  },
  {
   "cell_type": "code",
   "execution_count": null,
   "metadata": {},
   "outputs": [],
   "source": []
  }
 ],
 "metadata": {
  "kernelspec": {
   "display_name": "stamp_viewer",
   "language": "python",
   "name": "python3"
  },
  "language_info": {
   "codemirror_mode": {
    "name": "ipython",
    "version": 3
   },
   "file_extension": ".py",
   "mimetype": "text/x-python",
   "name": "python",
   "nbconvert_exporter": "python",
   "pygments_lexer": "ipython3",
   "version": "3.7.8"
  }
 },
 "nbformat": 4,
 "nbformat_minor": 2
}
