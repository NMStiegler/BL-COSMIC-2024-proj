{
 "cells": [
  {
   "cell_type": "code",
   "execution_count": 1,
   "metadata": {},
   "outputs": [],
   "source": [
    "# Import useful packages\n",
    "import numpy as np\n",
    "import matplotlib.pyplot as plt\n",
    "import pandas as pd\n",
    "from scipy.sparse import csr_array\n",
    "from scipy.sparse import lil_array\n",
    "from scipy.sparse import save_npz\n",
    "from scipy.sparse import load_npz\n",
    "import os\n",
    "from datetime import datetime, timedelta"
   ]
  },
  {
   "cell_type": "code",
   "execution_count": 3,
   "metadata": {},
   "outputs": [],
   "source": [
    "# Read in the data\n",
    "\n",
    "# Check which server we're on (in case the data is in different places on different servers)\n",
    "import socket\n",
    "hostname = socket.gethostname()\n",
    "\n",
    "# Get paths to data\n",
    "if hostname == \"blpc1\" or hostname == \"blpc2\":\n",
    "    data_path = \"/datax/scratch/nstieg/\"\n",
    "elif hostname == \"cosmic-gpu-1\":\n",
    "    data_path = \"/mnt/cosmic-gpu-1/data0/nstiegle/\"\n",
    "else:\n",
    "    raise Exception(\"Data path not known\")\n",
    "\n",
    "full_dataset_path = data_path + \"25GHz_higher.pkl\"\n",
    "coherent_dataset_path = data_path + \"25GHz_higher_coherent.pkl\"\n",
    "incoherent_dataset_path = data_path + \"25GHz_higher_incoherent.pkl\"\n",
    "\n",
    "# Read in data\n",
    "# coherent = pd.read_pickle(coherent_dataset_path)\n",
    "# incoherent = pd.read_pickle(incoherent_dataset_path)\n",
    "df = pd.read_pickle(full_dataset_path)"
   ]
  },
  {
   "cell_type": "code",
   "execution_count": 5,
   "metadata": {},
   "outputs": [],
   "source": [
    "# Check what the extensions of the file_uri's are in the full dataset. Are any of them the actual stamps?\n",
    "for file_uri in df[\"file_uri\"].tolist():\n",
    "    filename = file_uri.split('/')[-1]\n",
    "    extension = filename.split('.')[-1]\n",
    "    if extension != \"hits\":\n",
    "        print(file_uri)"
   ]
  },
  {
   "cell_type": "code",
   "execution_count": 12,
   "metadata": {},
   "outputs": [],
   "source": [
    "# Let's get all the hits which correspond to one stamp file\n",
    "first_stamp = df[\"file_uri\"][0]\n",
    "in_first_stamp = df[df[\"file_uri\"] == first_stamp].reset_index(drop=True)\n",
    "in_first_stamp.shape\n",
    "in_first_stamp.to_csv(\"/home/nstiegle/BL-COSMIC-2024-proj/stamps/hits_in_first_stamp.csv\", index=False)"
   ]
  },
  {
   "cell_type": "code",
   "execution_count": null,
   "metadata": {},
   "outputs": [],
   "source": []
  }
 ],
 "metadata": {
  "kernelspec": {
   "display_name": "cosmic",
   "language": "python",
   "name": "python3"
  },
  "language_info": {
   "codemirror_mode": {
    "name": "ipython",
    "version": 3
   },
   "file_extension": ".py",
   "mimetype": "text/x-python",
   "name": "python",
   "nbconvert_exporter": "python",
   "pygments_lexer": "ipython3",
   "version": "3.10.14"
  }
 },
 "nbformat": 4,
 "nbformat_minor": 2
}
