{
 "cells": [
  {
   "cell_type": "code",
   "execution_count": 1,
   "metadata": {},
   "outputs": [
    {
     "name": "stderr",
     "output_type": "stream",
     "text": [
      "kj/filesystem-disk-unix.c++:1734: warning: PWD environment variable doesn't match current directory; pwd = /home/nstiegle\n"
     ]
    }
   ],
   "source": [
    "# Import useful packages\n",
    "import numpy as np\n",
    "import matplotlib.pyplot as plt\n",
    "import pandas as pd\n",
    "from scipy.sparse import csr_array\n",
    "from scipy.sparse import lil_array\n",
    "from scipy.sparse import save_npz\n",
    "from scipy.sparse import load_npz\n",
    "import os\n",
    "from datetime import datetime, timedelta\n",
    "from seticore import viewer, hit_capnp, stamp_capnp\n",
    "import traceback"
   ]
  },
  {
   "cell_type": "code",
   "execution_count": 14,
   "metadata": {},
   "outputs": [],
   "source": [
    "# Read in the data\n",
    "\n",
    "# Check which server we're on (in case the data is in different places on different servers)\n",
    "import socket\n",
    "hostname = socket.gethostname()\n",
    "\n",
    "# Get paths to data\n",
    "if hostname == \"blpc1\" or hostname == \"blpc2\":\n",
    "    data_path = \"/datax/scratch/nstieg/\"\n",
    "elif hostname == \"cosmic-gpu-1\":\n",
    "    data_path = \"/mnt/cosmic-gpu-1/data0/nstiegle/\"\n",
    "else:\n",
    "    raise Exception(\"Data path not known\")\n",
    "\n",
    "full_dataset_path = data_path + \"25GHz_higher.pkl\"\n",
    "coherent_dataset_path = data_path + \"25GHz_higher_coherent.pkl\"\n",
    "incoherent_dataset_path = data_path + \"25GHz_higher_incoherent.pkl\"\n",
    "\n",
    "# Read in data\n",
    "# coherent = pd.read_pickle(coherent_dataset_path)\n",
    "# incoherent = pd.read_pickle(incoherent_dataset_path)\n",
    "df = pd.read_pickle(full_dataset_path)"
   ]
  },
  {
   "cell_type": "code",
   "execution_count": 5,
   "metadata": {},
   "outputs": [],
   "source": [
    "# Check what the extensions of the file_uri's are in the full dataset. Are any of them the actual stamps?\n",
    "for file_uri in df[\"file_uri\"].tolist():\n",
    "    filename = file_uri.split('/')[-1]\n",
    "    extension = filename.split('.')[-1]\n",
    "    if extension != \"hits\":\n",
    "        print(file_uri)"
   ]
  },
  {
   "cell_type": "code",
   "execution_count": 12,
   "metadata": {},
   "outputs": [],
   "source": [
    "# Let's get all the hits which correspond to one stamp file\n",
    "first_stamp = df[\"file_uri\"][0]\n",
    "in_first_stamp = df[df[\"file_uri\"] == first_stamp].reset_index(drop=True)\n",
    "in_first_stamp.shape\n",
    "in_first_stamp.to_csv(\"/home/nstiegle/BL-COSMIC-2024-proj/stamps/hits_in_first_stamp.csv\", index=False)"
   ]
  },
  {
   "cell_type": "markdown",
   "metadata": {},
   "source": [
    "Test using Dave MacMahon's indexing from hits to stamps. Maybe even get the stamp file of every hit in the targets and save them back out"
   ]
  },
  {
   "cell_type": "code",
   "execution_count": 9,
   "metadata": {},
   "outputs": [
    {
     "name": "stdout",
     "output_type": "stream",
     "text": [
      "(1248312, 29)\n"
     ]
    }
   ],
   "source": [
    "# Load data\n",
    "targets = pd.read_pickle(\"/mnt/cosmic-gpu-1/data0/nstiegle/representative_samples/1in25_targets.pkl\") # 1in25 target hits\n",
    "print(targets.shape)\n",
    "cosmic_stamp_index = pd.read_csv(\"~davidm/local/src/FindSarfi.jl/dfidx.csv\") # Part of mapping from hit_uri to stamp_uri and index in stamp file\n",
    "\n",
    "# Group index by hit_uri for easy recovery\n",
    "hit_uri_groups = cosmic_stamp_index.groupby('hits_uri')"
   ]
  },
  {
   "cell_type": "code",
   "execution_count": 27,
   "metadata": {},
   "outputs": [],
   "source": [
    "# Get the stamp_uri and the frameidx from the cosmic_stamp_index for a\n",
    "# given hit_uri and hit_frequency\n",
    "def find_stamp_of_hit(hit_uri, hit_frequency):\n",
    "    # Get the stamp uri and the frame idx from the idx\n",
    "    try:\n",
    "        group = hit_uri_groups.get_group(hit_uri)\n",
    "    except KeyError:\n",
    "        return np.nan, np.nan\n",
    "    idxrow = group[(hit_frequency >= group.flo) * (hit_frequency <= group.fhi)]\n",
    "    try:\n",
    "        stamp_uri = idxrow[\"stamps_uri\"].values[0]\n",
    "        frameidx = idxrow[\"frameidx\"].values[0]\n",
    "    except IndexError:\n",
    "        print(hit_uri, hit_frequency)\n",
    "    return stamp_uri, frameidx"
   ]
  },
  {
   "cell_type": "code",
   "execution_count": 28,
   "metadata": {},
   "outputs": [],
   "source": [
    "# Setup for multiprocessing\n",
    "import multiprocessing\n",
    "# Check if we need to remake the inputs array\n",
    "try:\n",
    "    assert(len(inputs) == len(targets))\n",
    "except:\n",
    "    inputs = []\n",
    "    for i, row in targets.iterrows():\n",
    "        inputs.append((row.file_uri, row.signal_frequency))\n",
    "p = multiprocessing.Pool() \n",
    "\n",
    "# Run algorithm with multiprocessing\n",
    "results = p.starmap(find_stamp_of_hit, inputs)\n",
    "\n",
    "# Save results\n",
    "results = np.array(results)\n",
    "stamp_uris = results[:, 0]\n",
    "frame_indices = results[:, 1]\n",
    "targets[\"stamp_uri\"] = stamp_uris\n",
    "targets[\"frameidx\"] = frame_indices\n",
    "targets.shape\n",
    "targets.to_csv(\"/mnt/cosmic-gpu-1/data0/nstiegle/representative_samples/1in25_targets_indexed.csv\", index=False)"
   ]
  },
  {
   "cell_type": "code",
   "execution_count": 2,
   "metadata": {},
   "outputs": [],
   "source": [
    "def find_stamp_recipe(stamp_filepath, directory_path=None):\n",
    "    \"\"\"\n",
    "    Get the Recipe for the BFR5 that matches the given stamp\n",
    "    (just the filepath that is most similar and ends with .bfr5).\n",
    "    \"\"\"\n",
    "    if directory_path is None:\n",
    "        directory_path = os.path.dirname(stamp_filepath)\n",
    "\n",
    "    closest_bfr5 = None\n",
    "    closest_commonlen = 0\n",
    "    for root, dirs, files in os.walk(directory_path, topdown=True):\n",
    "        for f in filter(lambda x: x.endswith(\"bfr5\"), files):\n",
    "            filepath = os.path.join(root, f)\n",
    "            commonpath = os.path.commonpath([filepath, stamp_filepath])\n",
    "            commonlen = len(commonpath)\n",
    "            if commonlen > closest_commonlen:\n",
    "                closest_bfr5 = filepath\n",
    "                closest_commonlen = commonlen\n",
    "        break\n",
    "\n",
    "    if closest_bfr5 is None:\n",
    "        return None\n",
    "    try:\n",
    "        return viewer.Recipe(closest_bfr5)\n",
    "    except BaseException as err:\n",
    "        print(f\"Error encountered instantiating Recipe from '{closest_bfr5}': {err}\")\n",
    "        print(traceback.format_exc())\n",
    "        return False"
   ]
  },
  {
   "cell_type": "code",
   "execution_count": 39,
   "metadata": {},
   "outputs": [
    {
     "name": "stdout",
     "output_type": "stream",
     "text": [
      "(1248312, 31)\n"
     ]
    }
   ],
   "source": [
    "# Load in the indexed targets\n",
    "targets_indexed = pd.read_csv(\"/mnt/cosmic-gpu-1/data0/nstiegle/representative_samples/1in25_targets_indexed.csv\") # Read in indexed his from above\n",
    "print(targets_indexed.shape)\n",
    "\n",
    "# Take out the files which didn't have .hits files\n",
    "good_targets = targets_indexed.dropna()\n",
    "print(good_targets.shape)"
   ]
  },
  {
   "cell_type": "code",
   "execution_count": 50,
   "metadata": {},
   "outputs": [
    {
     "name": "stdout",
     "output_type": "stream",
     "text": [
      "ready and going\n"
     ]
    },
    {
     "name": "stderr",
     "output_type": "stream",
     "text": [
      "/home/nstiegle/miniforge3/envs/pulsar/lib/python3.10/site-packages/seticore/viewer.py:559: FutureWarning: In the future `np.bool` will be defined as the corresponding NumPy scalar.\n",
      "  dtype=np.bool)\n",
      "/home/nstiegle/miniforge3/envs/pulsar/lib/python3.10/site-packages/seticore/viewer.py:559: FutureWarning: In the future `np.bool` will be defined as the corresponding NumPy scalar.\n",
      "  dtype=np.bool)\n",
      "/home/nstiegle/miniforge3/envs/pulsar/lib/python3.10/site-packages/seticore/viewer.py:559: FutureWarning: In the future `np.bool` will be defined as the corresponding NumPy scalar.\n",
      "  dtype=np.bool)\n",
      "/home/nstiegle/miniforge3/envs/pulsar/lib/python3.10/site-packages/seticore/viewer.py:559: FutureWarning: In the future `np.bool` will be defined as the corresponding NumPy scalar.\n",
      "  dtype=np.bool)\n",
      "/home/nstiegle/miniforge3/envs/pulsar/lib/python3.10/site-packages/seticore/viewer.py:559: FutureWarning: In the future `np.bool` will be defined as the corresponding NumPy scalar.\n",
      "  dtype=np.bool)\n",
      "/home/nstiegle/miniforge3/envs/pulsar/lib/python3.10/site-packages/seticore/viewer.py:559: FutureWarning: In the future `np.bool` will be defined as the corresponding NumPy scalar.\n",
      "  dtype=np.bool)\n",
      "/home/nstiegle/miniforge3/envs/pulsar/lib/python3.10/site-packages/seticore/viewer.py:559: FutureWarning: In the future `np.bool` will be defined as the corresponding NumPy scalar.\n",
      "  dtype=np.bool)\n",
      "/home/nstiegle/miniforge3/envs/pulsar/lib/python3.10/site-packages/seticore/viewer.py:559: FutureWarning: In the future `np.bool` will be defined as the corresponding NumPy scalar.\n",
      "  dtype=np.bool)\n",
      "/home/nstiegle/miniforge3/envs/pulsar/lib/python3.10/site-packages/seticore/viewer.py:559: FutureWarning: In the future `np.bool` will be defined as the corresponding NumPy scalar.\n",
      "  dtype=np.bool)\n",
      "/home/nstiegle/miniforge3/envs/pulsar/lib/python3.10/site-packages/seticore/viewer.py:559: FutureWarning: In the future `np.bool` will be defined as the corresponding NumPy scalar.\n",
      "  dtype=np.bool)\n",
      "/home/nstiegle/miniforge3/envs/pulsar/lib/python3.10/site-packages/seticore/viewer.py:559: FutureWarning: In the future `np.bool` will be defined as the corresponding NumPy scalar.\n",
      "  dtype=np.bool)\n",
      "/home/nstiegle/miniforge3/envs/pulsar/lib/python3.10/site-packages/seticore/viewer.py:559: FutureWarning: In the future `np.bool` will be defined as the corresponding NumPy scalar.\n",
      "  dtype=np.bool)\n",
      "/home/nstiegle/miniforge3/envs/pulsar/lib/python3.10/site-packages/seticore/viewer.py:559: FutureWarning: In the future `np.bool` will be defined as the corresponding NumPy scalar.\n",
      "  dtype=np.bool)\n",
      "/home/nstiegle/miniforge3/envs/pulsar/lib/python3.10/site-packages/seticore/viewer.py:559: FutureWarning: In the future `np.bool` will be defined as the corresponding NumPy scalar.\n",
      "  dtype=np.bool)\n",
      "/home/nstiegle/miniforge3/envs/pulsar/lib/python3.10/site-packages/seticore/viewer.py:559: FutureWarning: In the future `np.bool` will be defined as the corresponding NumPy scalar.\n",
      "  dtype=np.bool)\n",
      "/home/nstiegle/miniforge3/envs/pulsar/lib/python3.10/site-packages/seticore/viewer.py:559: FutureWarning: In the future `np.bool` will be defined as the corresponding NumPy scalar.\n",
      "  dtype=np.bool)\n",
      "/home/nstiegle/miniforge3/envs/pulsar/lib/python3.10/site-packages/seticore/viewer.py:559: FutureWarning: In the future `np.bool` will be defined as the corresponding NumPy scalar.\n",
      "  dtype=np.bool)\n",
      "/home/nstiegle/miniforge3/envs/pulsar/lib/python3.10/site-packages/seticore/viewer.py:559: FutureWarning: In the future `np.bool` will be defined as the corresponding NumPy scalar.\n",
      "  dtype=np.bool)\n",
      "/home/nstiegle/miniforge3/envs/pulsar/lib/python3.10/site-packages/seticore/viewer.py:559: FutureWarning: In the future `np.bool` will be defined as the corresponding NumPy scalar.\n",
      "  dtype=np.bool)\n",
      "/home/nstiegle/miniforge3/envs/pulsar/lib/python3.10/site-packages/seticore/viewer.py:559: FutureWarning: In the future `np.bool` will be defined as the corresponding NumPy scalar.\n",
      "  dtype=np.bool)\n",
      "/home/nstiegle/miniforge3/envs/pulsar/lib/python3.10/site-packages/seticore/viewer.py:559: FutureWarning: In the future `np.bool` will be defined as the corresponding NumPy scalar.\n",
      "  dtype=np.bool)\n",
      "/home/nstiegle/miniforge3/envs/pulsar/lib/python3.10/site-packages/seticore/viewer.py:559: FutureWarning: In the future `np.bool` will be defined as the corresponding NumPy scalar.\n",
      "  dtype=np.bool)\n",
      "/home/nstiegle/miniforge3/envs/pulsar/lib/python3.10/site-packages/seticore/viewer.py:559: FutureWarning: In the future `np.bool` will be defined as the corresponding NumPy scalar.\n",
      "  dtype=np.bool)\n",
      "/home/nstiegle/miniforge3/envs/pulsar/lib/python3.10/site-packages/seticore/viewer.py:559: FutureWarning: In the future `np.bool` will be defined as the corresponding NumPy scalar.\n",
      "  dtype=np.bool)\n",
      "/home/nstiegle/miniforge3/envs/pulsar/lib/python3.10/site-packages/seticore/viewer.py:559: FutureWarning: In the future `np.bool` will be defined as the corresponding NumPy scalar.\n",
      "  dtype=np.bool)\n",
      "/home/nstiegle/miniforge3/envs/pulsar/lib/python3.10/site-packages/seticore/viewer.py:559: FutureWarning: In the future `np.bool` will be defined as the corresponding NumPy scalar.\n",
      "  dtype=np.bool)\n",
      "/home/nstiegle/miniforge3/envs/pulsar/lib/python3.10/site-packages/seticore/viewer.py:559: FutureWarning: In the future `np.bool` will be defined as the corresponding NumPy scalar.\n",
      "  dtype=np.bool)\n",
      "/home/nstiegle/miniforge3/envs/pulsar/lib/python3.10/site-packages/seticore/viewer.py:559: FutureWarning: In the future `np.bool` will be defined as the corresponding NumPy scalar.\n",
      "  dtype=np.bool)\n",
      "/home/nstiegle/miniforge3/envs/pulsar/lib/python3.10/site-packages/seticore/viewer.py:559: FutureWarning: In the future `np.bool` will be defined as the corresponding NumPy scalar.\n",
      "  dtype=np.bool)\n",
      "/home/nstiegle/miniforge3/envs/pulsar/lib/python3.10/site-packages/seticore/viewer.py:559: FutureWarning: In the future `np.bool` will be defined as the corresponding NumPy scalar.\n",
      "  dtype=np.bool)\n",
      "/home/nstiegle/miniforge3/envs/pulsar/lib/python3.10/site-packages/seticore/viewer.py:559: FutureWarning: In the future `np.bool` will be defined as the corresponding NumPy scalar.\n",
      "  dtype=np.bool)\n",
      "/home/nstiegle/miniforge3/envs/pulsar/lib/python3.10/site-packages/seticore/viewer.py:559: FutureWarning: In the future `np.bool` will be defined as the corresponding NumPy scalar.\n",
      "  dtype=np.bool)\n"
     ]
    },
    {
     "ename": "AttributeError",
     "evalue": "module 'numpy' has no attribute 'bool'.\n`np.bool` was a deprecated alias for the builtin `bool`. To avoid this error in existing code, use `bool` by itself. Doing this will not modify any behavior and is safe. If you specifically wanted the numpy scalar type, use `np.bool_` here.\nThe aliases was originally deprecated in NumPy 1.20; for more details and guidance see the original release note at:\n    https://numpy.org/devdocs/release/1.20.0-notes.html#deprecations",
     "output_type": "error",
     "traceback": [
      "\u001b[0;31m---------------------------------------------------------------------------\u001b[0m",
      "\u001b[0;31mRemoteTraceback\u001b[0m                           Traceback (most recent call last)",
      "\u001b[0;31mRemoteTraceback\u001b[0m: \n\"\"\"\nTraceback (most recent call last):\n  File \"/home/nstiegle/miniforge3/envs/pulsar/lib/python3.10/multiprocessing/pool.py\", line 125, in worker\n    result = (True, func(*args, **kwds))\n  File \"/home/nstiegle/miniforge3/envs/pulsar/lib/python3.10/multiprocessing/pool.py\", line 51, in starmapstar\n    return list(itertools.starmap(args[0], args[1]))\n  File \"/tmp/ipykernel_1577337/1025582461.py\", line 19, in find_sarfi\n    snrs, signals = antenna_signal_snr_power(stamp)\n  File \"/tmp/ipykernel_1577337/1025582461.py\", line 14, in antenna_signal_snr_power\n    snr_and_signals = np.array([stamp.snr_and_signal(antenna_power) for antenna_power in antenna_powers])\n  File \"/tmp/ipykernel_1577337/1025582461.py\", line 14, in <listcomp>\n    snr_and_signals = np.array([stamp.snr_and_signal(antenna_power) for antenna_power in antenna_powers])\n  File \"/home/nstiegle/miniforge3/envs/pulsar/lib/python3.10/site-packages/seticore/viewer.py\", line 579, in snr_and_signal\n    signal = (data * self.signal_mask()).sum()\n  File \"/home/nstiegle/miniforge3/envs/pulsar/lib/python3.10/site-packages/seticore/viewer.py\", line 559, in signal_mask\n    dtype=np.bool)\n  File \"/home/nstiegle/miniforge3/envs/pulsar/lib/python3.10/site-packages/numpy/__init__.py\", line 324, in __getattr__\n    raise AttributeError(__former_attrs__[attr])\nAttributeError: module 'numpy' has no attribute 'bool'.\n`np.bool` was a deprecated alias for the builtin `bool`. To avoid this error in existing code, use `bool` by itself. Doing this will not modify any behavior and is safe. If you specifically wanted the numpy scalar type, use `np.bool_` here.\nThe aliases was originally deprecated in NumPy 1.20; for more details and guidance see the original release note at:\n    https://numpy.org/devdocs/release/1.20.0-notes.html#deprecations. Did you mean: 'bool_'?\n\"\"\"",
      "\nThe above exception was the direct cause of the following exception:\n",
      "\u001b[0;31mAttributeError\u001b[0m                            Traceback (most recent call last)",
      "Cell \u001b[0;32mIn[50], line 34\u001b[0m\n\u001b[1;32m     31\u001b[0m     inputs\u001b[38;5;241m.\u001b[39mappend((row\u001b[38;5;241m.\u001b[39mstamp_uri, row\u001b[38;5;241m.\u001b[39mframeidx))\n\u001b[1;32m     32\u001b[0m \u001b[38;5;28mprint\u001b[39m(\u001b[38;5;124m'\u001b[39m\u001b[38;5;124mready and going\u001b[39m\u001b[38;5;124m'\u001b[39m)\n\u001b[0;32m---> 34\u001b[0m results \u001b[38;5;241m=\u001b[39m \u001b[43mp\u001b[49m\u001b[38;5;241;43m.\u001b[39;49m\u001b[43mstarmap\u001b[49m\u001b[43m(\u001b[49m\u001b[43mfind_sarfi\u001b[49m\u001b[43m,\u001b[49m\u001b[43m \u001b[49m\u001b[43minputs\u001b[49m\u001b[43m)\u001b[49m\n\u001b[1;32m     36\u001b[0m \u001b[38;5;66;03m# Save results\u001b[39;00m\n\u001b[1;32m     37\u001b[0m results \u001b[38;5;241m=\u001b[39m np\u001b[38;5;241m.\u001b[39marray(results)\n",
      "File \u001b[0;32m~/miniforge3/envs/pulsar/lib/python3.10/multiprocessing/pool.py:375\u001b[0m, in \u001b[0;36mPool.starmap\u001b[0;34m(self, func, iterable, chunksize)\u001b[0m\n\u001b[1;32m    369\u001b[0m \u001b[38;5;28;01mdef\u001b[39;00m \u001b[38;5;21mstarmap\u001b[39m(\u001b[38;5;28mself\u001b[39m, func, iterable, chunksize\u001b[38;5;241m=\u001b[39m\u001b[38;5;28;01mNone\u001b[39;00m):\n\u001b[1;32m    370\u001b[0m \u001b[38;5;250m    \u001b[39m\u001b[38;5;124;03m'''\u001b[39;00m\n\u001b[1;32m    371\u001b[0m \u001b[38;5;124;03m    Like `map()` method but the elements of the `iterable` are expected to\u001b[39;00m\n\u001b[1;32m    372\u001b[0m \u001b[38;5;124;03m    be iterables as well and will be unpacked as arguments. Hence\u001b[39;00m\n\u001b[1;32m    373\u001b[0m \u001b[38;5;124;03m    `func` and (a, b) becomes func(a, b).\u001b[39;00m\n\u001b[1;32m    374\u001b[0m \u001b[38;5;124;03m    '''\u001b[39;00m\n\u001b[0;32m--> 375\u001b[0m     \u001b[38;5;28;01mreturn\u001b[39;00m \u001b[38;5;28;43mself\u001b[39;49m\u001b[38;5;241;43m.\u001b[39;49m\u001b[43m_map_async\u001b[49m\u001b[43m(\u001b[49m\u001b[43mfunc\u001b[49m\u001b[43m,\u001b[49m\u001b[43m \u001b[49m\u001b[43miterable\u001b[49m\u001b[43m,\u001b[49m\u001b[43m \u001b[49m\u001b[43mstarmapstar\u001b[49m\u001b[43m,\u001b[49m\u001b[43m \u001b[49m\u001b[43mchunksize\u001b[49m\u001b[43m)\u001b[49m\u001b[38;5;241;43m.\u001b[39;49m\u001b[43mget\u001b[49m\u001b[43m(\u001b[49m\u001b[43m)\u001b[49m\n",
      "File \u001b[0;32m~/miniforge3/envs/pulsar/lib/python3.10/multiprocessing/pool.py:774\u001b[0m, in \u001b[0;36mApplyResult.get\u001b[0;34m(self, timeout)\u001b[0m\n\u001b[1;32m    772\u001b[0m     \u001b[38;5;28;01mreturn\u001b[39;00m \u001b[38;5;28mself\u001b[39m\u001b[38;5;241m.\u001b[39m_value\n\u001b[1;32m    773\u001b[0m \u001b[38;5;28;01melse\u001b[39;00m:\n\u001b[0;32m--> 774\u001b[0m     \u001b[38;5;28;01mraise\u001b[39;00m \u001b[38;5;28mself\u001b[39m\u001b[38;5;241m.\u001b[39m_value\n",
      "\u001b[0;31mAttributeError\u001b[0m: module 'numpy' has no attribute 'bool'.\n`np.bool` was a deprecated alias for the builtin `bool`. To avoid this error in existing code, use `bool` by itself. Doing this will not modify any behavior and is safe. If you specifically wanted the numpy scalar type, use `np.bool_` here.\nThe aliases was originally deprecated in NumPy 1.20; for more details and guidance see the original release note at:\n    https://numpy.org/devdocs/release/1.20.0-notes.html#deprecations"
     ]
    }
   ],
   "source": [
    "def get_stamp(stamp_uri, frameidx):\n",
    "    # Load up the stamp\n",
    "    with open(stamp_uri, 'r') as f:\n",
    "        f.seek(8 * (frameidx - 1)) # -1 for Julia being 1 indexed, *8 for some bit/byte reason\n",
    "        s = stamp_capnp.Stamp.read(f)\n",
    "        recipe = find_stamp_recipe(stamp_uri)\n",
    "        return viewer.Stamp(s, recipe)\n",
    "\n",
    "def antenna_signal_snr_power(stamp):\n",
    "    # Get the powers in the frequency bins of each antenna by summing \n",
    "    # over polarization and complex magnitude\n",
    "    # Also rearrange so indices are (antenna, time bin, frequency bin)\n",
    "    antenna_powers = np.square(stamp.real_array()).sum(axis=(2, 4)).transpose(2, 0, 1)\n",
    "    snr_and_signals = np.array([stamp.snr_and_signal(antenna_power) for antenna_power in antenna_powers])\n",
    "    return (snr_and_signals[:, 0], snr_and_signals[:, 1])\n",
    "\n",
    "def find_sarfi(stamp_uri, frameidx):\n",
    "    stamp = get_stamp(stamp_uri, frameidx)\n",
    "    snrs, signals = antenna_signal_snr_power(stamp)\n",
    "    antenna_titles = [stamp.recipe.antenna_names[i] for i in range(stamp.stamp.numAntennas)]\n",
    "    return antenna_titles, snrs, signals\n",
    "\n",
    "# Setup for multiprocessing\n",
    "import multiprocessing\n",
    "\n",
    "p = multiprocessing.Pool() \n",
    "\n",
    "# Run algorithm with multiprocessing\n",
    "inputs = []\n",
    "for i, row in good_targets.iterrows():\n",
    "    inputs.append((row.stamp_uri, row.frameidx))\n",
    "print('ready and going')\n",
    "\n",
    "results = p.starmap(find_sarfi, inputs)\n",
    "\n",
    "# Save results\n",
    "results = np.array(results)\n",
    "antenna_titles = results[:, 0]\n",
    "antenna_snrs = results[:, 1]\n",
    "antenna_signals = results[:, 2]\n",
    "good_targets[\"antenna_titles\"] = antenna_titles\n",
    "good_targets[\"antenna_snrs\"] = antenna_snrs\n",
    "good_targets[\"antenna_signals\"] = antenna_signals\n",
    "good_targets.to_csv(\"/mnt/cosmic-gpu-1/data0/nstiegle/representative_samples/1in25_good_targets_results\")"
   ]
  },
  {
   "cell_type": "code",
   "execution_count": null,
   "metadata": {},
   "outputs": [],
   "source": []
  }
 ],
 "metadata": {
  "kernelspec": {
   "display_name": "cosmic",
   "language": "python",
   "name": "python3"
  },
  "language_info": {
   "codemirror_mode": {
    "name": "ipython",
    "version": 3
   },
   "file_extension": ".py",
   "mimetype": "text/x-python",
   "name": "python",
   "nbconvert_exporter": "python",
   "pygments_lexer": "ipython3",
   "version": "3.10.14"
  }
 },
 "nbformat": 4,
 "nbformat_minor": 2
}
