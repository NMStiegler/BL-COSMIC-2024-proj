{
 "cells": [
  {
   "cell_type": "markdown",
   "metadata": {},
   "source": [
    "## Setup"
   ]
  },
  {
   "cell_type": "code",
   "execution_count": 1,
   "metadata": {},
   "outputs": [],
   "source": [
    "# Import useful packages\n",
    "import numpy as np\n",
    "import matplotlib.pyplot as plt\n",
    "import pandas as pd\n",
    "# import seaborn as sns\n",
    "from scipy.sparse import csr_array\n",
    "from scipy.sparse import lil_array\n",
    "from scipy.sparse import save_npz\n",
    "from scipy.sparse import load_npz\n",
    "import os\n",
    "from datetime import datetime, timedelta"
   ]
  },
  {
   "cell_type": "code",
   "execution_count": 2,
   "metadata": {},
   "outputs": [],
   "source": [
    "# Read in the data\n",
    "\n",
    "# Check which server we're on (in case the data is in different places on different servers)\n",
    "import socket\n",
    "hostname = socket.gethostname()\n",
    "\n",
    "# Get paths to data\n",
    "if hostname == \"blpc1\" or hostname == \"blpc2\":\n",
    "    data_path = \"/datax/scratch/nstieg/\"\n",
    "elif hostname == \"cosmic-gpu-1\":\n",
    "    data_path = \"/mnt/cosmic-gpu-1/data0/nstiegle/\"\n",
    "else:\n",
    "    raise Exception(\"Data path not known\")\n",
    "\n",
    "full_dataset_path = data_path + \"25GHz_higher.pkl\"\n",
    "coherent_dataset_path = data_path + \"25GHz_higher_coherent.pkl\"\n",
    "incoherent_dataset_path = data_path + \"25GHz_higher_incoherent.pkl\"\n",
    "\n",
    "# Read in data\n",
    "coherent = pd.read_pickle(coherent_dataset_path)\n",
    "# incoherent = pd.read_pickle(incoherent_dataset_path)\n",
    "# df = pd.read_pickle(full_dataset_path)"
   ]
  },
  {
   "cell_type": "code",
   "execution_count": 3,
   "metadata": {},
   "outputs": [],
   "source": [
    "# All data\n",
    "# # Load in distance and mask\n",
    "# path = \"/home/nstieg/BL-COSMIC-2024-proj/frequency_adjacency/adjacent_in_all/\"\n",
    "# distances_path = path + \"all_within_1000hz.distances.npz\"\n",
    "# mask_path = path + \"all_within_1000hz.mask.npz\"\n",
    "# distances = load_npz(distances_path)\n",
    "# mask = load_npz(mask_path)\n",
    "# print(distances.shape)\n",
    "# print(mask.shape)\n",
    "\n",
    "# Coherent, by source data\n",
    "# Load in all the distances and masks to a np array of [[distances, mask], ...] for each source\n",
    "path = os.path.expanduser(\"~\") + \"/\" + \"BL-COSMIC-2024-proj/frequency_adjacency/adjacent_in_each_source/\" # Place to save arrays\n",
    "files = os.listdir(path) # All the files and directories in the folder\n",
    "files = [f for f in files if os.path.isfile(path + '/' + f)] # Just get the folders\n",
    "files = [f.split('.') for f in files] # Take off the extension\n",
    "files = np.array(files) # Turn into a numpy array so I can slice off the extensions\n",
    "files = np.unique(files[:, 0]) # Get the unique filenames (sources observed)\n",
    "sources_data = [] # Append (source.distances.npz, source.mask.npz)\n",
    "sources = []\n",
    "for file in files:\n",
    "    distances = load_npz(path + \"/\" + file + \".distances.npz\")\n",
    "    mask = load_npz(path + \"/\" + file + \".mask.npz\")\n",
    "    sources_data.append((distances, mask))\n",
    "    sources.append(file.split('_')[0])\n",
    "\n",
    "sources_data = np.array(sources_data, dtype='object')"
   ]
  },
  {
   "cell_type": "markdown",
   "metadata": {},
   "source": [
    "## Coherent Filters"
   ]
  },
  {
   "cell_type": "code",
   "execution_count": 48,
   "metadata": {},
   "outputs": [
    {
     "name": "stdout",
     "output_type": "stream",
     "text": [
      "On source 2535280716217508992\n",
      "On source 2536546185381558272\n",
      "On source 2542485953354555264\n"
     ]
    }
   ],
   "source": [
    "# Apply filter one\n",
    "# Extend COSMIC's ability to detect zero drift rate RFI\n",
    "# Removes hits from a single target which are at exactly the same frequency as other hits \n",
    "# from that target and where all the hits detected at that frequency have a zero drift rate\n",
    "# Parameters:\n",
    "# - coherent: The df of coherent data\n",
    "# Returns the ids of the hits which pass the filter\n",
    "def filter1(coherent):\n",
    "    # What we're going to return\n",
    "    good_ids = np.array([]) # Place to store all the good ids we find\n",
    "    \n",
    "    # Filter by each source\n",
    "    sources = coherent.groupby(\"source_name\")\n",
    "    for source_name, source in sources:\n",
    "        print(\"On source\", source_name)\n",
    "        source_good_ids = np.array([]) # Put all the good ids from this source\n",
    "        \n",
    "        # Put things into groups of frequencies which are *exactly* the same\n",
    "        groups = source.groupby(\"signal_frequency\")\n",
    "        for f, group in groups:\n",
    "            # Let through those with no exact collisions in frequency\n",
    "            if len(group) == 1:\n",
    "                source_good_ids = np.concatenate((source_good_ids, group.id.values))\n",
    "            else:\n",
    "                # See if this group has signals with drift rates other than zero,\n",
    "                # they pass this filter as well\n",
    "                if 0 not in group.signal_drift_rate.values:\n",
    "                    source_good_ids = np.concatenate((source_good_ids, group.id.values))\n",
    "        good_ids = np.concatenate((good_ids, source_good_ids))\n",
    "\n",
    "    return good_ids\n",
    "\n",
    "filter1(coherent)"
   ]
  },
  {
   "cell_type": "code",
   "execution_count": 43,
   "metadata": {},
   "outputs": [
    {
     "data": {
      "text/plain": [
       "900273191"
      ]
     },
     "execution_count": 43,
     "metadata": {},
     "output_type": "execute_result"
    }
   ],
   "source": [
    "a = []\n",
    "sources = coherent.groupby(\"source_name\")\n",
    "first_source = sources.get_group(coherent.source_name.iloc[0])\n",
    "groups = first_source.groupby(\"signal_frequency\")\n",
    "group = groups.get_group(coherent.signal_frequency.iloc[1])\n",
    "group.id.values"
   ]
  },
  {
   "cell_type": "markdown",
   "metadata": {},
   "source": [
    "## All data filters"
   ]
  },
  {
   "cell_type": "code",
   "execution_count": null,
   "metadata": {},
   "outputs": [],
   "source": []
  }
 ],
 "metadata": {
  "kernelspec": {
   "display_name": "pulsar",
   "language": "python",
   "name": "python3"
  },
  "language_info": {
   "codemirror_mode": {
    "name": "ipython",
    "version": 3
   },
   "file_extension": ".py",
   "mimetype": "text/x-python",
   "name": "python",
   "nbconvert_exporter": "python",
   "pygments_lexer": "ipython3",
   "version": "3.10.14"
  }
 },
 "nbformat": 4,
 "nbformat_minor": 2
}
