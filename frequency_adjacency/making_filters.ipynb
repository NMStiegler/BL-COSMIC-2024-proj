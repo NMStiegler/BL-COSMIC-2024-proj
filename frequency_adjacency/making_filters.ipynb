{
 "cells": [
  {
   "cell_type": "code",
   "execution_count": 1,
   "metadata": {},
   "outputs": [],
   "source": [
    "# Import useful packages\n",
    "import numpy as np\n",
    "import matplotlib.pyplot as plt\n",
    "import pandas as pd\n",
    "# import seaborn as sns\n",
    "from scipy.sparse import csr_array\n",
    "from scipy.sparse import lil_array\n",
    "from scipy.sparse import save_npz\n",
    "from scipy.sparse import load_npz\n",
    "import os\n",
    "from datetime import datetime, timedelta"
   ]
  },
  {
   "cell_type": "code",
   "execution_count": 2,
   "metadata": {},
   "outputs": [],
   "source": [
    "# Read in the data\n",
    "\n",
    "# Check which server we're on (in case the data is in different places on different servers)\n",
    "import socket\n",
    "hostname = socket.gethostname()\n",
    "\n",
    "# Get paths to data\n",
    "if hostname == \"blpc1\" or hostname == \"blpc2\":\n",
    "    data_path = \"/datax/scratch/nstieg/\"\n",
    "elif hostname == \"cosmic-gpu-1\":\n",
    "    data_path = \"/mnt/cosmic-gpu-1/data0/nstiegle/\"\n",
    "else:\n",
    "    raise Exception(\"Data path not known\")\n",
    "\n",
    "full_dataset_path = data_path + \"25GHz_higher.pkl\"\n",
    "coherent_dataset_path = data_path + \"25GHz_higher_coherent.pkl\"\n",
    "incoherent_dataset_path = data_path + \"25GHz_higher_incoherent.pkl\"\n",
    "\n",
    "# Read in data\n",
    "coherent = pd.read_pickle(coherent_dataset_path)\n",
    "# incoherent = pd.read_pickle(incoherent_dataset_path)\n",
    "# df = pd.read_pickle(full_dataset_path)"
   ]
  },
  {
   "cell_type": "code",
   "execution_count": 3,
   "metadata": {},
   "outputs": [],
   "source": [
    "# All data\n",
    "# # Load in distance and mask\n",
    "# path = \"/home/nstieg/BL-COSMIC-2024-proj/frequency_adjacency/adjacent_in_all/\"\n",
    "# distances_path = path + \"all_within_1000hz.distances.npz\"\n",
    "# mask_path = path + \"all_within_1000hz.mask.npz\"\n",
    "# distances = load_npz(distances_path)\n",
    "# mask = load_npz(mask_path)\n",
    "# print(distances.shape)\n",
    "# print(mask.shape)\n",
    "\n",
    "# Coherent, by source data\n",
    "# Load in all the distances and masks to a np array of [[distances, mask], ...] for each source\n",
    "path = os.path.expanduser(\"~\") + \"/\" + \"BL-COSMIC-2024-proj/frequency_adjacency/adjacent_in_each_source/\" # Place to save arrays\n",
    "files = os.listdir(path) # All the files and directories in the folder\n",
    "files = [f for f in files if os.path.isfile(path + '/' + f)] # Just get the folders\n",
    "files = [f.split('.') for f in files] # Take off the extension\n",
    "files = np.array(files) # Turn into a numpy array so I can slice off the extensions\n",
    "files = np.unique(files[:, 0]) # Get the unique filenames (sources observed)\n",
    "sources_data = [] # Append (source.distances.npz, source.mask.npz)\n",
    "sources = []\n",
    "for file in files:\n",
    "    distances = load_npz(path + \"/\" + file + \".distances.npz\")\n",
    "    mask = load_npz(path + \"/\" + file + \".mask.npz\")\n",
    "    sources_data.append((distances, mask))\n",
    "    sources.append(file.split('_')[0])\n",
    "\n",
    "sources_data = np.array(sources_data, dtype='object')"
   ]
  },
  {
   "cell_type": "code",
   "execution_count": null,
   "metadata": {},
   "outputs": [],
   "source": []
  }
 ],
 "metadata": {
  "kernelspec": {
   "display_name": "pulsar",
   "language": "python",
   "name": "python3"
  },
  "language_info": {
   "codemirror_mode": {
    "name": "ipython",
    "version": 3
   },
   "file_extension": ".py",
   "mimetype": "text/x-python",
   "name": "python",
   "nbconvert_exporter": "python",
   "pygments_lexer": "ipython3",
   "version": "3.10.14"
  }
 },
 "nbformat": 4,
 "nbformat_minor": 2
}
