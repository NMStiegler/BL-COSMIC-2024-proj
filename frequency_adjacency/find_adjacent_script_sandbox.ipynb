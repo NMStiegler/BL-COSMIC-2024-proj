{
 "cells": [
  {
   "cell_type": "code",
   "execution_count": null,
   "metadata": {},
   "outputs": [],
   "source": [
    "# A sandbox for messing around with code to ge the find_adjacent_all.py script working\n",
    "# Noah \n",
    "# 7/17/24"
   ]
  },
  {
   "cell_type": "code",
   "execution_count": 1,
   "metadata": {},
   "outputs": [],
   "source": [
    "import numpy as np\n",
    "import pandas as pd\n",
    "from scipy.sparse import csr_array\n",
    "from scipy.sparse import lil_array\n",
    "from scipy.sparse import save_npz\n",
    "from scipy.sparse import load_npz\n",
    "import os\n",
    "from datetime import datetime\n",
    "from math import floor"
   ]
  },
  {
   "cell_type": "code",
   "execution_count": 2,
   "metadata": {},
   "outputs": [],
   "source": [
    "import glob"
   ]
  },
  {
   "cell_type": "code",
   "execution_count": 3,
   "metadata": {},
   "outputs": [
    {
     "name": "stdout",
     "output_type": "stream",
     "text": [
      "/home/nstieg/BL-COSMIC-2024-proj/frequency_adjacency/adjacent_in_all/all_within_1000hz_312k_hits_save.distances.npz\n",
      "/home/nstieg/BL-COSMIC-2024-proj/frequency_adjacency/adjacent_in_all/all_within_1000hz_312k_hits_save.mask.npz\n",
      "True\n",
      "True\n"
     ]
    }
   ],
   "source": [
    "threshold_hz = 1000\n",
    "path = \"/home/nstieg/BL-COSMIC-2024-proj/frequency_adjacency/adjacent_in_all/\" # Place to save arrays\n",
    "\n",
    "# New code\n",
    "files = glob.glob(path + \"all_within_1000hz_*k_hits_save.*.npz\") # Get all filenames\n",
    "numbers = [file.split(\"_\")[6] for file in files] # Split files by _ to get what checkpoint as \"#k\"\n",
    "numbers = [int(number[0:-1]) for number in numbers] # Get rid of the k to just get the number\n",
    "max_num = max(numbers) # Get the number for the latest checkpoint\n",
    "\n",
    "# Check that a mask and a distances file exist for the latest checkpoint\n",
    "mid_distances_file_path = path + f'all_within_{round(threshold_hz)}hz_{max_num}k_hits_save.distances.npz'\n",
    "mid_mask_file_path = path + f'all_within_{round(threshold_hz)}hz_{max_num}k_hits_save.mask.npz'\n",
    "\n",
    "# If it's not, go back until you find the largest one that is (maybe just mask or distance got saved)\n",
    "while (mid_distances_file_path not in files) or (mid_mask_file_path not in files):\n",
    "    max_num -= 1\n",
    "    mid_distances_file_path = path + f'all_within_{round(threshold_hz)}hz_{max_num}k_hits_save.distances.npz'\n",
    "    mid_mask_file_path = path + f'all_within_{round(threshold_hz)}hz_{max_num}k_hits_save.mask.npz'\n",
    "\n",
    "print(mid_distances_file_path)\n",
    "print(mid_mask_file_path)\n",
    "print(mid_distances_file_path in files)\n",
    "print(mid_mask_file_path in files)"
   ]
  },
  {
   "cell_type": "code",
   "execution_count": 5,
   "metadata": {},
   "outputs": [
    {
     "name": "stdout",
     "output_type": "stream",
     "text": [
      "create arrays\n"
     ]
    }
   ],
   "source": [
    "# Check for no checkpoints having been created\n",
    "path_to_no_files = \"/home/nstieg/test_dir\" \n",
    "files = glob.glob(path_to_no_files + \"all_within_1000hz_*k_hits_save.*.npz\") # Get all filenames\n",
    "if len(files) == 0:\n",
    "    print(\"create arrays\")"
   ]
  },
  {
   "cell_type": "code",
   "execution_count": 6,
   "metadata": {},
   "outputs": [
    {
     "name": "stdout",
     "output_type": "stream",
     "text": [
      "312\n"
     ]
    }
   ],
   "source": [
    "print(max_num)"
   ]
  },
  {
   "cell_type": "code",
   "execution_count": null,
   "metadata": {},
   "outputs": [],
   "source": []
  }
 ],
 "metadata": {
  "kernelspec": {
   "display_name": "cosmic",
   "language": "python",
   "name": "python3"
  },
  "language_info": {
   "codemirror_mode": {
    "name": "ipython",
    "version": 3
   },
   "file_extension": ".py",
   "mimetype": "text/x-python",
   "name": "python",
   "nbconvert_exporter": "python",
   "pygments_lexer": "ipython3",
   "version": "3.8.0"
  }
 },
 "nbformat": 4,
 "nbformat_minor": 2
}
