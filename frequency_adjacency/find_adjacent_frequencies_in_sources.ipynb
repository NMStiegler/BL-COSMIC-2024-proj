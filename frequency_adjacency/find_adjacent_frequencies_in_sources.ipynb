{
 "cells": [
  {
   "cell_type": "markdown",
   "metadata": {},
   "source": [
    "# Finding hits at the same frequency in the same sources\n",
    "\n",
    "Noah Stiegler\n",
    "\n",
    "7/9/24\n",
    "\n",
    "If a source records two hits at exactly the same frequency but at two different times, we can be somewhat certain this is RFI because we think real ET signals will drift due to the doppler shifting of light based on differing accelerations between the cosmic motions of the Earth, the Sun, and the transmitting source. It would be super unlikely for these two accelerations to exactly sync up, and unless the ET source was directing a signal at Earth and deliberately trying to correct for this doppler drift with their transmission (meaning they're transmiting directly to the Earth itself directly), there will be some drift. However, with COSMIC, we can't make cuts based on a 0 drift rate signal because our resolution to detecting drift rate isn't sensitive enough to tell the difference between something drifting at a rate of 0.0000001 Hz/s (RFI likely) or something more like 0.1 Hz/s (note the smallest magnitude nonzero drift rate in the coherent hits is 0.242531920 Hz/s). However, we can artificially increase our sensitivity to low (zero) drift rates by looking for the same signal across multiple times of observation. If we see multiple hits across time at exactly the same frequencies (or within a small narrow band), then it's likely RFI."
   ]
  },
  {
   "cell_type": "markdown",
   "metadata": {},
   "source": [
    "### Setup"
   ]
  },
  {
   "cell_type": "code",
   "execution_count": 46,
   "metadata": {},
   "outputs": [],
   "source": [
    "# Import useful packages\n",
    "import numpy as np\n",
    "import matplotlib.pyplot as plt\n",
    "import pandas as pd\n",
    "import seaborn as sns\n",
    "from scipy.sparse import csr_array\n",
    "from scipy.sparse import lil_array\n",
    "from scipy.sparse import save_npz\n",
    "from scipy.sparse import load_npz\n",
    "import os\n",
    "from datetime import datetime, timedelta"
   ]
  },
  {
   "cell_type": "code",
   "execution_count": 47,
   "metadata": {},
   "outputs": [],
   "source": [
    "# Read in the data\n",
    "\n",
    "# Check which server we're on (in case the data is in different places on different servers)\n",
    "import socket\n",
    "hostname = socket.gethostname()\n",
    "\n",
    "# Get paths to data\n",
    "if hostname == \"blpc1\" or hostname == \"blpc2\":\n",
    "    full_dataset_path = \"/datax/scratch/nstieg/25GHz_higher.pkl\"\n",
    "    coherent_dataset_path = \"/datax/scratch/nstieg/25GHz_higher_coherent.pkl\"\n",
    "    incoherent_dataset_path = \"/datax/scratch/nstieg/25GHz_higher_incoherent.pkl\"\n",
    "else:\n",
    "    raise Exception(\"Data path not known\")\n",
    "\n",
    "# Read in data\n",
    "coherent = pd.read_pickle(coherent_dataset_path)\n",
    "# incoherent = pd.read_pickle(incoherent_dataset_path)\n",
    "# df = pd.read_pickle(full_dataset_path)"
   ]
  },
  {
   "cell_type": "markdown",
   "metadata": {},
   "source": [
    "### Look for hits within each source which are at the same frequencies"
   ]
  },
  {
   "cell_type": "code",
   "execution_count": 48,
   "metadata": {},
   "outputs": [],
   "source": [
    "# Set the threshold distance in hz to call two hits 'adjacent' and record their relative distances\n",
    "threshold_hz = 1000\n",
    "threshold = threshold_hz * 1e-6 # in MHz"
   ]
  },
  {
   "cell_type": "markdown",
   "metadata": {},
   "source": [
    "##### Setup Algorithm"
   ]
  },
  {
   "cell_type": "code",
   "execution_count": 49,
   "metadata": {},
   "outputs": [],
   "source": [
    "# Find adjacent points (like algorithm described above)\n",
    "# data: pandas series with reset index (index goes 0...n-1 consecutively)\n",
    "# window_width: width of window to find adjacency in same units as data (ie MHz and MHz)\n",
    "# Returns:\n",
    "# (distances, mask) tuple\n",
    "# distances is a scipy sparse lil_array of float distances between adjacent points\n",
    "# mask is a scipy sparse lil_array of booleans indicating whether \n",
    "def find_adjacent_distances(data, window_width):\n",
    "    # Sort the data by frequency\n",
    "    sdata = data.sort_values() # sfs is sorted frequencies\n",
    "    # Make sure to keep track of the original indices\n",
    "    original_indices = sdata.index # Maps index in sfs to index in fs\n",
    "\n",
    "    # Setup empty arrays, indices are original indices of data\n",
    "    num_hits = len(data)\n",
    "    mask = lil_array((num_hits, num_hits), dtype=bool) \n",
    "    distances = lil_array((num_hits, num_hits), dtype=np.float32) \n",
    "\n",
    "    # Find which hits are adjacent in order. Stop if we find one that isn't\n",
    "    for i, datum in enumerate(sdata):\n",
    "        j = i + 1 # Index of point to compare to\n",
    "        while ((j < num_hits) and # Don't index off the end of the array\n",
    "               (abs(sdata.iloc[j] - datum) <= window_width)): \n",
    "            # Find coordinates in the non-sorted list\n",
    "            u = original_indices[i]\n",
    "            v = original_indices[j]\n",
    "\n",
    "            # Make sure it's upper triangular (might have to flip over diagonal)\n",
    "            if u > v: u, v = v, u # swap u and v\n",
    "            \n",
    "            # Set elements in matrix\n",
    "            mask[u, v] = True\n",
    "            distances[u, v] = abs(sdata.iloc[j] - datum)\n",
    "\n",
    "            # Check next point\n",
    "            j += 1\n",
    "\n",
    "    # Return data\n",
    "    return distances, mask"
   ]
  },
  {
   "cell_type": "markdown",
   "metadata": {},
   "source": [
    "##### Find Adjacent Hits"
   ]
  },
  {
   "cell_type": "code",
   "execution_count": 50,
   "metadata": {},
   "outputs": [],
   "source": [
    "# Find adjacent his within data for each source individually\n",
    "path = \"/home/nstieg/BL-COSMIC-2024-proj/frequency_adjacency/adjacent_in_each_source/\" # Place to save arrays\n",
    "grouped = coherent.groupby('source_name')\n",
    "for source, source_data in grouped:\n",
    "    # Check if we've already done this one\n",
    "    distances_file_path = path + f'{source}_within_{round(threshold_hz)}hz.distances.npz'\n",
    "    mask_file_path = path + f'{source}_within_{round(threshold_hz)}hz.mask.npz'\n",
    "    if not (os.path.exists(distances_file_path) and os.path.exists(mask_file_path)):\n",
    "        # Log progress\n",
    "        print(f\"Starting source [{source}]\")\n",
    "        \n",
    "        # Compute results\n",
    "        frequencies = source_data[\"signal_frequency\"].copy().reset_index(drop=True)\n",
    "        distances, mask = find_adjacent_distances(frequencies, threshold)\n",
    "        \n",
    "        # Save results to file\n",
    "        save_npz(distances_file_path, csr_array(distances))\n",
    "        save_npz(mask_file_path, csr_array(mask))dd"
   ]
  }
 ],
 "metadata": {
  "kernelspec": {
   "display_name": "cosmic",
   "language": "python",
   "name": "python3"
  },
  "language_info": {
   "codemirror_mode": {
    "name": "ipython",
    "version": 3
   },
   "file_extension": ".py",
   "mimetype": "text/x-python",
   "name": "python",
   "nbconvert_exporter": "python",
   "pygments_lexer": "ipython3",
   "version": "3.8.0"
  }
 },
 "nbformat": 4,
 "nbformat_minor": 2
}
