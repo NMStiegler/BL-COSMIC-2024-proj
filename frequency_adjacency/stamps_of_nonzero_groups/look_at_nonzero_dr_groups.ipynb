{
 "cells": [
  {
   "cell_type": "markdown",
   "metadata": {},
   "source": []
  },
  {
   "cell_type": "markdown",
   "metadata": {},
   "source": [
    "### Setup"
   ]
  },
  {
   "cell_type": "code",
   "execution_count": 1,
   "metadata": {},
   "outputs": [
    {
     "name": "stderr",
     "output_type": "stream",
     "text": [
      "kj/filesystem-disk-unix.c++:1703: warning: PWD environment variable doesn't match current directory; pwd = /home/nstiegle\n"
     ]
    }
   ],
   "source": [
    "# Import packages needed\n",
    "import numpy as np\n",
    "import pandas as pd\n",
    "import pickle\n",
    "import os\n",
    "os.environ[\"H5PY_DEFAULT_READONLY\"] = \"1\" # Surpress h5py deprecation warnings\n",
    "import socket\n",
    "from datetime import datetime\n",
    "from seticore import viewer # If you don't have it, use pip install \"git+https://github.com/MydonSolutions/seticore#egg=seticore&subdirectory=python\"\n",
    "import matplotlib.pyplot as plt"
   ]
  },
  {
   "cell_type": "code",
   "execution_count": 2,
   "metadata": {},
   "outputs": [
    {
     "name": "stdout",
     "output_type": "stream",
     "text": [
      "(4, 17)\n"
     ]
    }
   ],
   "source": [
    "# Load in the information of the hits we want to look at\n",
    "df = pd.read_csv(\"/home/nstiegle/BL-COSMIC-2024-proj/frequency_adjacency/stamps_of_large_dr/large_dr.csv\")\n",
    "print(df.shape)"
   ]
  },
  {
   "cell_type": "code",
   "execution_count": 3,
   "metadata": {},
   "outputs": [],
   "source": [
    "# Look for the stamp in a single stamp file\n",
    "# Assumes the stamp_uri exists \n",
    "def find_stamp_in_single_file(stamp_uri, hit_frequency, threshold):\n",
    "    # Check each stamp in the file to see if it matches\n",
    "    stamps_gen = viewer.read_stamps(stamp_uri, find_recipe=True)\n",
    "    for i, stamp in enumerate(stamps_gen):\n",
    "        assert(stamp != None)\n",
    "        assert(stamp.recipe != None)\n",
    "        if abs(stamp.stamp.signal.frequency - hit_frequency) < threshold*1e-6:\n",
    "            # Found the stamp!\n",
    "            return i, stamp\n",
    "    \n",
    "    # Didn't find the stamp in this whole file of stamps\n",
    "    return None, None\n",
    "\n",
    "# Given a stamp_uri, increments the index of the stamp file by one (so if it's /.../...seticore.0000.stamps it goes to /.../...seticore.0001.stamps)\n",
    "def increment_stamp_uri(stamp_uri):\n",
    "    split_uri = stamp_uri.split('.')\n",
    "    assert(split_uri[-1] == 'stamps')\n",
    "    num = int(split_uri[-2])\n",
    "    num += 1\n",
    "    split_uri[-2] = str(num).zfill(4)\n",
    "    return \".\".join(split_uri)\n",
    "\n",
    "# Finds where the stamp of a given hit is\n",
    "# Takes:\n",
    "# - stamp URI (of stamp file)\n",
    "# - the frequency the hit occurred at\n",
    "# - The width of the stamp file (distance in Hz from center of stamp file to hit_frequency to call hit in stamp file)\n",
    "# Returns stamp_uri, index_in_stamp_file if found, otherwise None, None\n",
    "def find_stamp_location_helper(stamp_uri, hit_frequency, threshold):\n",
    "    # Check stamp file passed in exists\n",
    "    if not os.path.exists(stamp_uri):\n",
    "        return None, None\n",
    "    \n",
    "    # Look for stamp in the stamp file given\n",
    "    index, stamp = find_stamp_in_single_file(stamp_uri, hit_frequency, threshold)\n",
    "    if (index != None) and (stamp != None):\n",
    "        return stamp_uri, index\n",
    "    else:\n",
    "        # Check if there's another stamp file (because stamps can get split up into multiple files)\n",
    "        return find_stamp_location_helper(increment_stamp_uri(stamp_uri), hit_frequency, threshold)\n",
    "\n",
    "# Finds where the stamp of a given hit is\n",
    "# Takes:\n",
    "# - hit URI (of .hits file)\n",
    "# - the frequency the hit occurred at\n",
    "# - The width of the stamp file (distance in Hz from center of stamp file to hit_frequency to call hit in stamp file)\n",
    "# Returns stamp_uri, index_in_stamp_file if found, otherwise None, None\n",
    "def find_stamp_location(hit_uri, hit_frequency, threshold=500):\n",
    "    # Convert a filepath from pointing to a .hits\n",
    "    # to a .stamps file for the same uri\n",
    "    # If given a .stamps ending, doesn't change it\n",
    "    def stamp_filepath_of(hits_filepath):\n",
    "        return hits_filepath.replace('.hits', '.0000.stamps')\n",
    "\n",
    "    return find_stamp_location_helper(stamp_filepath_of(hit_uri), hit_frequency, threshold)"
   ]
  },
  {
   "cell_type": "markdown",
   "metadata": {},
   "source": [
    "### Look at stamps"
   ]
  },
  {
   "cell_type": "code",
   "execution_count": 4,
   "metadata": {},
   "outputs": [],
   "source": [
    "# Find the stamp_uri and the index in the stamp for each hit\n",
    "stamp_uris = []\n",
    "indices_in_stamps = []\n",
    "for i, row in df.iterrows():\n",
    "    stamp_uri, index_in_stamp = find_stamp_location(row.file_uri, row.signal_frequency)\n",
    "    stamp_uris.append(stamp_uri)\n",
    "    indices_in_stamps.append(index_in_stamp)\n",
    "\n",
    "df[\"stamp_uri\"] = stamp_uris\n",
    "df[\"stamp_index\"] = indices_in_stamps"
   ]
  },
  {
   "cell_type": "code",
   "execution_count": 5,
   "metadata": {},
   "outputs": [],
   "source": [
    "# Get the first stamp just to look at \n",
    "i = 0\n",
    "stamps = [stamp for stamp in viewer.read_stamps(df[\"stamp_uri\"][i], find_recipe=True)]\n",
    "stamp = stamps[df[\"stamp_index\"][i]]\n",
    "assert(stamp != None)\n",
    "assert(stamp.recipe != None)\n",
    "# stamp.show_antennas() # It's big - single antenna RFI :("
   ]
  },
  {
   "cell_type": "code",
   "execution_count": 14,
   "metadata": {},
   "outputs": [
    {
     "name": "stdout",
     "output_type": "stream",
     "text": [
      "best beam is 0\n",
      "original power: 7.383181e+11\n",
      "original SNR: 10.103474617004395\n",
      "recalculated power: 7.372516e+11\n",
      "local SNR: 3.9551799861154278\n",
      "recalculated power: 4.259775e+11\n",
      "local SNR: 0.07658414605458888\n",
      "best beam is 0\n",
      "original power: 7.367260e+11\n",
      "original SNR: 9.982062339782715\n",
      "recalculated power: 7.321475e+11\n",
      "local SNR: 5.602941063635161\n",
      "recalculated power: 4.263796e+11\n",
      "local SNR: -0.2724950694458295\n",
      "best beam is 0\n",
      "original power: 7.924015e+11\n",
      "original SNR: 8.030517578125\n",
      "recalculated power: 7.898029e+11\n",
      "local SNR: 4.8172651195113385\n",
      "recalculated power: 3.468262e+11\n",
      "local SNR: -7.463145193543048\n",
      "best beam is 0\n",
      "original power: 8.004268e+11\n",
      "original SNR: 8.117437362670898\n",
      "recalculated power: 7.780030e+11\n",
      "local SNR: 6.439150231031547\n",
      "recalculated power: 3.562541e+11\n",
      "local SNR: -4.49038656242332\n"
     ]
    }
   ],
   "source": [
    "# Let's go through and save out these plots for each stamp so I can look at them\n",
    "for i in range(len(df)):\n",
    "    stamps = [stamp for stamp in viewer.read_stamps(df[\"stamp_uri\"][i], find_recipe=True)]\n",
    "    stamp = stamps[df[\"stamp_index\"][i]]\n",
    "    assert(stamp != None)\n",
    "    assert(stamp.recipe != None)\n",
    "    stamp.show_antennas(show_signal=True, title=f\"Stamp {i}\", save_to=f\"/home/nstiegle/BL-COSMIC-2024-proj/frequency_adjacency/stamps_of_large_dr/stamp_{i}.png\")\n",
    "    stamp.show_best_beam(show_signal=True, title=f\"Stamp {i} best beam\", save_to=f\"/home/nstiegle/BL-COSMIC-2024-proj/frequency_adjacency/stamps_of_large_dr/stamp_{i}_best_beam.png\")\n",
    "    stamp.show_classic_incoherent(show_signal=True, title=f\"Stamp {i} incoherent\", save_to=f\"/home/nstiegle/BL-COSMIC-2024-proj/frequency_adjacency/stamps_of_large_dr/stamp_{i}_incoherent.png\")"
   ]
  },
  {
   "cell_type": "code",
   "execution_count": null,
   "metadata": {},
   "outputs": [],
   "source": []
  }
 ],
 "metadata": {
  "kernelspec": {
   "display_name": "stamp_viewer",
   "language": "python",
   "name": "python3"
  },
  "language_info": {
   "codemirror_mode": {
    "name": "ipython",
    "version": 3
   },
   "file_extension": ".py",
   "mimetype": "text/x-python",
   "name": "python",
   "nbconvert_exporter": "python",
   "pygments_lexer": "ipython3",
   "version": "3.7.8"
  }
 },
 "nbformat": 4,
 "nbformat_minor": 2
}
